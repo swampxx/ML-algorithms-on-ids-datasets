{
  "nbformat": 4,
  "nbformat_minor": 0,
  "metadata": {
    "kernelspec": {
      "display_name": "Python 3",
      "language": "python",
      "name": "python3"
    },
    "language_info": {
      "codemirror_mode": {
        "name": "ipython",
        "version": 3
      },
      "file_extension": ".py",
      "mimetype": "text/x-python",
      "name": "python",
      "nbconvert_exporter": "python",
      "pygments_lexer": "ipython3",
      "version": "3.6.9"
    },
    "colab": {
      "name": "ids2018-wednesday-preprocessing.ipynb",
      "provenance": [],
      "include_colab_link": true
    }
  },
  "cells": [
    {
      "cell_type": "markdown",
      "metadata": {
        "id": "view-in-github",
        "colab_type": "text"
      },
      "source": [
        "<a href=\"https://colab.research.google.com/github/swampxx/ML-algorithms-on-ids-datasets/blob/master/ids2018_wednesday_preprocessing.ipynb\" target=\"_parent\"><img src=\"https://colab.research.google.com/assets/colab-badge.svg\" alt=\"Open In Colab\"/></a>"
      ]
    },
    {
      "cell_type": "code",
      "metadata": {
        "id": "cc5ZseaTqsMy",
        "colab_type": "code",
        "colab": {}
      },
      "source": [
        "import numpy as np\n",
        "import pandas as pd\n",
        "\n",
        "from sklearn.model_selection import train_test_split\n",
        "from sklearn.preprocessing import MinMaxScaler, StandardScaler\n",
        "from sklearn.feature_selection import SelectKBest\n",
        "from sklearn.feature_selection import chi2, f_classif\n",
        "from sklearn.feature_selection import SelectFromModel\n",
        "from sklearn.ensemble import RandomForestClassifier"
      ],
      "execution_count": null,
      "outputs": []
    },
    {
      "cell_type": "code",
      "metadata": {
        "scrolled": true,
        "id": "MdBi5JBVqsNI",
        "colab_type": "code",
        "colab": {}
      },
      "source": [
        "df = pd.read_csv(\"ids_2018_thursday.csv\")"
      ],
      "execution_count": null,
      "outputs": []
    },
    {
      "cell_type": "code",
      "metadata": {
        "scrolled": true,
        "id": "Iqw3dRqKqsNX",
        "colab_type": "code",
        "colab": {},
        "outputId": "268ffd82-dd71-4bbd-c7b5-d91151a1c99a"
      },
      "source": [
        "df.info(verbose=True)"
      ],
      "execution_count": null,
      "outputs": [
        {
          "output_type": "stream",
          "text": [
            "<class 'pandas.core.frame.DataFrame'>\n",
            "RangeIndex: 1048575 entries, 0 to 1048574\n",
            "Data columns (total 80 columns):\n",
            " #   Column             Non-Null Count    Dtype  \n",
            "---  ------             --------------    -----  \n",
            " 0   Dst Port           1048575 non-null  int64  \n",
            " 1   Protocol           1048575 non-null  int64  \n",
            " 2   Timestamp          1048575 non-null  object \n",
            " 3   Flow Duration      1048575 non-null  int64  \n",
            " 4   Tot Fwd Pkts       1048575 non-null  int64  \n",
            " 5   Tot Bwd Pkts       1048575 non-null  int64  \n",
            " 6   TotLen Fwd Pkts    1048575 non-null  int64  \n",
            " 7   TotLen Bwd Pkts    1048575 non-null  int64  \n",
            " 8   Fwd Pkt Len Max    1048575 non-null  int64  \n",
            " 9   Fwd Pkt Len Min    1048575 non-null  int64  \n",
            " 10  Fwd Pkt Len Mean   1048575 non-null  float64\n",
            " 11  Fwd Pkt Len Std    1048575 non-null  float64\n",
            " 12  Bwd Pkt Len Max    1048575 non-null  int64  \n",
            " 13  Bwd Pkt Len Min    1048575 non-null  int64  \n",
            " 14  Bwd Pkt Len Mean   1048575 non-null  float64\n",
            " 15  Bwd Pkt Len Std    1048575 non-null  float64\n",
            " 16  Flow Byts/s        1043654 non-null  float64\n",
            " 17  Flow Pkts/s        1048575 non-null  float64\n",
            " 18  Flow IAT Mean      1048575 non-null  float64\n",
            " 19  Flow IAT Std       1048575 non-null  float64\n",
            " 20  Flow IAT Max       1048575 non-null  int64  \n",
            " 21  Flow IAT Min       1048575 non-null  int64  \n",
            " 22  Fwd IAT Tot        1048575 non-null  int64  \n",
            " 23  Fwd IAT Mean       1048575 non-null  float64\n",
            " 24  Fwd IAT Std        1048575 non-null  float64\n",
            " 25  Fwd IAT Max        1048575 non-null  int64  \n",
            " 26  Fwd IAT Min        1048575 non-null  int64  \n",
            " 27  Bwd IAT Tot        1048575 non-null  int64  \n",
            " 28  Bwd IAT Mean       1048575 non-null  float64\n",
            " 29  Bwd IAT Std        1048575 non-null  float64\n",
            " 30  Bwd IAT Max        1048575 non-null  int64  \n",
            " 31  Bwd IAT Min        1048575 non-null  int64  \n",
            " 32  Fwd PSH Flags      1048575 non-null  int64  \n",
            " 33  Bwd PSH Flags      1048575 non-null  int64  \n",
            " 34  Fwd URG Flags      1048575 non-null  int64  \n",
            " 35  Bwd URG Flags      1048575 non-null  int64  \n",
            " 36  Fwd Header Len     1048575 non-null  int64  \n",
            " 37  Bwd Header Len     1048575 non-null  int64  \n",
            " 38  Fwd Pkts/s         1048575 non-null  float64\n",
            " 39  Bwd Pkts/s         1048575 non-null  float64\n",
            " 40  Pkt Len Min        1048575 non-null  int64  \n",
            " 41  Pkt Len Max        1048575 non-null  int64  \n",
            " 42  Pkt Len Mean       1048575 non-null  float64\n",
            " 43  Pkt Len Std        1048575 non-null  float64\n",
            " 44  Pkt Len Var        1048575 non-null  float64\n",
            " 45  FIN Flag Cnt       1048575 non-null  int64  \n",
            " 46  SYN Flag Cnt       1048575 non-null  int64  \n",
            " 47  RST Flag Cnt       1048575 non-null  int64  \n",
            " 48  PSH Flag Cnt       1048575 non-null  int64  \n",
            " 49  ACK Flag Cnt       1048575 non-null  int64  \n",
            " 50  URG Flag Cnt       1048575 non-null  int64  \n",
            " 51  CWE Flag Count     1048575 non-null  int64  \n",
            " 52  ECE Flag Cnt       1048575 non-null  int64  \n",
            " 53  Down/Up Ratio      1048575 non-null  int64  \n",
            " 54  Pkt Size Avg       1048575 non-null  float64\n",
            " 55  Fwd Seg Size Avg   1048575 non-null  float64\n",
            " 56  Bwd Seg Size Avg   1048575 non-null  float64\n",
            " 57  Fwd Byts/b Avg     1048575 non-null  int64  \n",
            " 58  Fwd Pkts/b Avg     1048575 non-null  int64  \n",
            " 59  Fwd Blk Rate Avg   1048575 non-null  int64  \n",
            " 60  Bwd Byts/b Avg     1048575 non-null  int64  \n",
            " 61  Bwd Pkts/b Avg     1048575 non-null  int64  \n",
            " 62  Bwd Blk Rate Avg   1048575 non-null  int64  \n",
            " 63  Subflow Fwd Pkts   1048575 non-null  int64  \n",
            " 64  Subflow Fwd Byts   1048575 non-null  int64  \n",
            " 65  Subflow Bwd Pkts   1048575 non-null  int64  \n",
            " 66  Subflow Bwd Byts   1048575 non-null  int64  \n",
            " 67  Init Fwd Win Byts  1048575 non-null  int64  \n",
            " 68  Init Bwd Win Byts  1048575 non-null  int64  \n",
            " 69  Fwd Act Data Pkts  1048575 non-null  int64  \n",
            " 70  Fwd Seg Size Min   1048575 non-null  int64  \n",
            " 71  Active Mean        1048575 non-null  float64\n",
            " 72  Active Std         1048575 non-null  float64\n",
            " 73  Active Max         1048575 non-null  int64  \n",
            " 74  Active Min         1048575 non-null  int64  \n",
            " 75  Idle Mean          1048575 non-null  float64\n",
            " 76  Idle Std           1048575 non-null  float64\n",
            " 77  Idle Max           1048575 non-null  int64  \n",
            " 78  Idle Min           1048575 non-null  int64  \n",
            " 79  Label              1048575 non-null  object \n",
            "dtypes: float64(24), int64(54), object(2)\n",
            "memory usage: 640.0+ MB\n"
          ],
          "name": "stdout"
        }
      ]
    },
    {
      "cell_type": "code",
      "metadata": {
        "id": "wteE4cbeqsNj",
        "colab_type": "code",
        "colab": {},
        "outputId": "5a2e3d83-035d-4fff-ca65-16f22cb2d528"
      },
      "source": [
        "df['Protocol'].value_counts()"
      ],
      "execution_count": null,
      "outputs": [
        {
          "output_type": "execute_result",
          "data": {
            "text/plain": [
              "6     684486\n",
              "17    345524\n",
              "0      18565\n",
              "Name: Protocol, dtype: int64"
            ]
          },
          "metadata": {
            "tags": []
          },
          "execution_count": 4
        }
      ]
    },
    {
      "cell_type": "code",
      "metadata": {
        "scrolled": true,
        "id": "WCn1dHE2qsNt",
        "colab_type": "code",
        "colab": {},
        "outputId": "689c5c6a-b925-4138-9660-6b554813bd32"
      },
      "source": [
        "df[\"Flow Pkts/s\"] = pd.to_numeric(df[\"Flow Pkts/s\"], errors='coerce')\n",
        "df.loc[df['Protocol'] == \"6\", 'Protocol'] = 6\n",
        "df.loc[df['Protocol'] == \"17\", 'Protocol'] = 17\n",
        "df.loc[df['Protocol'] == \"0\", 'Protocol'] = 0\n",
        "df.dropna(inplace=True)\n",
        "df.drop('Timestamp', axis=1, inplace=True)\n",
        "df.info(verbose=True)"
      ],
      "execution_count": null,
      "outputs": [
        {
          "output_type": "stream",
          "text": [
            "/home/swampx/.venvs/security/lib/python3.6/site-packages/pandas/core/ops/array_ops.py:253: FutureWarning: elementwise comparison failed; returning scalar instead, but in the future will perform elementwise comparison\n",
            "  res_values = method(rvalues)\n"
          ],
          "name": "stderr"
        },
        {
          "output_type": "stream",
          "text": [
            "<class 'pandas.core.frame.DataFrame'>\n",
            "Int64Index: 1043654 entries, 0 to 1048574\n",
            "Data columns (total 79 columns):\n",
            " #   Column             Non-Null Count    Dtype  \n",
            "---  ------             --------------    -----  \n",
            " 0   Dst Port           1043654 non-null  int64  \n",
            " 1   Protocol           1043654 non-null  int64  \n",
            " 2   Flow Duration      1043654 non-null  int64  \n",
            " 3   Tot Fwd Pkts       1043654 non-null  int64  \n",
            " 4   Tot Bwd Pkts       1043654 non-null  int64  \n",
            " 5   TotLen Fwd Pkts    1043654 non-null  int64  \n",
            " 6   TotLen Bwd Pkts    1043654 non-null  int64  \n",
            " 7   Fwd Pkt Len Max    1043654 non-null  int64  \n",
            " 8   Fwd Pkt Len Min    1043654 non-null  int64  \n",
            " 9   Fwd Pkt Len Mean   1043654 non-null  float64\n",
            " 10  Fwd Pkt Len Std    1043654 non-null  float64\n",
            " 11  Bwd Pkt Len Max    1043654 non-null  int64  \n",
            " 12  Bwd Pkt Len Min    1043654 non-null  int64  \n",
            " 13  Bwd Pkt Len Mean   1043654 non-null  float64\n",
            " 14  Bwd Pkt Len Std    1043654 non-null  float64\n",
            " 15  Flow Byts/s        1043654 non-null  float64\n",
            " 16  Flow Pkts/s        1043654 non-null  float64\n",
            " 17  Flow IAT Mean      1043654 non-null  float64\n",
            " 18  Flow IAT Std       1043654 non-null  float64\n",
            " 19  Flow IAT Max       1043654 non-null  int64  \n",
            " 20  Flow IAT Min       1043654 non-null  int64  \n",
            " 21  Fwd IAT Tot        1043654 non-null  int64  \n",
            " 22  Fwd IAT Mean       1043654 non-null  float64\n",
            " 23  Fwd IAT Std        1043654 non-null  float64\n",
            " 24  Fwd IAT Max        1043654 non-null  int64  \n",
            " 25  Fwd IAT Min        1043654 non-null  int64  \n",
            " 26  Bwd IAT Tot        1043654 non-null  int64  \n",
            " 27  Bwd IAT Mean       1043654 non-null  float64\n",
            " 28  Bwd IAT Std        1043654 non-null  float64\n",
            " 29  Bwd IAT Max        1043654 non-null  int64  \n",
            " 30  Bwd IAT Min        1043654 non-null  int64  \n",
            " 31  Fwd PSH Flags      1043654 non-null  int64  \n",
            " 32  Bwd PSH Flags      1043654 non-null  int64  \n",
            " 33  Fwd URG Flags      1043654 non-null  int64  \n",
            " 34  Bwd URG Flags      1043654 non-null  int64  \n",
            " 35  Fwd Header Len     1043654 non-null  int64  \n",
            " 36  Bwd Header Len     1043654 non-null  int64  \n",
            " 37  Fwd Pkts/s         1043654 non-null  float64\n",
            " 38  Bwd Pkts/s         1043654 non-null  float64\n",
            " 39  Pkt Len Min        1043654 non-null  int64  \n",
            " 40  Pkt Len Max        1043654 non-null  int64  \n",
            " 41  Pkt Len Mean       1043654 non-null  float64\n",
            " 42  Pkt Len Std        1043654 non-null  float64\n",
            " 43  Pkt Len Var        1043654 non-null  float64\n",
            " 44  FIN Flag Cnt       1043654 non-null  int64  \n",
            " 45  SYN Flag Cnt       1043654 non-null  int64  \n",
            " 46  RST Flag Cnt       1043654 non-null  int64  \n",
            " 47  PSH Flag Cnt       1043654 non-null  int64  \n",
            " 48  ACK Flag Cnt       1043654 non-null  int64  \n",
            " 49  URG Flag Cnt       1043654 non-null  int64  \n",
            " 50  CWE Flag Count     1043654 non-null  int64  \n",
            " 51  ECE Flag Cnt       1043654 non-null  int64  \n",
            " 52  Down/Up Ratio      1043654 non-null  int64  \n",
            " 53  Pkt Size Avg       1043654 non-null  float64\n",
            " 54  Fwd Seg Size Avg   1043654 non-null  float64\n",
            " 55  Bwd Seg Size Avg   1043654 non-null  float64\n",
            " 56  Fwd Byts/b Avg     1043654 non-null  int64  \n",
            " 57  Fwd Pkts/b Avg     1043654 non-null  int64  \n",
            " 58  Fwd Blk Rate Avg   1043654 non-null  int64  \n",
            " 59  Bwd Byts/b Avg     1043654 non-null  int64  \n",
            " 60  Bwd Pkts/b Avg     1043654 non-null  int64  \n",
            " 61  Bwd Blk Rate Avg   1043654 non-null  int64  \n",
            " 62  Subflow Fwd Pkts   1043654 non-null  int64  \n",
            " 63  Subflow Fwd Byts   1043654 non-null  int64  \n",
            " 64  Subflow Bwd Pkts   1043654 non-null  int64  \n",
            " 65  Subflow Bwd Byts   1043654 non-null  int64  \n",
            " 66  Init Fwd Win Byts  1043654 non-null  int64  \n",
            " 67  Init Bwd Win Byts  1043654 non-null  int64  \n",
            " 68  Fwd Act Data Pkts  1043654 non-null  int64  \n",
            " 69  Fwd Seg Size Min   1043654 non-null  int64  \n",
            " 70  Active Mean        1043654 non-null  float64\n",
            " 71  Active Std         1043654 non-null  float64\n",
            " 72  Active Max         1043654 non-null  int64  \n",
            " 73  Active Min         1043654 non-null  int64  \n",
            " 74  Idle Mean          1043654 non-null  float64\n",
            " 75  Idle Std           1043654 non-null  float64\n",
            " 76  Idle Max           1043654 non-null  int64  \n",
            " 77  Idle Min           1043654 non-null  int64  \n",
            " 78  Label              1043654 non-null  object \n",
            "dtypes: float64(24), int64(54), object(1)\n",
            "memory usage: 637.0+ MB\n"
          ],
          "name": "stdout"
        }
      ]
    },
    {
      "cell_type": "code",
      "metadata": {
        "id": "SuIucWScqsN4",
        "colab_type": "code",
        "colab": {},
        "outputId": "84717b2e-cb15-4a00-e1a9-c625441ffe2d"
      },
      "source": [
        "df.Label.value_counts()"
      ],
      "execution_count": null,
      "outputs": [
        {
          "output_type": "execute_result",
          "data": {
            "text/plain": [
              "Benign                   991156\n",
              "DoS attacks-GoldenEye     41508\n",
              "DoS attacks-Slowloris     10990\n",
              "Name: Label, dtype: int64"
            ]
          },
          "metadata": {
            "tags": []
          },
          "execution_count": 6
        }
      ]
    },
    {
      "cell_type": "code",
      "metadata": {
        "id": "ewOsLw3lqsOA",
        "colab_type": "code",
        "colab": {}
      },
      "source": [
        "train_df = df.groupby('Label').apply(pd.DataFrame.sample, frac=0.8).reset_index(level='Label', drop=True)\n",
        "test_df = df.drop(train_df.index)"
      ],
      "execution_count": null,
      "outputs": []
    },
    {
      "cell_type": "code",
      "metadata": {
        "id": "0STiAO3HqsOH",
        "colab_type": "code",
        "colab": {},
        "outputId": "552f9a85-1e17-4984-dc72-90dcdb83ad2b"
      },
      "source": [
        "train_df.Label.value_counts()"
      ],
      "execution_count": null,
      "outputs": [
        {
          "output_type": "execute_result",
          "data": {
            "text/plain": [
              "Benign                   792925\n",
              "DoS attacks-GoldenEye     33206\n",
              "DoS attacks-Slowloris      8792\n",
              "Name: Label, dtype: int64"
            ]
          },
          "metadata": {
            "tags": []
          },
          "execution_count": 8
        }
      ]
    },
    {
      "cell_type": "code",
      "metadata": {
        "scrolled": false,
        "id": "0vVD3758qsOO",
        "colab_type": "code",
        "colab": {},
        "outputId": "4c761fc3-4c8c-4743-8869-8b06e1e942b8"
      },
      "source": [
        "train_df.count()"
      ],
      "execution_count": null,
      "outputs": [
        {
          "output_type": "execute_result",
          "data": {
            "text/plain": [
              "Dst Port         834923\n",
              "Protocol         834923\n",
              "Flow Duration    834923\n",
              "Tot Fwd Pkts     834923\n",
              "Tot Bwd Pkts     834923\n",
              "                  ...  \n",
              "Idle Mean        834923\n",
              "Idle Std         834923\n",
              "Idle Max         834923\n",
              "Idle Min         834923\n",
              "Label            834923\n",
              "Length: 79, dtype: int64"
            ]
          },
          "metadata": {
            "tags": []
          },
          "execution_count": 9
        }
      ]
    },
    {
      "cell_type": "code",
      "metadata": {
        "id": "1g_6L8E7qsOV",
        "colab_type": "code",
        "colab": {},
        "outputId": "0cfd1cef-87de-4af4-c69b-9bcfdb3ff43d"
      },
      "source": [
        "test_df.count()"
      ],
      "execution_count": null,
      "outputs": [
        {
          "output_type": "execute_result",
          "data": {
            "text/plain": [
              "Dst Port         208731\n",
              "Protocol         208731\n",
              "Flow Duration    208731\n",
              "Tot Fwd Pkts     208731\n",
              "Tot Bwd Pkts     208731\n",
              "                  ...  \n",
              "Idle Mean        208731\n",
              "Idle Std         208731\n",
              "Idle Max         208731\n",
              "Idle Min         208731\n",
              "Label            208731\n",
              "Length: 79, dtype: int64"
            ]
          },
          "metadata": {
            "tags": []
          },
          "execution_count": 10
        }
      ]
    },
    {
      "cell_type": "code",
      "metadata": {
        "id": "xOCUM7gSqsOd",
        "colab_type": "code",
        "colab": {}
      },
      "source": [
        "def process_df(dataFrame):\n",
        "    df1 = dataFrame.replace('Benign', 0).replace('Infilteration', 1)\n",
        "    df1['Protocol'] = df1['Protocol'].astype(\"category\")\n",
        "    one_hot = pd.get_dummies(df1[\"Protocol\"], prefix=\"Protocol\")\n",
        "    df1 = df1.drop(\"Protocol\", axis=1)\n",
        "    df1 = df1.join(one_hot)\n",
        "    res = df1[~df1.isin([np.nan, np.inf, -np.inf]).any(1)]\n",
        "\n",
        "    return res"
      ],
      "execution_count": null,
      "outputs": []
    },
    {
      "cell_type": "code",
      "metadata": {
        "id": "W-60mUZHqsOk",
        "colab_type": "code",
        "colab": {}
      },
      "source": [
        "train_set = process_df(train_df)\n",
        "train_labels = train_set.Label.copy()\n",
        "train_set.drop('Label', axis=1, inplace=True)\n",
        "\n",
        "\n",
        "test_set = process_df(test_df)\n",
        "test_labels = test_set.Label.copy()\n",
        "test_set.drop('Label', axis=1, inplace=True)"
      ],
      "execution_count": null,
      "outputs": []
    },
    {
      "cell_type": "code",
      "metadata": {
        "id": "eLddbzqCqsOq",
        "colab_type": "code",
        "colab": {}
      },
      "source": [
        "train_set = train_set.astype(np.float64)\n",
        "test_set = test_set.astype(np.float64)"
      ],
      "execution_count": null,
      "outputs": []
    },
    {
      "cell_type": "code",
      "metadata": {
        "id": "_FJCI0qjqsOx",
        "colab_type": "code",
        "colab": {}
      },
      "source": [
        "X, y = train_set.values, train_labels.values\n",
        "X_test, y_test = test_set.values, test_labels.values"
      ],
      "execution_count": null,
      "outputs": []
    },
    {
      "cell_type": "code",
      "metadata": {
        "id": "icB_JTyaqsO3",
        "colab_type": "code",
        "colab": {}
      },
      "source": [
        "rf = RandomForestClassifier()\n",
        "rf.fit(X, y)"
      ],
      "execution_count": null,
      "outputs": []
    },
    {
      "cell_type": "code",
      "metadata": {
        "id": "qUOiBmmLqsO_",
        "colab_type": "code",
        "colab": {}
      },
      "source": [
        "pred = rf.predict(X_test)\n",
        "from sklearn.metrics import accuracy_score, precision_score, recall_score\n",
        "recall_score(y_test, pred)"
      ],
      "execution_count": null,
      "outputs": []
    },
    {
      "cell_type": "markdown",
      "metadata": {
        "id": "un1jVOD-qsPD",
        "colab_type": "text"
      },
      "source": [
        "## Feature Selection\n"
      ]
    },
    {
      "cell_type": "markdown",
      "metadata": {
        "id": "NyVsH6NzqsPF",
        "colab_type": "text"
      },
      "source": [
        "### With SelectKBest and f_classif"
      ]
    },
    {
      "cell_type": "code",
      "metadata": {
        "id": "pInEoydpqsPF",
        "colab_type": "code",
        "colab": {}
      },
      "source": [
        "featureSelector = SelectKBest(f_classif, k=30)\n",
        "X_new = featureSelector.fit_transform(X, y)\n",
        "features = train_set.columns[featureSelector.get_support(indices=True)]"
      ],
      "execution_count": null,
      "outputs": []
    },
    {
      "cell_type": "code",
      "metadata": {
        "id": "jTr-8IGgqsPK",
        "colab_type": "code",
        "colab": {}
      },
      "source": [
        "print(features)"
      ],
      "execution_count": null,
      "outputs": []
    },
    {
      "cell_type": "code",
      "metadata": {
        "id": "RN-IT85cqsPO",
        "colab_type": "code",
        "colab": {}
      },
      "source": [
        "X_test_kbest, y_test = test_set[features].values, test_labels.values"
      ],
      "execution_count": null,
      "outputs": []
    },
    {
      "cell_type": "code",
      "metadata": {
        "id": "TnHR-dAyqsPT",
        "colab_type": "code",
        "colab": {}
      },
      "source": [
        "np.savetxt(\"train_x_processed_kbest.txt\", X_new)\n",
        "np.savetxt(\"train_y_processed_kbest.txt\", y)\n",
        "\n",
        "np.savetxt(\"test_x_processed_kbest.txt\", X_test_kbest)\n",
        "np.savetxt(\"test_y_processed_kbest.txt\", y_test)"
      ],
      "execution_count": null,
      "outputs": []
    },
    {
      "cell_type": "markdown",
      "metadata": {
        "id": "yI3UmI7dqsPY",
        "colab_type": "text"
      },
      "source": [
        "### Feature Selection with Importance"
      ]
    },
    {
      "cell_type": "code",
      "metadata": {
        "id": "B3y9Qct8qsPb",
        "colab_type": "code",
        "colab": {}
      },
      "source": [
        "X.shape"
      ],
      "execution_count": null,
      "outputs": []
    },
    {
      "cell_type": "code",
      "metadata": {
        "id": "MqGpNu26qsPh",
        "colab_type": "code",
        "colab": {}
      },
      "source": [
        "fs = SelectFromModel(RandomForestClassifier())\n",
        "# learn relationship from training data\n",
        "fs.fit(X, y)\n",
        "# transform train input data\n",
        "X_train_fs = fs.transform(X)\n",
        "# transform test input data\n",
        "X_test_fs = fs.transform(X_test)"
      ],
      "execution_count": null,
      "outputs": []
    },
    {
      "cell_type": "code",
      "metadata": {
        "id": "KCjcTf8ZqsPm",
        "colab_type": "code",
        "colab": {}
      },
      "source": [
        "X_train_fs.shape"
      ],
      "execution_count": null,
      "outputs": []
    },
    {
      "cell_type": "code",
      "metadata": {
        "id": "0QtA3BboqsPq",
        "colab_type": "code",
        "colab": {}
      },
      "source": [
        "features = train_set.columns[fs.get_support()]\n",
        "print(features)"
      ],
      "execution_count": null,
      "outputs": []
    },
    {
      "cell_type": "code",
      "metadata": {
        "id": "89rVZC5-qsPv",
        "colab_type": "code",
        "colab": {}
      },
      "source": [
        "np.savetxt(\"train_x_processed_fi.txt\", X_train_fs)\n",
        "np.savetxt(\"train_y_processed_fi.txt\", y)\n",
        "\n",
        "np.savetxt(\"test_x_processed_fi.txt\", X_test_fs)\n",
        "np.savetxt(\"test_y_processed_fi.txt\", y_test)"
      ],
      "execution_count": null,
      "outputs": []
    },
    {
      "cell_type": "code",
      "metadata": {
        "id": "ibAbhwfyqsP1",
        "colab_type": "code",
        "colab": {}
      },
      "source": [
        ""
      ],
      "execution_count": null,
      "outputs": []
    }
  ]
}