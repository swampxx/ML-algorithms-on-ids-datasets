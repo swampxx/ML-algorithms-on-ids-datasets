{
  "nbformat": 4,
  "nbformat_minor": 0,
  "metadata": {
    "kernelspec": {
      "display_name": "Python 3",
      "language": "python",
      "name": "python3"
    },
    "language_info": {
      "codemirror_mode": {
        "name": "ipython",
        "version": 3
      },
      "file_extension": ".py",
      "mimetype": "text/x-python",
      "name": "python",
      "nbconvert_exporter": "python",
      "pygments_lexer": "ipython3",
      "version": "3.6.9"
    },
    "colab": {
      "name": "ids2018-wednesday-preprocessing.ipynb",
      "provenance": [],
      "include_colab_link": true
    }
  },
  "cells": [
    {
      "cell_type": "markdown",
      "metadata": {
        "id": "view-in-github",
        "colab_type": "text"
      },
      "source": [
        "<a href=\"https://colab.research.google.com/github/swampxx/ML-algorithms-on-ids-datasets/blob/master/ids2018_wednesday_preprocessing.ipynb\" target=\"_parent\"><img src=\"https://colab.research.google.com/assets/colab-badge.svg\" alt=\"Open In Colab\"/></a>"
      ]
    },
    {
      "cell_type": "code",
      "metadata": {
        "id": "HOaff-tX4RTc",
        "colab_type": "code",
        "colab": {
          "base_uri": "https://localhost:8080/",
          "height": 129
        },
        "outputId": "c961effb-7574-4e23-ad13-ac91808de96b"
      },
      "source": [
        "from google.colab import drive\n",
        "drive.mount('/content/drive')"
      ],
      "execution_count": 4,
      "outputs": [
        {
          "output_type": "stream",
          "text": [
            "Go to this URL in a browser: https://accounts.google.com/o/oauth2/auth?client_id=947318989803-6bn6qk8qdgf4n4g3pfee6491hc0brc4i.apps.googleusercontent.com&redirect_uri=urn%3aietf%3awg%3aoauth%3a2.0%3aoob&response_type=code&scope=email%20https%3a%2f%2fwww.googleapis.com%2fauth%2fdocs.test%20https%3a%2f%2fwww.googleapis.com%2fauth%2fdrive%20https%3a%2f%2fwww.googleapis.com%2fauth%2fdrive.photos.readonly%20https%3a%2f%2fwww.googleapis.com%2fauth%2fpeopleapi.readonly\n",
            "\n",
            "Enter your authorization code:\n",
            "··········\n",
            "Mounted at /content/drive\n"
          ],
          "name": "stdout"
        }
      ]
    },
    {
      "cell_type": "code",
      "metadata": {
        "id": "cc5ZseaTqsMy",
        "colab_type": "code",
        "colab": {}
      },
      "source": [
        "import numpy as np\n",
        "import pandas as pd\n",
        "\n",
        "from sklearn.model_selection import train_test_split\n",
        "from sklearn.preprocessing import MinMaxScaler, StandardScaler\n",
        "from sklearn.feature_selection import SelectKBest\n",
        "from sklearn.feature_selection import chi2, f_classif\n",
        "from sklearn.feature_selection import SelectFromModel\n",
        "from sklearn.ensemble import RandomForestClassifier"
      ],
      "execution_count": 5,
      "outputs": []
    },
    {
      "cell_type": "code",
      "metadata": {
        "id": "-E7KVCgB4bd_",
        "colab_type": "code",
        "colab": {}
      },
      "source": [
        "path = \"drive/My Drive/security_term_project/\""
      ],
      "execution_count": 7,
      "outputs": []
    },
    {
      "cell_type": "code",
      "metadata": {
        "scrolled": true,
        "id": "MdBi5JBVqsNI",
        "colab_type": "code",
        "colab": {
          "base_uri": "https://localhost:8080/",
          "height": 74
        },
        "outputId": "4109c0d9-4244-4814-c1ec-eb47a01be1a0"
      },
      "source": [
        "df = pd.read_csv(path+\"ids_2018_wednesday.csv\")"
      ],
      "execution_count": 36,
      "outputs": [
        {
          "output_type": "stream",
          "text": [
            "/usr/local/lib/python3.6/dist-packages/IPython/core/interactiveshell.py:2718: DtypeWarning: Columns (0,1,3,4,5,6,7,8,9,10,11,12,13,14,15,16,17,18,19,20,21,22,23,24,25,26,27,28,29,30,31,32,33,34,35,36,37,38,39,40,41,42,43,44,45,46,47,48,49,50,51,52,53,54,55,56,57,58,59,60,61,62,63,64,65,66,67,68,69,70,71,72,73,74,75,76,77,78) have mixed types.Specify dtype option on import or set low_memory=False.\n",
            "  interactivity=interactivity, compiler=compiler, result=result)\n"
          ],
          "name": "stderr"
        }
      ]
    },
    {
      "cell_type": "code",
      "metadata": {
        "scrolled": true,
        "id": "Iqw3dRqKqsNX",
        "colab_type": "code",
        "colab": {
          "base_uri": "https://localhost:8080/",
          "height": 1000
        },
        "outputId": "d87611b2-6742-4ded-bd3f-4200aba961cb"
      },
      "source": [
        "df.info(verbose=True)"
      ],
      "execution_count": 37,
      "outputs": [
        {
          "output_type": "stream",
          "text": [
            "<class 'pandas.core.frame.DataFrame'>\n",
            "RangeIndex: 613104 entries, 0 to 613103\n",
            "Data columns (total 80 columns):\n",
            " #   Column             Non-Null Count   Dtype \n",
            "---  ------             --------------   ----- \n",
            " 0   Dst Port           613104 non-null  object\n",
            " 1   Protocol           613104 non-null  object\n",
            " 2   Timestamp          613104 non-null  object\n",
            " 3   Flow Duration      613104 non-null  object\n",
            " 4   Tot Fwd Pkts       613104 non-null  object\n",
            " 5   Tot Bwd Pkts       613104 non-null  object\n",
            " 6   TotLen Fwd Pkts    613104 non-null  object\n",
            " 7   TotLen Bwd Pkts    613104 non-null  object\n",
            " 8   Fwd Pkt Len Max    613104 non-null  object\n",
            " 9   Fwd Pkt Len Min    613104 non-null  object\n",
            " 10  Fwd Pkt Len Mean   613104 non-null  object\n",
            " 11  Fwd Pkt Len Std    613104 non-null  object\n",
            " 12  Bwd Pkt Len Max    613104 non-null  object\n",
            " 13  Bwd Pkt Len Min    613104 non-null  object\n",
            " 14  Bwd Pkt Len Mean   613104 non-null  object\n",
            " 15  Bwd Pkt Len Std    613104 non-null  object\n",
            " 16  Flow Byts/s        609063 non-null  object\n",
            " 17  Flow Pkts/s        613104 non-null  object\n",
            " 18  Flow IAT Mean      613104 non-null  object\n",
            " 19  Flow IAT Std       613104 non-null  object\n",
            " 20  Flow IAT Max       613104 non-null  object\n",
            " 21  Flow IAT Min       613104 non-null  object\n",
            " 22  Fwd IAT Tot        613104 non-null  object\n",
            " 23  Fwd IAT Mean       613104 non-null  object\n",
            " 24  Fwd IAT Std        613104 non-null  object\n",
            " 25  Fwd IAT Max        613104 non-null  object\n",
            " 26  Fwd IAT Min        613104 non-null  object\n",
            " 27  Bwd IAT Tot        613104 non-null  object\n",
            " 28  Bwd IAT Mean       613104 non-null  object\n",
            " 29  Bwd IAT Std        613104 non-null  object\n",
            " 30  Bwd IAT Max        613104 non-null  object\n",
            " 31  Bwd IAT Min        613104 non-null  object\n",
            " 32  Fwd PSH Flags      613104 non-null  object\n",
            " 33  Bwd PSH Flags      613104 non-null  object\n",
            " 34  Fwd URG Flags      613104 non-null  object\n",
            " 35  Bwd URG Flags      613104 non-null  object\n",
            " 36  Fwd Header Len     613104 non-null  object\n",
            " 37  Bwd Header Len     613104 non-null  object\n",
            " 38  Fwd Pkts/s         613104 non-null  object\n",
            " 39  Bwd Pkts/s         613104 non-null  object\n",
            " 40  Pkt Len Min        613104 non-null  object\n",
            " 41  Pkt Len Max        613104 non-null  object\n",
            " 42  Pkt Len Mean       613104 non-null  object\n",
            " 43  Pkt Len Std        613104 non-null  object\n",
            " 44  Pkt Len Var        613104 non-null  object\n",
            " 45  FIN Flag Cnt       613104 non-null  object\n",
            " 46  SYN Flag Cnt       613104 non-null  object\n",
            " 47  RST Flag Cnt       613104 non-null  object\n",
            " 48  PSH Flag Cnt       613104 non-null  object\n",
            " 49  ACK Flag Cnt       613104 non-null  object\n",
            " 50  URG Flag Cnt       613104 non-null  object\n",
            " 51  CWE Flag Count     613104 non-null  object\n",
            " 52  ECE Flag Cnt       613104 non-null  object\n",
            " 53  Down/Up Ratio      613104 non-null  object\n",
            " 54  Pkt Size Avg       613104 non-null  object\n",
            " 55  Fwd Seg Size Avg   613104 non-null  object\n",
            " 56  Bwd Seg Size Avg   613104 non-null  object\n",
            " 57  Fwd Byts/b Avg     613104 non-null  object\n",
            " 58  Fwd Pkts/b Avg     613104 non-null  object\n",
            " 59  Fwd Blk Rate Avg   613104 non-null  object\n",
            " 60  Bwd Byts/b Avg     613104 non-null  object\n",
            " 61  Bwd Pkts/b Avg     613104 non-null  object\n",
            " 62  Bwd Blk Rate Avg   613104 non-null  object\n",
            " 63  Subflow Fwd Pkts   613104 non-null  object\n",
            " 64  Subflow Fwd Byts   613104 non-null  object\n",
            " 65  Subflow Bwd Pkts   613104 non-null  object\n",
            " 66  Subflow Bwd Byts   613104 non-null  object\n",
            " 67  Init Fwd Win Byts  613104 non-null  object\n",
            " 68  Init Bwd Win Byts  613104 non-null  object\n",
            " 69  Fwd Act Data Pkts  613104 non-null  object\n",
            " 70  Fwd Seg Size Min   613104 non-null  object\n",
            " 71  Active Mean        613104 non-null  object\n",
            " 72  Active Std         613104 non-null  object\n",
            " 73  Active Max         613104 non-null  object\n",
            " 74  Active Min         613104 non-null  object\n",
            " 75  Idle Mean          613104 non-null  object\n",
            " 76  Idle Std           613104 non-null  object\n",
            " 77  Idle Max           613104 non-null  object\n",
            " 78  Idle Min           613104 non-null  object\n",
            " 79  Label              613104 non-null  object\n",
            "dtypes: object(80)\n",
            "memory usage: 374.2+ MB\n"
          ],
          "name": "stdout"
        }
      ]
    },
    {
      "cell_type": "code",
      "metadata": {
        "id": "wteE4cbeqsNj",
        "colab_type": "code",
        "colab": {
          "base_uri": "https://localhost:8080/",
          "height": 164
        },
        "outputId": "993199f3-e0db-4311-d5c0-196a7667996b"
      },
      "source": [
        "df['Protocol'].value_counts()"
      ],
      "execution_count": 38,
      "outputs": [
        {
          "output_type": "execute_result",
          "data": {
            "text/plain": [
              "6           215652\n",
              "6           170064\n",
              "17          155602\n",
              "17           61013\n",
              "0             5578\n",
              "0             5162\n",
              "Protocol        33\n",
              "Name: Protocol, dtype: int64"
            ]
          },
          "metadata": {
            "tags": []
          },
          "execution_count": 38
        }
      ]
    },
    {
      "cell_type": "code",
      "metadata": {
        "scrolled": true,
        "id": "WCn1dHE2qsNt",
        "colab_type": "code",
        "colab": {
          "base_uri": "https://localhost:8080/",
          "height": 1000
        },
        "outputId": "f8f0cb02-0531-4c17-c96f-b1c633ae83be"
      },
      "source": [
        "df[\"Flow Pkts/s\"] = pd.to_numeric(df[\"Flow Pkts/s\"], errors='coerce')\n",
        "df.loc[df['Protocol'] == \"6\", 'Protocol'] = 6\n",
        "df.loc[df['Protocol'] == \"17\", 'Protocol'] = 17\n",
        "df.loc[df['Protocol'] == \"0\", 'Protocol'] = 0\n",
        "df.dropna(inplace=True)\n",
        "df.drop('Timestamp', axis=1, inplace=True)\n",
        "df['Protocol'] = df['Protocol'].astype(\"category\")\n",
        "one_hot = pd.get_dummies(df[\"Protocol\"], prefix=\"Protocol\")\n",
        "df = df.drop(\"Protocol\", axis=1)\n",
        "df = df.join(one_hot)\n",
        "df = df[~df.isin([np.nan, np.inf, -np.inf]).any(1)]\n",
        "df = df.replace(\"Benign\", 0).replace('Infilteration', 1)\n",
        "df.info(verbose=True)"
      ],
      "execution_count": 39,
      "outputs": [
        {
          "output_type": "stream",
          "text": [
            "<class 'pandas.core.frame.DataFrame'>\n",
            "Int64Index: 606902 entries, 0 to 613103\n",
            "Data columns (total 81 columns):\n",
            " #   Column             Non-Null Count   Dtype  \n",
            "---  ------             --------------   -----  \n",
            " 0   Dst Port           606902 non-null  object \n",
            " 1   Flow Duration      606902 non-null  object \n",
            " 2   Tot Fwd Pkts       606902 non-null  object \n",
            " 3   Tot Bwd Pkts       606902 non-null  object \n",
            " 4   TotLen Fwd Pkts    606902 non-null  object \n",
            " 5   TotLen Bwd Pkts    606902 non-null  object \n",
            " 6   Fwd Pkt Len Max    606902 non-null  object \n",
            " 7   Fwd Pkt Len Min    606902 non-null  object \n",
            " 8   Fwd Pkt Len Mean   606902 non-null  object \n",
            " 9   Fwd Pkt Len Std    606902 non-null  object \n",
            " 10  Bwd Pkt Len Max    606902 non-null  object \n",
            " 11  Bwd Pkt Len Min    606902 non-null  object \n",
            " 12  Bwd Pkt Len Mean   606902 non-null  object \n",
            " 13  Bwd Pkt Len Std    606902 non-null  object \n",
            " 14  Flow Byts/s        606902 non-null  object \n",
            " 15  Flow Pkts/s        606902 non-null  float64\n",
            " 16  Flow IAT Mean      606902 non-null  object \n",
            " 17  Flow IAT Std       606902 non-null  object \n",
            " 18  Flow IAT Max       606902 non-null  object \n",
            " 19  Flow IAT Min       606902 non-null  object \n",
            " 20  Fwd IAT Tot        606902 non-null  object \n",
            " 21  Fwd IAT Mean       606902 non-null  object \n",
            " 22  Fwd IAT Std        606902 non-null  object \n",
            " 23  Fwd IAT Max        606902 non-null  object \n",
            " 24  Fwd IAT Min        606902 non-null  object \n",
            " 25  Bwd IAT Tot        606902 non-null  object \n",
            " 26  Bwd IAT Mean       606902 non-null  object \n",
            " 27  Bwd IAT Std        606902 non-null  object \n",
            " 28  Bwd IAT Max        606902 non-null  object \n",
            " 29  Bwd IAT Min        606902 non-null  object \n",
            " 30  Fwd PSH Flags      606902 non-null  object \n",
            " 31  Bwd PSH Flags      606902 non-null  object \n",
            " 32  Fwd URG Flags      606902 non-null  object \n",
            " 33  Bwd URG Flags      606902 non-null  object \n",
            " 34  Fwd Header Len     606902 non-null  object \n",
            " 35  Bwd Header Len     606902 non-null  object \n",
            " 36  Fwd Pkts/s         606902 non-null  object \n",
            " 37  Bwd Pkts/s         606902 non-null  object \n",
            " 38  Pkt Len Min        606902 non-null  object \n",
            " 39  Pkt Len Max        606902 non-null  object \n",
            " 40  Pkt Len Mean       606902 non-null  object \n",
            " 41  Pkt Len Std        606902 non-null  object \n",
            " 42  Pkt Len Var        606902 non-null  object \n",
            " 43  FIN Flag Cnt       606902 non-null  object \n",
            " 44  SYN Flag Cnt       606902 non-null  object \n",
            " 45  RST Flag Cnt       606902 non-null  object \n",
            " 46  PSH Flag Cnt       606902 non-null  object \n",
            " 47  ACK Flag Cnt       606902 non-null  object \n",
            " 48  URG Flag Cnt       606902 non-null  object \n",
            " 49  CWE Flag Count     606902 non-null  object \n",
            " 50  ECE Flag Cnt       606902 non-null  object \n",
            " 51  Down/Up Ratio      606902 non-null  object \n",
            " 52  Pkt Size Avg       606902 non-null  object \n",
            " 53  Fwd Seg Size Avg   606902 non-null  object \n",
            " 54  Bwd Seg Size Avg   606902 non-null  object \n",
            " 55  Fwd Byts/b Avg     606902 non-null  object \n",
            " 56  Fwd Pkts/b Avg     606902 non-null  object \n",
            " 57  Fwd Blk Rate Avg   606902 non-null  object \n",
            " 58  Bwd Byts/b Avg     606902 non-null  object \n",
            " 59  Bwd Pkts/b Avg     606902 non-null  object \n",
            " 60  Bwd Blk Rate Avg   606902 non-null  object \n",
            " 61  Subflow Fwd Pkts   606902 non-null  object \n",
            " 62  Subflow Fwd Byts   606902 non-null  object \n",
            " 63  Subflow Bwd Pkts   606902 non-null  object \n",
            " 64  Subflow Bwd Byts   606902 non-null  object \n",
            " 65  Init Fwd Win Byts  606902 non-null  object \n",
            " 66  Init Bwd Win Byts  606902 non-null  object \n",
            " 67  Fwd Act Data Pkts  606902 non-null  object \n",
            " 68  Fwd Seg Size Min   606902 non-null  object \n",
            " 69  Active Mean        606902 non-null  object \n",
            " 70  Active Std         606902 non-null  object \n",
            " 71  Active Max         606902 non-null  object \n",
            " 72  Active Min         606902 non-null  object \n",
            " 73  Idle Mean          606902 non-null  object \n",
            " 74  Idle Std           606902 non-null  object \n",
            " 75  Idle Max           606902 non-null  object \n",
            " 76  Idle Min           606902 non-null  object \n",
            " 77  Label              606902 non-null  int64  \n",
            " 78  Protocol_0         606902 non-null  uint8  \n",
            " 79  Protocol_6         606902 non-null  uint8  \n",
            " 80  Protocol_17        606902 non-null  uint8  \n",
            "dtypes: float64(1), int64(1), object(76), uint8(3)\n",
            "memory usage: 367.5+ MB\n"
          ],
          "name": "stdout"
        }
      ]
    },
    {
      "cell_type": "code",
      "metadata": {
        "id": "SuIucWScqsN4",
        "colab_type": "code",
        "colab": {
          "base_uri": "https://localhost:8080/",
          "height": 72
        },
        "outputId": "f737d1fc-9d9e-4860-b005-03a58031514e"
      },
      "source": [
        "df.Label.value_counts()"
      ],
      "execution_count": 40,
      "outputs": [
        {
          "output_type": "execute_result",
          "data": {
            "text/plain": [
              "0    538666\n",
              "1     68236\n",
              "Name: Label, dtype: int64"
            ]
          },
          "metadata": {
            "tags": []
          },
          "execution_count": 40
        }
      ]
    },
    {
      "cell_type": "code",
      "metadata": {
        "id": "xqeL22ACDFZI",
        "colab_type": "code",
        "colab": {}
      },
      "source": [
        "all_labels = df.Label.copy().values\n",
        "all_data = df.drop('Label', axis = 1).values"
      ],
      "execution_count": 41,
      "outputs": []
    },
    {
      "cell_type": "code",
      "metadata": {
        "id": "yqp7earIhWIV",
        "colab_type": "code",
        "colab": {
          "base_uri": "https://localhost:8080/",
          "height": 35
        },
        "outputId": "6f77f0a8-2142-4af5-99df-eee118baec0b"
      },
      "source": [
        "all_labels.shape, all_data.shape"
      ],
      "execution_count": 42,
      "outputs": [
        {
          "output_type": "execute_result",
          "data": {
            "text/plain": [
              "((606902,), (606902, 80))"
            ]
          },
          "metadata": {
            "tags": []
          },
          "execution_count": 42
        }
      ]
    },
    {
      "cell_type": "markdown",
      "metadata": {
        "id": "_lG2XJLNmHD9",
        "colab_type": "text"
      },
      "source": [
        "### With KBest"
      ]
    },
    {
      "cell_type": "code",
      "metadata": {
        "id": "q031ml8ZmSF-",
        "colab_type": "code",
        "colab": {
          "base_uri": "https://localhost:8080/",
          "height": 109
        },
        "outputId": "27797007-1cc3-4c60-9a9e-9d2d87271d20"
      },
      "source": [
        "featureSelector = SelectKBest(f_classif, k=40)\n",
        "featureSelector.fit(all_data, all_labels)"
      ],
      "execution_count": 43,
      "outputs": [
        {
          "output_type": "stream",
          "text": [
            "/usr/local/lib/python3.6/dist-packages/sklearn/feature_selection/_univariate_selection.py:114: UserWarning: Features [31 33 55 56 57 58 59 60] are constant.\n",
            "  UserWarning)\n",
            "/usr/local/lib/python3.6/dist-packages/sklearn/feature_selection/_univariate_selection.py:115: RuntimeWarning: invalid value encountered in true_divide\n",
            "  f = msb / msw\n"
          ],
          "name": "stderr"
        },
        {
          "output_type": "execute_result",
          "data": {
            "text/plain": [
              "SelectKBest(k=40, score_func=<function f_classif at 0x7f794e0f3730>)"
            ]
          },
          "metadata": {
            "tags": []
          },
          "execution_count": 43
        }
      ]
    },
    {
      "cell_type": "code",
      "metadata": {
        "id": "RFF7qdzpmklo",
        "colab_type": "code",
        "colab": {}
      },
      "source": [
        "df_withoutLabel =  df.drop('Label', axis = 1)\n",
        "features = df_withoutLabel.columns[featureSelector.get_support()]"
      ],
      "execution_count": 44,
      "outputs": []
    },
    {
      "cell_type": "code",
      "metadata": {
        "id": "-6So7VYTnEyM",
        "colab_type": "code",
        "colab": {
          "base_uri": "https://localhost:8080/",
          "height": 237
        },
        "outputId": "07b673d7-5370-4edd-c604-db2705fd6ffa"
      },
      "source": [
        "features"
      ],
      "execution_count": 46,
      "outputs": [
        {
          "output_type": "execute_result",
          "data": {
            "text/plain": [
              "Index(['Dst Port', 'Fwd Pkt Len Max', 'Fwd Pkt Len Min', 'Fwd Pkt Len Mean',\n",
              "       'Fwd Pkt Len Std', 'Bwd Pkt Len Max', 'Bwd Pkt Len Min',\n",
              "       'Bwd Pkt Len Mean', 'Flow Pkts/s', 'Flow IAT Mean', 'Flow IAT Max',\n",
              "       'Flow IAT Min', 'Fwd IAT Tot', 'Fwd IAT Mean', 'Fwd IAT Max',\n",
              "       'Fwd IAT Min', 'Bwd IAT Std', 'Fwd PSH Flags', 'Fwd URG Flags',\n",
              "       'Fwd Pkts/s', 'Bwd Pkts/s', 'Pkt Len Min', 'Pkt Len Max',\n",
              "       'Pkt Len Mean', 'FIN Flag Cnt', 'SYN Flag Cnt', 'PSH Flag Cnt',\n",
              "       'ACK Flag Cnt', 'CWE Flag Count', 'Pkt Size Avg', 'Fwd Seg Size Avg',\n",
              "       'Bwd Seg Size Avg', 'Init Fwd Win Byts', 'Init Bwd Win Byts',\n",
              "       'Idle Mean', 'Idle Max', 'Idle Min', 'Protocol_0', 'Protocol_6',\n",
              "       'Protocol_17'],\n",
              "      dtype='object')"
            ]
          },
          "metadata": {
            "tags": []
          },
          "execution_count": 46
        }
      ]
    },
    {
      "cell_type": "markdown",
      "metadata": {
        "id": "56d7MOotlxmm",
        "colab_type": "text"
      },
      "source": [
        "### With Feature Importance RandomForestClassifier"
      ]
    },
    {
      "cell_type": "code",
      "metadata": {
        "id": "NpKrOz5jeHFP",
        "colab_type": "code",
        "colab": {}
      },
      "source": [
        "fs = SelectFromModel(RandomForestClassifier())\n",
        "# learn relationship from training data\n",
        "fs.fit(all_data, all_labels)"
      ],
      "execution_count": null,
      "outputs": []
    },
    {
      "cell_type": "code",
      "metadata": {
        "id": "12YyeJ0RhrgD",
        "colab_type": "code",
        "colab": {}
      },
      "source": [
        "features3 = df_withoutLabel.columns[fs.get_support()]"
      ],
      "execution_count": null,
      "outputs": []
    },
    {
      "cell_type": "code",
      "metadata": {
        "id": "J7xki7ggiEMm",
        "colab_type": "code",
        "colab": {}
      },
      "source": [
        "features3"
      ],
      "execution_count": null,
      "outputs": []
    },
    {
      "cell_type": "code",
      "metadata": {
        "id": "aJh6jXt2DaE3",
        "colab_type": "code",
        "colab": {}
      },
      "source": [
        "features_all = ['Dst Port', 'Fwd Pkt Len Max', 'Fwd Pkt Len Min', 'Fwd Pkt Len Mean',\n",
        "       'Fwd Pkt Len Std', 'Bwd Pkt Len Max', 'Bwd Pkt Len Min',\n",
        "       'Bwd Pkt Len Mean', 'Flow Pkts/s', 'Flow IAT Mean', 'Flow IAT Max',\n",
        "       'Flow IAT Min', 'Fwd IAT Tot', 'Fwd IAT Mean', 'Fwd IAT Max',\n",
        "       'Fwd IAT Min', 'Bwd IAT Std', 'Fwd PSH Flags', 'Fwd URG Flags',\n",
        "       'Fwd Pkts/s', 'Bwd Pkts/s', 'Pkt Len Min', 'Pkt Len Max',\n",
        "       'Pkt Len Mean', 'FIN Flag Cnt', 'SYN Flag Cnt', 'PSH Flag Cnt',\n",
        "       'ACK Flag Cnt', 'CWE Flag Count', 'Pkt Size Avg', 'Fwd Seg Size Avg',\n",
        "       'Bwd Seg Size Avg', 'Init Fwd Win Byts', 'Init Bwd Win Byts',\n",
        "       'Idle Mean', 'Idle Max', 'Idle Min', 'Protocol_0', 'Protocol_6',\n",
        "       'Protocol_17']\n",
        "\n",
        "res_feature_list = list(set(features_all))"
      ],
      "execution_count": 49,
      "outputs": []
    },
    {
      "cell_type": "code",
      "metadata": {
        "id": "M8VYwoCHDm_E",
        "colab_type": "code",
        "colab": {
          "base_uri": "https://localhost:8080/",
          "height": 880
        },
        "outputId": "cbedb0e9-af57-4095-e431-4cf18baa5552"
      },
      "source": [
        "final_df = df.drop('Label', axis = 1)\n",
        "final_df = final_df[res_feature_list]\n",
        "final_df.info(verbose=True)"
      ],
      "execution_count": 50,
      "outputs": [
        {
          "output_type": "stream",
          "text": [
            "<class 'pandas.core.frame.DataFrame'>\n",
            "Int64Index: 606902 entries, 0 to 613103\n",
            "Data columns (total 40 columns):\n",
            " #   Column             Non-Null Count   Dtype  \n",
            "---  ------             --------------   -----  \n",
            " 0   Protocol_17        606902 non-null  uint8  \n",
            " 1   Fwd IAT Min        606902 non-null  object \n",
            " 2   Init Bwd Win Byts  606902 non-null  object \n",
            " 3   Fwd Pkts/s         606902 non-null  object \n",
            " 4   Fwd Pkt Len Min    606902 non-null  object \n",
            " 5   Pkt Size Avg       606902 non-null  object \n",
            " 6   Flow Pkts/s        606902 non-null  float64\n",
            " 7   Pkt Len Max        606902 non-null  object \n",
            " 8   ACK Flag Cnt       606902 non-null  object \n",
            " 9   Bwd Pkt Len Min    606902 non-null  object \n",
            " 10  Flow IAT Mean      606902 non-null  object \n",
            " 11  Bwd Seg Size Avg   606902 non-null  object \n",
            " 12  Fwd IAT Mean       606902 non-null  object \n",
            " 13  Dst Port           606902 non-null  object \n",
            " 14  Pkt Len Min        606902 non-null  object \n",
            " 15  PSH Flag Cnt       606902 non-null  object \n",
            " 16  Bwd Pkts/s         606902 non-null  object \n",
            " 17  Fwd Pkt Len Mean   606902 non-null  object \n",
            " 18  Fwd Seg Size Avg   606902 non-null  object \n",
            " 19  Fwd PSH Flags      606902 non-null  object \n",
            " 20  Idle Max           606902 non-null  object \n",
            " 21  Bwd IAT Std        606902 non-null  object \n",
            " 22  Fwd URG Flags      606902 non-null  object \n",
            " 23  Idle Mean          606902 non-null  object \n",
            " 24  Pkt Len Mean       606902 non-null  object \n",
            " 25  Protocol_0         606902 non-null  uint8  \n",
            " 26  Fwd IAT Max        606902 non-null  object \n",
            " 27  Bwd Pkt Len Mean   606902 non-null  object \n",
            " 28  CWE Flag Count     606902 non-null  object \n",
            " 29  FIN Flag Cnt       606902 non-null  object \n",
            " 30  Fwd Pkt Len Max    606902 non-null  object \n",
            " 31  Bwd Pkt Len Max    606902 non-null  object \n",
            " 32  Flow IAT Min       606902 non-null  object \n",
            " 33  Init Fwd Win Byts  606902 non-null  object \n",
            " 34  Fwd IAT Tot        606902 non-null  object \n",
            " 35  Flow IAT Max       606902 non-null  object \n",
            " 36  Protocol_6         606902 non-null  uint8  \n",
            " 37  SYN Flag Cnt       606902 non-null  object \n",
            " 38  Idle Min           606902 non-null  object \n",
            " 39  Fwd Pkt Len Std    606902 non-null  object \n",
            "dtypes: float64(1), object(36), uint8(3)\n",
            "memory usage: 177.7+ MB\n"
          ],
          "name": "stdout"
        }
      ]
    },
    {
      "cell_type": "code",
      "metadata": {
        "colab_type": "code",
        "id": "TnMQl1azFIns",
        "colab": {}
      },
      "source": [
        "final_df_features_set = final_df.astype(np.float64)\n",
        "final_df_vals = final_df_features_set.values"
      ],
      "execution_count": 53,
      "outputs": []
    },
    {
      "cell_type": "code",
      "metadata": {
        "id": "3JDvVIL8Dwin",
        "colab_type": "code",
        "colab": {}
      },
      "source": [
        "np.savetxt(path+\"ids2018-wednesday_final_df.txt\", final_df_vals)\n",
        "np.savetxt(path+\"ids2018-wednesday_final_df_labels.txt\", all_labels)"
      ],
      "execution_count": 54,
      "outputs": []
    },
    {
      "cell_type": "code",
      "metadata": {
        "id": "hq2i-RvKDt66",
        "colab_type": "code",
        "colab": {}
      },
      "source": [
        "q"
      ],
      "execution_count": null,
      "outputs": []
    },
    {
      "cell_type": "code",
      "metadata": {
        "id": "ewOsLw3lqsOA",
        "colab_type": "code",
        "colab": {}
      },
      "source": [
        "train_df = df.groupby('Label').apply(pd.DataFrame.sample, frac=0.8).reset_index(level='Label', drop=True)\n",
        "test_df = df.drop(train_df.index)"
      ],
      "execution_count": 13,
      "outputs": []
    },
    {
      "cell_type": "code",
      "metadata": {
        "id": "j3q_vL_1CLBe",
        "colab_type": "code",
        "colab": {
          "base_uri": "https://localhost:8080/",
          "height": 72
        },
        "outputId": "6c88b978-96bb-481b-aa63-e761c07c0dbf"
      },
      "source": [
        "df.Label.value_counts()"
      ],
      "execution_count": 35,
      "outputs": [
        {
          "output_type": "execute_result",
          "data": {
            "text/plain": [
              "Benign           540568\n",
              "Infilteration     68462\n",
              "Name: Label, dtype: int64"
            ]
          },
          "metadata": {
            "tags": []
          },
          "execution_count": 35
        }
      ]
    },
    {
      "cell_type": "code",
      "metadata": {
        "id": "0STiAO3HqsOH",
        "colab_type": "code",
        "colab": {
          "base_uri": "https://localhost:8080/",
          "height": 72
        },
        "outputId": "0efb6fbb-dc37-4a29-c722-de8f00fbddd2"
      },
      "source": [
        "train_df.Label.value_counts()"
      ],
      "execution_count": 14,
      "outputs": [
        {
          "output_type": "execute_result",
          "data": {
            "text/plain": [
              "Benign           432454\n",
              "Infilteration     54770\n",
              "Name: Label, dtype: int64"
            ]
          },
          "metadata": {
            "tags": []
          },
          "execution_count": 14
        }
      ]
    },
    {
      "cell_type": "code",
      "metadata": {
        "scrolled": false,
        "id": "0vVD3758qsOO",
        "colab_type": "code",
        "colab": {
          "base_uri": "https://localhost:8080/",
          "height": 237
        },
        "outputId": "28cca681-8aa1-4606-856d-29d4a0419ea5"
      },
      "source": [
        "train_df.count()"
      ],
      "execution_count": 15,
      "outputs": [
        {
          "output_type": "execute_result",
          "data": {
            "text/plain": [
              "Dst Port         487224\n",
              "Protocol         487224\n",
              "Flow Duration    487224\n",
              "Tot Fwd Pkts     487224\n",
              "Tot Bwd Pkts     487224\n",
              "                  ...  \n",
              "Idle Mean        487224\n",
              "Idle Std         487224\n",
              "Idle Max         487224\n",
              "Idle Min         487224\n",
              "Label            487224\n",
              "Length: 79, dtype: int64"
            ]
          },
          "metadata": {
            "tags": []
          },
          "execution_count": 15
        }
      ]
    },
    {
      "cell_type": "code",
      "metadata": {
        "id": "1g_6L8E7qsOV",
        "colab_type": "code",
        "colab": {
          "base_uri": "https://localhost:8080/",
          "height": 237
        },
        "outputId": "ad3e1c2d-7f81-418e-bd49-5ebcdad05dac"
      },
      "source": [
        "test_df.count()"
      ],
      "execution_count": 16,
      "outputs": [
        {
          "output_type": "execute_result",
          "data": {
            "text/plain": [
              "Dst Port         121806\n",
              "Protocol         121806\n",
              "Flow Duration    121806\n",
              "Tot Fwd Pkts     121806\n",
              "Tot Bwd Pkts     121806\n",
              "                  ...  \n",
              "Idle Mean        121806\n",
              "Idle Std         121806\n",
              "Idle Max         121806\n",
              "Idle Min         121806\n",
              "Label            121806\n",
              "Length: 79, dtype: int64"
            ]
          },
          "metadata": {
            "tags": []
          },
          "execution_count": 16
        }
      ]
    },
    {
      "cell_type": "code",
      "metadata": {
        "id": "xOCUM7gSqsOd",
        "colab_type": "code",
        "colab": {}
      },
      "source": [
        "def process_df(dataFrame):\n",
        "    df1 = dataFrame.replace('Benign', 0).replace('Infilteration', 1)\n",
        "    df1['Protocol'] = df1['Protocol'].astype(\"category\")\n",
        "    one_hot = pd.get_dummies(df1[\"Protocol\"], prefix=\"Protocol\")\n",
        "    df1 = df1.drop(\"Protocol\", axis=1)\n",
        "    df1 = df1.join(one_hot)\n",
        "    res = df1[~df1.isin([np.nan, np.inf, -np.inf]).any(1)]\n",
        "\n",
        "    return res"
      ],
      "execution_count": 17,
      "outputs": []
    },
    {
      "cell_type": "code",
      "metadata": {
        "id": "W-60mUZHqsOk",
        "colab_type": "code",
        "colab": {}
      },
      "source": [
        "train_set = process_df(train_df)\n",
        "train_labels = train_set.Label.copy()\n",
        "train_set.drop('Label', axis=1, inplace=True)\n",
        "\n",
        "\n",
        "test_set = process_df(test_df)\n",
        "test_labels = test_set.Label.copy()\n",
        "test_set.drop('Label', axis=1, inplace=True)"
      ],
      "execution_count": 18,
      "outputs": []
    },
    {
      "cell_type": "code",
      "metadata": {
        "id": "eLddbzqCqsOq",
        "colab_type": "code",
        "colab": {}
      },
      "source": [
        "train_set = train_set.astype(np.float64)\n",
        "test_set = test_set.astype(np.float64)"
      ],
      "execution_count": 19,
      "outputs": []
    },
    {
      "cell_type": "code",
      "metadata": {
        "id": "_FJCI0qjqsOx",
        "colab_type": "code",
        "colab": {}
      },
      "source": [
        "X, y = train_set.values, train_labels.values\n",
        "X_test, y_test = test_set.values, test_labels.values"
      ],
      "execution_count": 20,
      "outputs": []
    },
    {
      "cell_type": "code",
      "metadata": {
        "id": "cLVOzEDT6dL2",
        "colab_type": "code",
        "colab": {
          "base_uri": "https://localhost:8080/",
          "height": 1000
        },
        "outputId": "19165f54-6083-4977-bb30-8ed68e0a38f6"
      },
      "source": [
        "train_set.info()"
      ],
      "execution_count": 28,
      "outputs": [
        {
          "output_type": "stream",
          "text": [
            "<class 'pandas.core.frame.DataFrame'>\n",
            "Int64Index: 485541 entries, 356606 to 386817\n",
            "Data columns (total 80 columns):\n",
            " #   Column             Non-Null Count   Dtype  \n",
            "---  ------             --------------   -----  \n",
            " 0   Dst Port           485541 non-null  float64\n",
            " 1   Flow Duration      485541 non-null  float64\n",
            " 2   Tot Fwd Pkts       485541 non-null  float64\n",
            " 3   Tot Bwd Pkts       485541 non-null  float64\n",
            " 4   TotLen Fwd Pkts    485541 non-null  float64\n",
            " 5   TotLen Bwd Pkts    485541 non-null  float64\n",
            " 6   Fwd Pkt Len Max    485541 non-null  float64\n",
            " 7   Fwd Pkt Len Min    485541 non-null  float64\n",
            " 8   Fwd Pkt Len Mean   485541 non-null  float64\n",
            " 9   Fwd Pkt Len Std    485541 non-null  float64\n",
            " 10  Bwd Pkt Len Max    485541 non-null  float64\n",
            " 11  Bwd Pkt Len Min    485541 non-null  float64\n",
            " 12  Bwd Pkt Len Mean   485541 non-null  float64\n",
            " 13  Bwd Pkt Len Std    485541 non-null  float64\n",
            " 14  Flow Byts/s        485541 non-null  float64\n",
            " 15  Flow Pkts/s        485541 non-null  float64\n",
            " 16  Flow IAT Mean      485541 non-null  float64\n",
            " 17  Flow IAT Std       485541 non-null  float64\n",
            " 18  Flow IAT Max       485541 non-null  float64\n",
            " 19  Flow IAT Min       485541 non-null  float64\n",
            " 20  Fwd IAT Tot        485541 non-null  float64\n",
            " 21  Fwd IAT Mean       485541 non-null  float64\n",
            " 22  Fwd IAT Std        485541 non-null  float64\n",
            " 23  Fwd IAT Max        485541 non-null  float64\n",
            " 24  Fwd IAT Min        485541 non-null  float64\n",
            " 25  Bwd IAT Tot        485541 non-null  float64\n",
            " 26  Bwd IAT Mean       485541 non-null  float64\n",
            " 27  Bwd IAT Std        485541 non-null  float64\n",
            " 28  Bwd IAT Max        485541 non-null  float64\n",
            " 29  Bwd IAT Min        485541 non-null  float64\n",
            " 30  Fwd PSH Flags      485541 non-null  float64\n",
            " 31  Bwd PSH Flags      485541 non-null  float64\n",
            " 32  Fwd URG Flags      485541 non-null  float64\n",
            " 33  Bwd URG Flags      485541 non-null  float64\n",
            " 34  Fwd Header Len     485541 non-null  float64\n",
            " 35  Bwd Header Len     485541 non-null  float64\n",
            " 36  Fwd Pkts/s         485541 non-null  float64\n",
            " 37  Bwd Pkts/s         485541 non-null  float64\n",
            " 38  Pkt Len Min        485541 non-null  float64\n",
            " 39  Pkt Len Max        485541 non-null  float64\n",
            " 40  Pkt Len Mean       485541 non-null  float64\n",
            " 41  Pkt Len Std        485541 non-null  float64\n",
            " 42  Pkt Len Var        485541 non-null  float64\n",
            " 43  FIN Flag Cnt       485541 non-null  float64\n",
            " 44  SYN Flag Cnt       485541 non-null  float64\n",
            " 45  RST Flag Cnt       485541 non-null  float64\n",
            " 46  PSH Flag Cnt       485541 non-null  float64\n",
            " 47  ACK Flag Cnt       485541 non-null  float64\n",
            " 48  URG Flag Cnt       485541 non-null  float64\n",
            " 49  CWE Flag Count     485541 non-null  float64\n",
            " 50  ECE Flag Cnt       485541 non-null  float64\n",
            " 51  Down/Up Ratio      485541 non-null  float64\n",
            " 52  Pkt Size Avg       485541 non-null  float64\n",
            " 53  Fwd Seg Size Avg   485541 non-null  float64\n",
            " 54  Bwd Seg Size Avg   485541 non-null  float64\n",
            " 55  Fwd Byts/b Avg     485541 non-null  float64\n",
            " 56  Fwd Pkts/b Avg     485541 non-null  float64\n",
            " 57  Fwd Blk Rate Avg   485541 non-null  float64\n",
            " 58  Bwd Byts/b Avg     485541 non-null  float64\n",
            " 59  Bwd Pkts/b Avg     485541 non-null  float64\n",
            " 60  Bwd Blk Rate Avg   485541 non-null  float64\n",
            " 61  Subflow Fwd Pkts   485541 non-null  float64\n",
            " 62  Subflow Fwd Byts   485541 non-null  float64\n",
            " 63  Subflow Bwd Pkts   485541 non-null  float64\n",
            " 64  Subflow Bwd Byts   485541 non-null  float64\n",
            " 65  Init Fwd Win Byts  485541 non-null  float64\n",
            " 66  Init Bwd Win Byts  485541 non-null  float64\n",
            " 67  Fwd Act Data Pkts  485541 non-null  float64\n",
            " 68  Fwd Seg Size Min   485541 non-null  float64\n",
            " 69  Active Mean        485541 non-null  float64\n",
            " 70  Active Std         485541 non-null  float64\n",
            " 71  Active Max         485541 non-null  float64\n",
            " 72  Active Min         485541 non-null  float64\n",
            " 73  Idle Mean          485541 non-null  float64\n",
            " 74  Idle Std           485541 non-null  float64\n",
            " 75  Idle Max           485541 non-null  float64\n",
            " 76  Idle Min           485541 non-null  float64\n",
            " 77  Protocol_0         485541 non-null  float64\n",
            " 78  Protocol_6         485541 non-null  float64\n",
            " 79  Protocol_17        485541 non-null  float64\n",
            "dtypes: float64(80)\n",
            "memory usage: 300.1 MB\n"
          ],
          "name": "stdout"
        }
      ]
    },
    {
      "cell_type": "code",
      "metadata": {
        "id": "eXsmQLww6iGk",
        "colab_type": "code",
        "colab": {
          "base_uri": "https://localhost:8080/",
          "height": 1000
        },
        "outputId": "90d2055b-2350-4742-da30-4a56e1245942"
      },
      "source": [
        "test_set.info()"
      ],
      "execution_count": 29,
      "outputs": [
        {
          "output_type": "stream",
          "text": [
            "<class 'pandas.core.frame.DataFrame'>\n",
            "Int64Index: 121361 entries, 5 to 613101\n",
            "Data columns (total 80 columns):\n",
            " #   Column             Non-Null Count   Dtype  \n",
            "---  ------             --------------   -----  \n",
            " 0   Dst Port           121361 non-null  float64\n",
            " 1   Flow Duration      121361 non-null  float64\n",
            " 2   Tot Fwd Pkts       121361 non-null  float64\n",
            " 3   Tot Bwd Pkts       121361 non-null  float64\n",
            " 4   TotLen Fwd Pkts    121361 non-null  float64\n",
            " 5   TotLen Bwd Pkts    121361 non-null  float64\n",
            " 6   Fwd Pkt Len Max    121361 non-null  float64\n",
            " 7   Fwd Pkt Len Min    121361 non-null  float64\n",
            " 8   Fwd Pkt Len Mean   121361 non-null  float64\n",
            " 9   Fwd Pkt Len Std    121361 non-null  float64\n",
            " 10  Bwd Pkt Len Max    121361 non-null  float64\n",
            " 11  Bwd Pkt Len Min    121361 non-null  float64\n",
            " 12  Bwd Pkt Len Mean   121361 non-null  float64\n",
            " 13  Bwd Pkt Len Std    121361 non-null  float64\n",
            " 14  Flow Byts/s        121361 non-null  float64\n",
            " 15  Flow Pkts/s        121361 non-null  float64\n",
            " 16  Flow IAT Mean      121361 non-null  float64\n",
            " 17  Flow IAT Std       121361 non-null  float64\n",
            " 18  Flow IAT Max       121361 non-null  float64\n",
            " 19  Flow IAT Min       121361 non-null  float64\n",
            " 20  Fwd IAT Tot        121361 non-null  float64\n",
            " 21  Fwd IAT Mean       121361 non-null  float64\n",
            " 22  Fwd IAT Std        121361 non-null  float64\n",
            " 23  Fwd IAT Max        121361 non-null  float64\n",
            " 24  Fwd IAT Min        121361 non-null  float64\n",
            " 25  Bwd IAT Tot        121361 non-null  float64\n",
            " 26  Bwd IAT Mean       121361 non-null  float64\n",
            " 27  Bwd IAT Std        121361 non-null  float64\n",
            " 28  Bwd IAT Max        121361 non-null  float64\n",
            " 29  Bwd IAT Min        121361 non-null  float64\n",
            " 30  Fwd PSH Flags      121361 non-null  float64\n",
            " 31  Bwd PSH Flags      121361 non-null  float64\n",
            " 32  Fwd URG Flags      121361 non-null  float64\n",
            " 33  Bwd URG Flags      121361 non-null  float64\n",
            " 34  Fwd Header Len     121361 non-null  float64\n",
            " 35  Bwd Header Len     121361 non-null  float64\n",
            " 36  Fwd Pkts/s         121361 non-null  float64\n",
            " 37  Bwd Pkts/s         121361 non-null  float64\n",
            " 38  Pkt Len Min        121361 non-null  float64\n",
            " 39  Pkt Len Max        121361 non-null  float64\n",
            " 40  Pkt Len Mean       121361 non-null  float64\n",
            " 41  Pkt Len Std        121361 non-null  float64\n",
            " 42  Pkt Len Var        121361 non-null  float64\n",
            " 43  FIN Flag Cnt       121361 non-null  float64\n",
            " 44  SYN Flag Cnt       121361 non-null  float64\n",
            " 45  RST Flag Cnt       121361 non-null  float64\n",
            " 46  PSH Flag Cnt       121361 non-null  float64\n",
            " 47  ACK Flag Cnt       121361 non-null  float64\n",
            " 48  URG Flag Cnt       121361 non-null  float64\n",
            " 49  CWE Flag Count     121361 non-null  float64\n",
            " 50  ECE Flag Cnt       121361 non-null  float64\n",
            " 51  Down/Up Ratio      121361 non-null  float64\n",
            " 52  Pkt Size Avg       121361 non-null  float64\n",
            " 53  Fwd Seg Size Avg   121361 non-null  float64\n",
            " 54  Bwd Seg Size Avg   121361 non-null  float64\n",
            " 55  Fwd Byts/b Avg     121361 non-null  float64\n",
            " 56  Fwd Pkts/b Avg     121361 non-null  float64\n",
            " 57  Fwd Blk Rate Avg   121361 non-null  float64\n",
            " 58  Bwd Byts/b Avg     121361 non-null  float64\n",
            " 59  Bwd Pkts/b Avg     121361 non-null  float64\n",
            " 60  Bwd Blk Rate Avg   121361 non-null  float64\n",
            " 61  Subflow Fwd Pkts   121361 non-null  float64\n",
            " 62  Subflow Fwd Byts   121361 non-null  float64\n",
            " 63  Subflow Bwd Pkts   121361 non-null  float64\n",
            " 64  Subflow Bwd Byts   121361 non-null  float64\n",
            " 65  Init Fwd Win Byts  121361 non-null  float64\n",
            " 66  Init Bwd Win Byts  121361 non-null  float64\n",
            " 67  Fwd Act Data Pkts  121361 non-null  float64\n",
            " 68  Fwd Seg Size Min   121361 non-null  float64\n",
            " 69  Active Mean        121361 non-null  float64\n",
            " 70  Active Std         121361 non-null  float64\n",
            " 71  Active Max         121361 non-null  float64\n",
            " 72  Active Min         121361 non-null  float64\n",
            " 73  Idle Mean          121361 non-null  float64\n",
            " 74  Idle Std           121361 non-null  float64\n",
            " 75  Idle Max           121361 non-null  float64\n",
            " 76  Idle Min           121361 non-null  float64\n",
            " 77  Protocol_0         121361 non-null  float64\n",
            " 78  Protocol_6         121361 non-null  float64\n",
            " 79  Protocol_17        121361 non-null  float64\n",
            "dtypes: float64(80)\n",
            "memory usage: 75.0 MB\n"
          ],
          "name": "stdout"
        }
      ]
    },
    {
      "cell_type": "code",
      "metadata": {
        "id": "tt36Psvo6_nG",
        "colab_type": "code",
        "colab": {
          "base_uri": "https://localhost:8080/",
          "height": 72
        },
        "outputId": "26b0bcad-921c-477d-ad5f-bb8bc66676bd"
      },
      "source": [
        "train_labels.value_counts()"
      ],
      "execution_count": 30,
      "outputs": [
        {
          "output_type": "execute_result",
          "data": {
            "text/plain": [
              "0    430955\n",
              "1     54586\n",
              "Name: Label, dtype: int64"
            ]
          },
          "metadata": {
            "tags": []
          },
          "execution_count": 30
        }
      ]
    },
    {
      "cell_type": "code",
      "metadata": {
        "id": "EjHZJP_H7Dhn",
        "colab_type": "code",
        "colab": {
          "base_uri": "https://localhost:8080/",
          "height": 72
        },
        "outputId": "7d7d0780-8d81-417b-c801-ddef4599dedb"
      },
      "source": [
        "test_labels.value_counts()"
      ],
      "execution_count": 31,
      "outputs": [
        {
          "output_type": "execute_result",
          "data": {
            "text/plain": [
              "0    107711\n",
              "1     13650\n",
              "Name: Label, dtype: int64"
            ]
          },
          "metadata": {
            "tags": []
          },
          "execution_count": 31
        }
      ]
    },
    {
      "cell_type": "markdown",
      "metadata": {
        "id": "un1jVOD-qsPD",
        "colab_type": "text"
      },
      "source": [
        "## Feature Selection\n"
      ]
    },
    {
      "cell_type": "markdown",
      "metadata": {
        "id": "NyVsH6NzqsPF",
        "colab_type": "text"
      },
      "source": [
        "### With SelectKBest and f_classif"
      ]
    },
    {
      "cell_type": "code",
      "metadata": {
        "id": "pInEoydpqsPF",
        "colab_type": "code",
        "colab": {
          "base_uri": "https://localhost:8080/",
          "height": 90
        },
        "outputId": "49af883b-1319-4a1c-bdb1-7db9f9a36879"
      },
      "source": [
        "featureSelector = SelectKBest(f_classif, k=30)\n",
        "X_new = featureSelector.fit_transform(X, y)\n",
        "features = train_set.columns[featureSelector.get_support(indices=True)]"
      ],
      "execution_count": 21,
      "outputs": [
        {
          "output_type": "stream",
          "text": [
            "/usr/local/lib/python3.6/dist-packages/sklearn/feature_selection/_univariate_selection.py:114: UserWarning: Features [31 33 55 56 57 58 59 60] are constant.\n",
            "  UserWarning)\n",
            "/usr/local/lib/python3.6/dist-packages/sklearn/feature_selection/_univariate_selection.py:115: RuntimeWarning: invalid value encountered in true_divide\n",
            "  f = msb / msw\n"
          ],
          "name": "stderr"
        }
      ]
    },
    {
      "cell_type": "code",
      "metadata": {
        "id": "jTr-8IGgqsPK",
        "colab_type": "code",
        "colab": {
          "base_uri": "https://localhost:8080/",
          "height": 182
        },
        "outputId": "22f78af5-a0ec-40cc-de6d-3d2778c7e5b6"
      },
      "source": [
        "print(features)"
      ],
      "execution_count": 22,
      "outputs": [
        {
          "output_type": "stream",
          "text": [
            "Index(['Dst Port', 'Fwd Pkt Len Max', 'Fwd Pkt Len Min', 'Fwd Pkt Len Mean',\n",
            "       'Fwd Pkt Len Std', 'Bwd Pkt Len Min', 'Flow Pkts/s', 'Flow IAT Mean',\n",
            "       'Flow IAT Max', 'Flow IAT Min', 'Fwd IAT Mean', 'Fwd IAT Max',\n",
            "       'Fwd IAT Min', 'Bwd IAT Std', 'Fwd PSH Flags', 'Fwd URG Flags',\n",
            "       'Fwd Pkts/s', 'Bwd Pkts/s', 'Pkt Len Min', 'Pkt Len Max',\n",
            "       'Pkt Len Mean', 'FIN Flag Cnt', 'SYN Flag Cnt', 'PSH Flag Cnt',\n",
            "       'CWE Flag Count', 'Fwd Seg Size Avg', 'Init Fwd Win Byts',\n",
            "       'Init Bwd Win Byts', 'Protocol_0', 'Protocol_17'],\n",
            "      dtype='object')\n"
          ],
          "name": "stdout"
        }
      ]
    },
    {
      "cell_type": "code",
      "metadata": {
        "id": "RN-IT85cqsPO",
        "colab_type": "code",
        "colab": {}
      },
      "source": [
        "X_test_kbest, y_test = test_set[features].values, test_labels.values"
      ],
      "execution_count": 23,
      "outputs": []
    },
    {
      "cell_type": "code",
      "metadata": {
        "id": "TnHR-dAyqsPT",
        "colab_type": "code",
        "colab": {}
      },
      "source": [
        "#np.savetxt(path+\"train_x_processed_kbest.txt\", X_new)\n",
        "#np.savetxt(path+\"train_y_processed_kbest.txt\", y)\n",
        "\n",
        "#np.savetxt(path+\"test_x_processed_kbest.txt\", X_test_kbest)\n",
        "#np.savetxt(path+\"test_y_processed_kbest.txt\", y_test)"
      ],
      "execution_count": null,
      "outputs": []
    },
    {
      "cell_type": "markdown",
      "metadata": {
        "id": "yI3UmI7dqsPY",
        "colab_type": "text"
      },
      "source": [
        "### Feature Selection with Importance"
      ]
    },
    {
      "cell_type": "code",
      "metadata": {
        "id": "B3y9Qct8qsPb",
        "colab_type": "code",
        "colab": {
          "base_uri": "https://localhost:8080/",
          "height": 35
        },
        "outputId": "71654dc6-2423-4e43-d7ca-05db2517e1bb"
      },
      "source": [
        "X.shape"
      ],
      "execution_count": 24,
      "outputs": [
        {
          "output_type": "execute_result",
          "data": {
            "text/plain": [
              "(485541, 80)"
            ]
          },
          "metadata": {
            "tags": []
          },
          "execution_count": 24
        }
      ]
    },
    {
      "cell_type": "code",
      "metadata": {
        "id": "MqGpNu26qsPh",
        "colab_type": "code",
        "colab": {}
      },
      "source": [
        "fs = SelectFromModel(RandomForestClassifier())\n",
        "# learn relationship from training data\n",
        "fs.fit(X, y)\n",
        "# transform train input data\n",
        "X_train_fs = fs.transform(X)\n",
        "# transform test input data\n",
        "X_test_fs = fs.transform(X_test)"
      ],
      "execution_count": 25,
      "outputs": []
    },
    {
      "cell_type": "code",
      "metadata": {
        "id": "KCjcTf8ZqsPm",
        "colab_type": "code",
        "colab": {
          "base_uri": "https://localhost:8080/",
          "height": 35
        },
        "outputId": "2d904687-0196-4e70-c398-d7ba7bfe39b1"
      },
      "source": [
        "X_train_fs.shape"
      ],
      "execution_count": 26,
      "outputs": [
        {
          "output_type": "execute_result",
          "data": {
            "text/plain": [
              "(485541, 21)"
            ]
          },
          "metadata": {
            "tags": []
          },
          "execution_count": 26
        }
      ]
    },
    {
      "cell_type": "code",
      "metadata": {
        "id": "0QtA3BboqsPq",
        "colab_type": "code",
        "colab": {
          "base_uri": "https://localhost:8080/",
          "height": 146
        },
        "outputId": "8c524ce0-693f-4026-e2bd-0f95bd3bc0bb"
      },
      "source": [
        "features = train_set.columns[fs.get_support()]\n",
        "print(features)"
      ],
      "execution_count": 27,
      "outputs": [
        {
          "output_type": "stream",
          "text": [
            "Index(['Dst Port', 'Flow Duration', 'Flow Byts/s', 'Flow Pkts/s',\n",
            "       'Flow IAT Mean', 'Flow IAT Std', 'Flow IAT Max', 'Flow IAT Min',\n",
            "       'Fwd IAT Tot', 'Fwd IAT Mean', 'Fwd IAT Std', 'Fwd IAT Max',\n",
            "       'Fwd IAT Min', 'Bwd IAT Tot', 'Bwd IAT Mean', 'Bwd IAT Std',\n",
            "       'Bwd IAT Max', 'Bwd IAT Min', 'Fwd Pkts/s', 'Bwd Pkts/s',\n",
            "       'Init Fwd Win Byts'],\n",
            "      dtype='object')\n"
          ],
          "name": "stdout"
        }
      ]
    },
    {
      "cell_type": "code",
      "metadata": {
        "id": "89rVZC5-qsPv",
        "colab_type": "code",
        "colab": {}
      },
      "source": [
        "#np.savetxt(path+\"train_x_processed_fi.txt\", X_train_fs)\n",
        "#np.savetxt(path+\"train_y_processed_fi.txt\", y)\n",
        "\n",
        "#np.savetxt(path+\"test_x_processed_fi.txt\", X_test_fs)\n",
        "#np.savetxt(path+\"test_y_processed_fi.txt\", y_test)"
      ],
      "execution_count": null,
      "outputs": []
    },
    {
      "cell_type": "code",
      "metadata": {
        "id": "ibAbhwfyqsP1",
        "colab_type": "code",
        "colab": {}
      },
      "source": [
        ""
      ],
      "execution_count": null,
      "outputs": []
    }
  ]
}