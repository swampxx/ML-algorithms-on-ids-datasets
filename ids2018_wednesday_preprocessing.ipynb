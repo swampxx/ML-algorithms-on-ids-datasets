{
  "nbformat": 4,
  "nbformat_minor": 0,
  "metadata": {
    "kernelspec": {
      "display_name": "Python 3",
      "language": "python",
      "name": "python3"
    },
    "language_info": {
      "codemirror_mode": {
        "name": "ipython",
        "version": 3
      },
      "file_extension": ".py",
      "mimetype": "text/x-python",
      "name": "python",
      "nbconvert_exporter": "python",
      "pygments_lexer": "ipython3",
      "version": "3.6.9"
    },
    "colab": {
      "name": "ids2018-wednesday-preprocessing.ipynb",
      "provenance": [],
      "include_colab_link": true
    }
  },
  "cells": [
    {
      "cell_type": "markdown",
      "metadata": {
        "id": "view-in-github",
        "colab_type": "text"
      },
      "source": [
        "<a href=\"https://colab.research.google.com/github/swampxx/ML-algorithms-on-ids-datasets/blob/master/ids2018_wednesday_preprocessing.ipynb\" target=\"_parent\"><img src=\"https://colab.research.google.com/assets/colab-badge.svg\" alt=\"Open In Colab\"/></a>"
      ]
    },
    {
      "cell_type": "code",
      "metadata": {
        "id": "HOaff-tX4RTc",
        "colab_type": "code",
        "colab": {
          "base_uri": "https://localhost:8080/",
          "height": 129
        },
        "outputId": "c961effb-7574-4e23-ad13-ac91808de96b"
      },
      "source": [
        "from google.colab import drive\n",
        "drive.mount('/content/drive')"
      ],
      "execution_count": 4,
      "outputs": [
        {
          "output_type": "stream",
          "text": [
            "Go to this URL in a browser: https://accounts.google.com/o/oauth2/auth?client_id=947318989803-6bn6qk8qdgf4n4g3pfee6491hc0brc4i.apps.googleusercontent.com&redirect_uri=urn%3aietf%3awg%3aoauth%3a2.0%3aoob&response_type=code&scope=email%20https%3a%2f%2fwww.googleapis.com%2fauth%2fdocs.test%20https%3a%2f%2fwww.googleapis.com%2fauth%2fdrive%20https%3a%2f%2fwww.googleapis.com%2fauth%2fdrive.photos.readonly%20https%3a%2f%2fwww.googleapis.com%2fauth%2fpeopleapi.readonly\n",
            "\n",
            "Enter your authorization code:\n",
            "··········\n",
            "Mounted at /content/drive\n"
          ],
          "name": "stdout"
        }
      ]
    },
    {
      "cell_type": "code",
      "metadata": {
        "id": "cc5ZseaTqsMy",
        "colab_type": "code",
        "colab": {}
      },
      "source": [
        "import numpy as np\n",
        "import pandas as pd\n",
        "\n",
        "from sklearn.model_selection import train_test_split\n",
        "from sklearn.preprocessing import MinMaxScaler, StandardScaler\n",
        "from sklearn.feature_selection import SelectKBest\n",
        "from sklearn.feature_selection import chi2, f_classif\n",
        "from sklearn.feature_selection import SelectFromModel\n",
        "from sklearn.ensemble import RandomForestClassifier"
      ],
      "execution_count": 5,
      "outputs": []
    },
    {
      "cell_type": "code",
      "metadata": {
        "id": "-E7KVCgB4bd_",
        "colab_type": "code",
        "colab": {}
      },
      "source": [
        "path = \"drive/My Drive/security_term_project/\""
      ],
      "execution_count": 7,
      "outputs": []
    },
    {
      "cell_type": "code",
      "metadata": {
        "scrolled": true,
        "id": "MdBi5JBVqsNI",
        "colab_type": "code",
        "colab": {
          "base_uri": "https://localhost:8080/",
          "height": 74
        },
        "outputId": "9acb2572-edd2-488c-c848-44d6562246dc"
      },
      "source": [
        "df = pd.read_csv(path+\"ids_2018_wednesday.csv\")"
      ],
      "execution_count": 8,
      "outputs": [
        {
          "output_type": "stream",
          "text": [
            "/usr/local/lib/python3.6/dist-packages/IPython/core/interactiveshell.py:2718: DtypeWarning: Columns (0,1,3,4,5,6,7,8,9,10,11,12,13,14,15,16,17,18,19,20,21,22,23,24,25,26,27,28,29,30,31,32,33,34,35,36,37,38,39,40,41,42,43,44,45,46,47,48,49,50,51,52,53,54,55,56,57,58,59,60,61,62,63,64,65,66,67,68,69,70,71,72,73,74,75,76,77,78) have mixed types.Specify dtype option on import or set low_memory=False.\n",
            "  interactivity=interactivity, compiler=compiler, result=result)\n"
          ],
          "name": "stderr"
        }
      ]
    },
    {
      "cell_type": "code",
      "metadata": {
        "scrolled": true,
        "id": "Iqw3dRqKqsNX",
        "colab_type": "code",
        "colab": {
          "base_uri": "https://localhost:8080/",
          "height": 1000
        },
        "outputId": "42f8c8a3-6ae4-4f81-afde-63d582797bf3"
      },
      "source": [
        "df.info(verbose=True)"
      ],
      "execution_count": 9,
      "outputs": [
        {
          "output_type": "stream",
          "text": [
            "<class 'pandas.core.frame.DataFrame'>\n",
            "RangeIndex: 613104 entries, 0 to 613103\n",
            "Data columns (total 80 columns):\n",
            " #   Column             Non-Null Count   Dtype \n",
            "---  ------             --------------   ----- \n",
            " 0   Dst Port           613104 non-null  object\n",
            " 1   Protocol           613104 non-null  object\n",
            " 2   Timestamp          613104 non-null  object\n",
            " 3   Flow Duration      613104 non-null  object\n",
            " 4   Tot Fwd Pkts       613104 non-null  object\n",
            " 5   Tot Bwd Pkts       613104 non-null  object\n",
            " 6   TotLen Fwd Pkts    613104 non-null  object\n",
            " 7   TotLen Bwd Pkts    613104 non-null  object\n",
            " 8   Fwd Pkt Len Max    613104 non-null  object\n",
            " 9   Fwd Pkt Len Min    613104 non-null  object\n",
            " 10  Fwd Pkt Len Mean   613104 non-null  object\n",
            " 11  Fwd Pkt Len Std    613104 non-null  object\n",
            " 12  Bwd Pkt Len Max    613104 non-null  object\n",
            " 13  Bwd Pkt Len Min    613104 non-null  object\n",
            " 14  Bwd Pkt Len Mean   613104 non-null  object\n",
            " 15  Bwd Pkt Len Std    613104 non-null  object\n",
            " 16  Flow Byts/s        609063 non-null  object\n",
            " 17  Flow Pkts/s        613104 non-null  object\n",
            " 18  Flow IAT Mean      613104 non-null  object\n",
            " 19  Flow IAT Std       613104 non-null  object\n",
            " 20  Flow IAT Max       613104 non-null  object\n",
            " 21  Flow IAT Min       613104 non-null  object\n",
            " 22  Fwd IAT Tot        613104 non-null  object\n",
            " 23  Fwd IAT Mean       613104 non-null  object\n",
            " 24  Fwd IAT Std        613104 non-null  object\n",
            " 25  Fwd IAT Max        613104 non-null  object\n",
            " 26  Fwd IAT Min        613104 non-null  object\n",
            " 27  Bwd IAT Tot        613104 non-null  object\n",
            " 28  Bwd IAT Mean       613104 non-null  object\n",
            " 29  Bwd IAT Std        613104 non-null  object\n",
            " 30  Bwd IAT Max        613104 non-null  object\n",
            " 31  Bwd IAT Min        613104 non-null  object\n",
            " 32  Fwd PSH Flags      613104 non-null  object\n",
            " 33  Bwd PSH Flags      613104 non-null  object\n",
            " 34  Fwd URG Flags      613104 non-null  object\n",
            " 35  Bwd URG Flags      613104 non-null  object\n",
            " 36  Fwd Header Len     613104 non-null  object\n",
            " 37  Bwd Header Len     613104 non-null  object\n",
            " 38  Fwd Pkts/s         613104 non-null  object\n",
            " 39  Bwd Pkts/s         613104 non-null  object\n",
            " 40  Pkt Len Min        613104 non-null  object\n",
            " 41  Pkt Len Max        613104 non-null  object\n",
            " 42  Pkt Len Mean       613104 non-null  object\n",
            " 43  Pkt Len Std        613104 non-null  object\n",
            " 44  Pkt Len Var        613104 non-null  object\n",
            " 45  FIN Flag Cnt       613104 non-null  object\n",
            " 46  SYN Flag Cnt       613104 non-null  object\n",
            " 47  RST Flag Cnt       613104 non-null  object\n",
            " 48  PSH Flag Cnt       613104 non-null  object\n",
            " 49  ACK Flag Cnt       613104 non-null  object\n",
            " 50  URG Flag Cnt       613104 non-null  object\n",
            " 51  CWE Flag Count     613104 non-null  object\n",
            " 52  ECE Flag Cnt       613104 non-null  object\n",
            " 53  Down/Up Ratio      613104 non-null  object\n",
            " 54  Pkt Size Avg       613104 non-null  object\n",
            " 55  Fwd Seg Size Avg   613104 non-null  object\n",
            " 56  Bwd Seg Size Avg   613104 non-null  object\n",
            " 57  Fwd Byts/b Avg     613104 non-null  object\n",
            " 58  Fwd Pkts/b Avg     613104 non-null  object\n",
            " 59  Fwd Blk Rate Avg   613104 non-null  object\n",
            " 60  Bwd Byts/b Avg     613104 non-null  object\n",
            " 61  Bwd Pkts/b Avg     613104 non-null  object\n",
            " 62  Bwd Blk Rate Avg   613104 non-null  object\n",
            " 63  Subflow Fwd Pkts   613104 non-null  object\n",
            " 64  Subflow Fwd Byts   613104 non-null  object\n",
            " 65  Subflow Bwd Pkts   613104 non-null  object\n",
            " 66  Subflow Bwd Byts   613104 non-null  object\n",
            " 67  Init Fwd Win Byts  613104 non-null  object\n",
            " 68  Init Bwd Win Byts  613104 non-null  object\n",
            " 69  Fwd Act Data Pkts  613104 non-null  object\n",
            " 70  Fwd Seg Size Min   613104 non-null  object\n",
            " 71  Active Mean        613104 non-null  object\n",
            " 72  Active Std         613104 non-null  object\n",
            " 73  Active Max         613104 non-null  object\n",
            " 74  Active Min         613104 non-null  object\n",
            " 75  Idle Mean          613104 non-null  object\n",
            " 76  Idle Std           613104 non-null  object\n",
            " 77  Idle Max           613104 non-null  object\n",
            " 78  Idle Min           613104 non-null  object\n",
            " 79  Label              613104 non-null  object\n",
            "dtypes: object(80)\n",
            "memory usage: 374.2+ MB\n"
          ],
          "name": "stdout"
        }
      ]
    },
    {
      "cell_type": "code",
      "metadata": {
        "id": "wteE4cbeqsNj",
        "colab_type": "code",
        "colab": {
          "base_uri": "https://localhost:8080/",
          "height": 164
        },
        "outputId": "e3ef8302-942f-461a-e273-58d833c37105"
      },
      "source": [
        "df['Protocol'].value_counts()"
      ],
      "execution_count": 10,
      "outputs": [
        {
          "output_type": "execute_result",
          "data": {
            "text/plain": [
              "6           215652\n",
              "6           170064\n",
              "17          155602\n",
              "17           61013\n",
              "0             5578\n",
              "0             5162\n",
              "Protocol        33\n",
              "Name: Protocol, dtype: int64"
            ]
          },
          "metadata": {
            "tags": []
          },
          "execution_count": 10
        }
      ]
    },
    {
      "cell_type": "code",
      "metadata": {
        "scrolled": true,
        "id": "WCn1dHE2qsNt",
        "colab_type": "code",
        "colab": {
          "base_uri": "https://localhost:8080/",
          "height": 1000
        },
        "outputId": "ef372ca2-7cc9-4377-8cb2-998e2448d82c"
      },
      "source": [
        "df[\"Flow Pkts/s\"] = pd.to_numeric(df[\"Flow Pkts/s\"], errors='coerce')\n",
        "df.loc[df['Protocol'] == \"6\", 'Protocol'] = 6\n",
        "df.loc[df['Protocol'] == \"17\", 'Protocol'] = 17\n",
        "df.loc[df['Protocol'] == \"0\", 'Protocol'] = 0\n",
        "df.dropna(inplace=True)\n",
        "df.drop('Timestamp', axis=1, inplace=True)\n",
        "df.info(verbose=True)"
      ],
      "execution_count": 11,
      "outputs": [
        {
          "output_type": "stream",
          "text": [
            "<class 'pandas.core.frame.DataFrame'>\n",
            "Int64Index: 609030 entries, 0 to 613103\n",
            "Data columns (total 79 columns):\n",
            " #   Column             Non-Null Count   Dtype  \n",
            "---  ------             --------------   -----  \n",
            " 0   Dst Port           609030 non-null  object \n",
            " 1   Protocol           609030 non-null  object \n",
            " 2   Flow Duration      609030 non-null  object \n",
            " 3   Tot Fwd Pkts       609030 non-null  object \n",
            " 4   Tot Bwd Pkts       609030 non-null  object \n",
            " 5   TotLen Fwd Pkts    609030 non-null  object \n",
            " 6   TotLen Bwd Pkts    609030 non-null  object \n",
            " 7   Fwd Pkt Len Max    609030 non-null  object \n",
            " 8   Fwd Pkt Len Min    609030 non-null  object \n",
            " 9   Fwd Pkt Len Mean   609030 non-null  object \n",
            " 10  Fwd Pkt Len Std    609030 non-null  object \n",
            " 11  Bwd Pkt Len Max    609030 non-null  object \n",
            " 12  Bwd Pkt Len Min    609030 non-null  object \n",
            " 13  Bwd Pkt Len Mean   609030 non-null  object \n",
            " 14  Bwd Pkt Len Std    609030 non-null  object \n",
            " 15  Flow Byts/s        609030 non-null  object \n",
            " 16  Flow Pkts/s        609030 non-null  float64\n",
            " 17  Flow IAT Mean      609030 non-null  object \n",
            " 18  Flow IAT Std       609030 non-null  object \n",
            " 19  Flow IAT Max       609030 non-null  object \n",
            " 20  Flow IAT Min       609030 non-null  object \n",
            " 21  Fwd IAT Tot        609030 non-null  object \n",
            " 22  Fwd IAT Mean       609030 non-null  object \n",
            " 23  Fwd IAT Std        609030 non-null  object \n",
            " 24  Fwd IAT Max        609030 non-null  object \n",
            " 25  Fwd IAT Min        609030 non-null  object \n",
            " 26  Bwd IAT Tot        609030 non-null  object \n",
            " 27  Bwd IAT Mean       609030 non-null  object \n",
            " 28  Bwd IAT Std        609030 non-null  object \n",
            " 29  Bwd IAT Max        609030 non-null  object \n",
            " 30  Bwd IAT Min        609030 non-null  object \n",
            " 31  Fwd PSH Flags      609030 non-null  object \n",
            " 32  Bwd PSH Flags      609030 non-null  object \n",
            " 33  Fwd URG Flags      609030 non-null  object \n",
            " 34  Bwd URG Flags      609030 non-null  object \n",
            " 35  Fwd Header Len     609030 non-null  object \n",
            " 36  Bwd Header Len     609030 non-null  object \n",
            " 37  Fwd Pkts/s         609030 non-null  object \n",
            " 38  Bwd Pkts/s         609030 non-null  object \n",
            " 39  Pkt Len Min        609030 non-null  object \n",
            " 40  Pkt Len Max        609030 non-null  object \n",
            " 41  Pkt Len Mean       609030 non-null  object \n",
            " 42  Pkt Len Std        609030 non-null  object \n",
            " 43  Pkt Len Var        609030 non-null  object \n",
            " 44  FIN Flag Cnt       609030 non-null  object \n",
            " 45  SYN Flag Cnt       609030 non-null  object \n",
            " 46  RST Flag Cnt       609030 non-null  object \n",
            " 47  PSH Flag Cnt       609030 non-null  object \n",
            " 48  ACK Flag Cnt       609030 non-null  object \n",
            " 49  URG Flag Cnt       609030 non-null  object \n",
            " 50  CWE Flag Count     609030 non-null  object \n",
            " 51  ECE Flag Cnt       609030 non-null  object \n",
            " 52  Down/Up Ratio      609030 non-null  object \n",
            " 53  Pkt Size Avg       609030 non-null  object \n",
            " 54  Fwd Seg Size Avg   609030 non-null  object \n",
            " 55  Bwd Seg Size Avg   609030 non-null  object \n",
            " 56  Fwd Byts/b Avg     609030 non-null  object \n",
            " 57  Fwd Pkts/b Avg     609030 non-null  object \n",
            " 58  Fwd Blk Rate Avg   609030 non-null  object \n",
            " 59  Bwd Byts/b Avg     609030 non-null  object \n",
            " 60  Bwd Pkts/b Avg     609030 non-null  object \n",
            " 61  Bwd Blk Rate Avg   609030 non-null  object \n",
            " 62  Subflow Fwd Pkts   609030 non-null  object \n",
            " 63  Subflow Fwd Byts   609030 non-null  object \n",
            " 64  Subflow Bwd Pkts   609030 non-null  object \n",
            " 65  Subflow Bwd Byts   609030 non-null  object \n",
            " 66  Init Fwd Win Byts  609030 non-null  object \n",
            " 67  Init Bwd Win Byts  609030 non-null  object \n",
            " 68  Fwd Act Data Pkts  609030 non-null  object \n",
            " 69  Fwd Seg Size Min   609030 non-null  object \n",
            " 70  Active Mean        609030 non-null  object \n",
            " 71  Active Std         609030 non-null  object \n",
            " 72  Active Max         609030 non-null  object \n",
            " 73  Active Min         609030 non-null  object \n",
            " 74  Idle Mean          609030 non-null  object \n",
            " 75  Idle Std           609030 non-null  object \n",
            " 76  Idle Max           609030 non-null  object \n",
            " 77  Idle Min           609030 non-null  object \n",
            " 78  Label              609030 non-null  object \n",
            "dtypes: float64(1), object(78)\n",
            "memory usage: 371.7+ MB\n"
          ],
          "name": "stdout"
        }
      ]
    },
    {
      "cell_type": "code",
      "metadata": {
        "id": "SuIucWScqsN4",
        "colab_type": "code",
        "colab": {
          "base_uri": "https://localhost:8080/",
          "height": 72
        },
        "outputId": "bae55583-4ddd-49e0-f623-3db54f994373"
      },
      "source": [
        "df.Label.value_counts()"
      ],
      "execution_count": 12,
      "outputs": [
        {
          "output_type": "execute_result",
          "data": {
            "text/plain": [
              "Benign           540568\n",
              "Infilteration     68462\n",
              "Name: Label, dtype: int64"
            ]
          },
          "metadata": {
            "tags": []
          },
          "execution_count": 12
        }
      ]
    },
    {
      "cell_type": "code",
      "metadata": {
        "id": "ewOsLw3lqsOA",
        "colab_type": "code",
        "colab": {}
      },
      "source": [
        "train_df = df.groupby('Label').apply(pd.DataFrame.sample, frac=0.8).reset_index(level='Label', drop=True)\n",
        "test_df = df.drop(train_df.index)"
      ],
      "execution_count": 13,
      "outputs": []
    },
    {
      "cell_type": "code",
      "metadata": {
        "id": "0STiAO3HqsOH",
        "colab_type": "code",
        "colab": {
          "base_uri": "https://localhost:8080/",
          "height": 72
        },
        "outputId": "0efb6fbb-dc37-4a29-c722-de8f00fbddd2"
      },
      "source": [
        "train_df.Label.value_counts()"
      ],
      "execution_count": 14,
      "outputs": [
        {
          "output_type": "execute_result",
          "data": {
            "text/plain": [
              "Benign           432454\n",
              "Infilteration     54770\n",
              "Name: Label, dtype: int64"
            ]
          },
          "metadata": {
            "tags": []
          },
          "execution_count": 14
        }
      ]
    },
    {
      "cell_type": "code",
      "metadata": {
        "scrolled": false,
        "id": "0vVD3758qsOO",
        "colab_type": "code",
        "colab": {
          "base_uri": "https://localhost:8080/",
          "height": 237
        },
        "outputId": "28cca681-8aa1-4606-856d-29d4a0419ea5"
      },
      "source": [
        "train_df.count()"
      ],
      "execution_count": 15,
      "outputs": [
        {
          "output_type": "execute_result",
          "data": {
            "text/plain": [
              "Dst Port         487224\n",
              "Protocol         487224\n",
              "Flow Duration    487224\n",
              "Tot Fwd Pkts     487224\n",
              "Tot Bwd Pkts     487224\n",
              "                  ...  \n",
              "Idle Mean        487224\n",
              "Idle Std         487224\n",
              "Idle Max         487224\n",
              "Idle Min         487224\n",
              "Label            487224\n",
              "Length: 79, dtype: int64"
            ]
          },
          "metadata": {
            "tags": []
          },
          "execution_count": 15
        }
      ]
    },
    {
      "cell_type": "code",
      "metadata": {
        "id": "1g_6L8E7qsOV",
        "colab_type": "code",
        "colab": {
          "base_uri": "https://localhost:8080/",
          "height": 237
        },
        "outputId": "ad3e1c2d-7f81-418e-bd49-5ebcdad05dac"
      },
      "source": [
        "test_df.count()"
      ],
      "execution_count": 16,
      "outputs": [
        {
          "output_type": "execute_result",
          "data": {
            "text/plain": [
              "Dst Port         121806\n",
              "Protocol         121806\n",
              "Flow Duration    121806\n",
              "Tot Fwd Pkts     121806\n",
              "Tot Bwd Pkts     121806\n",
              "                  ...  \n",
              "Idle Mean        121806\n",
              "Idle Std         121806\n",
              "Idle Max         121806\n",
              "Idle Min         121806\n",
              "Label            121806\n",
              "Length: 79, dtype: int64"
            ]
          },
          "metadata": {
            "tags": []
          },
          "execution_count": 16
        }
      ]
    },
    {
      "cell_type": "code",
      "metadata": {
        "id": "xOCUM7gSqsOd",
        "colab_type": "code",
        "colab": {}
      },
      "source": [
        "def process_df(dataFrame):\n",
        "    df1 = dataFrame.replace('Benign', 0).replace('Infilteration', 1)\n",
        "    df1['Protocol'] = df1['Protocol'].astype(\"category\")\n",
        "    one_hot = pd.get_dummies(df1[\"Protocol\"], prefix=\"Protocol\")\n",
        "    df1 = df1.drop(\"Protocol\", axis=1)\n",
        "    df1 = df1.join(one_hot)\n",
        "    res = df1[~df1.isin([np.nan, np.inf, -np.inf]).any(1)]\n",
        "\n",
        "    return res"
      ],
      "execution_count": 17,
      "outputs": []
    },
    {
      "cell_type": "code",
      "metadata": {
        "id": "W-60mUZHqsOk",
        "colab_type": "code",
        "colab": {}
      },
      "source": [
        "train_set = process_df(train_df)\n",
        "train_labels = train_set.Label.copy()\n",
        "train_set.drop('Label', axis=1, inplace=True)\n",
        "\n",
        "\n",
        "test_set = process_df(test_df)\n",
        "test_labels = test_set.Label.copy()\n",
        "test_set.drop('Label', axis=1, inplace=True)"
      ],
      "execution_count": 18,
      "outputs": []
    },
    {
      "cell_type": "code",
      "metadata": {
        "id": "eLddbzqCqsOq",
        "colab_type": "code",
        "colab": {}
      },
      "source": [
        "train_set = train_set.astype(np.float64)\n",
        "test_set = test_set.astype(np.float64)"
      ],
      "execution_count": 19,
      "outputs": []
    },
    {
      "cell_type": "code",
      "metadata": {
        "id": "_FJCI0qjqsOx",
        "colab_type": "code",
        "colab": {}
      },
      "source": [
        "X, y = train_set.values, train_labels.values\n",
        "X_test, y_test = test_set.values, test_labels.values"
      ],
      "execution_count": 20,
      "outputs": []
    },
    {
      "cell_type": "code",
      "metadata": {
        "id": "cLVOzEDT6dL2",
        "colab_type": "code",
        "colab": {
          "base_uri": "https://localhost:8080/",
          "height": 1000
        },
        "outputId": "19165f54-6083-4977-bb30-8ed68e0a38f6"
      },
      "source": [
        "train_set.info()"
      ],
      "execution_count": 28,
      "outputs": [
        {
          "output_type": "stream",
          "text": [
            "<class 'pandas.core.frame.DataFrame'>\n",
            "Int64Index: 485541 entries, 356606 to 386817\n",
            "Data columns (total 80 columns):\n",
            " #   Column             Non-Null Count   Dtype  \n",
            "---  ------             --------------   -----  \n",
            " 0   Dst Port           485541 non-null  float64\n",
            " 1   Flow Duration      485541 non-null  float64\n",
            " 2   Tot Fwd Pkts       485541 non-null  float64\n",
            " 3   Tot Bwd Pkts       485541 non-null  float64\n",
            " 4   TotLen Fwd Pkts    485541 non-null  float64\n",
            " 5   TotLen Bwd Pkts    485541 non-null  float64\n",
            " 6   Fwd Pkt Len Max    485541 non-null  float64\n",
            " 7   Fwd Pkt Len Min    485541 non-null  float64\n",
            " 8   Fwd Pkt Len Mean   485541 non-null  float64\n",
            " 9   Fwd Pkt Len Std    485541 non-null  float64\n",
            " 10  Bwd Pkt Len Max    485541 non-null  float64\n",
            " 11  Bwd Pkt Len Min    485541 non-null  float64\n",
            " 12  Bwd Pkt Len Mean   485541 non-null  float64\n",
            " 13  Bwd Pkt Len Std    485541 non-null  float64\n",
            " 14  Flow Byts/s        485541 non-null  float64\n",
            " 15  Flow Pkts/s        485541 non-null  float64\n",
            " 16  Flow IAT Mean      485541 non-null  float64\n",
            " 17  Flow IAT Std       485541 non-null  float64\n",
            " 18  Flow IAT Max       485541 non-null  float64\n",
            " 19  Flow IAT Min       485541 non-null  float64\n",
            " 20  Fwd IAT Tot        485541 non-null  float64\n",
            " 21  Fwd IAT Mean       485541 non-null  float64\n",
            " 22  Fwd IAT Std        485541 non-null  float64\n",
            " 23  Fwd IAT Max        485541 non-null  float64\n",
            " 24  Fwd IAT Min        485541 non-null  float64\n",
            " 25  Bwd IAT Tot        485541 non-null  float64\n",
            " 26  Bwd IAT Mean       485541 non-null  float64\n",
            " 27  Bwd IAT Std        485541 non-null  float64\n",
            " 28  Bwd IAT Max        485541 non-null  float64\n",
            " 29  Bwd IAT Min        485541 non-null  float64\n",
            " 30  Fwd PSH Flags      485541 non-null  float64\n",
            " 31  Bwd PSH Flags      485541 non-null  float64\n",
            " 32  Fwd URG Flags      485541 non-null  float64\n",
            " 33  Bwd URG Flags      485541 non-null  float64\n",
            " 34  Fwd Header Len     485541 non-null  float64\n",
            " 35  Bwd Header Len     485541 non-null  float64\n",
            " 36  Fwd Pkts/s         485541 non-null  float64\n",
            " 37  Bwd Pkts/s         485541 non-null  float64\n",
            " 38  Pkt Len Min        485541 non-null  float64\n",
            " 39  Pkt Len Max        485541 non-null  float64\n",
            " 40  Pkt Len Mean       485541 non-null  float64\n",
            " 41  Pkt Len Std        485541 non-null  float64\n",
            " 42  Pkt Len Var        485541 non-null  float64\n",
            " 43  FIN Flag Cnt       485541 non-null  float64\n",
            " 44  SYN Flag Cnt       485541 non-null  float64\n",
            " 45  RST Flag Cnt       485541 non-null  float64\n",
            " 46  PSH Flag Cnt       485541 non-null  float64\n",
            " 47  ACK Flag Cnt       485541 non-null  float64\n",
            " 48  URG Flag Cnt       485541 non-null  float64\n",
            " 49  CWE Flag Count     485541 non-null  float64\n",
            " 50  ECE Flag Cnt       485541 non-null  float64\n",
            " 51  Down/Up Ratio      485541 non-null  float64\n",
            " 52  Pkt Size Avg       485541 non-null  float64\n",
            " 53  Fwd Seg Size Avg   485541 non-null  float64\n",
            " 54  Bwd Seg Size Avg   485541 non-null  float64\n",
            " 55  Fwd Byts/b Avg     485541 non-null  float64\n",
            " 56  Fwd Pkts/b Avg     485541 non-null  float64\n",
            " 57  Fwd Blk Rate Avg   485541 non-null  float64\n",
            " 58  Bwd Byts/b Avg     485541 non-null  float64\n",
            " 59  Bwd Pkts/b Avg     485541 non-null  float64\n",
            " 60  Bwd Blk Rate Avg   485541 non-null  float64\n",
            " 61  Subflow Fwd Pkts   485541 non-null  float64\n",
            " 62  Subflow Fwd Byts   485541 non-null  float64\n",
            " 63  Subflow Bwd Pkts   485541 non-null  float64\n",
            " 64  Subflow Bwd Byts   485541 non-null  float64\n",
            " 65  Init Fwd Win Byts  485541 non-null  float64\n",
            " 66  Init Bwd Win Byts  485541 non-null  float64\n",
            " 67  Fwd Act Data Pkts  485541 non-null  float64\n",
            " 68  Fwd Seg Size Min   485541 non-null  float64\n",
            " 69  Active Mean        485541 non-null  float64\n",
            " 70  Active Std         485541 non-null  float64\n",
            " 71  Active Max         485541 non-null  float64\n",
            " 72  Active Min         485541 non-null  float64\n",
            " 73  Idle Mean          485541 non-null  float64\n",
            " 74  Idle Std           485541 non-null  float64\n",
            " 75  Idle Max           485541 non-null  float64\n",
            " 76  Idle Min           485541 non-null  float64\n",
            " 77  Protocol_0         485541 non-null  float64\n",
            " 78  Protocol_6         485541 non-null  float64\n",
            " 79  Protocol_17        485541 non-null  float64\n",
            "dtypes: float64(80)\n",
            "memory usage: 300.1 MB\n"
          ],
          "name": "stdout"
        }
      ]
    },
    {
      "cell_type": "code",
      "metadata": {
        "id": "eXsmQLww6iGk",
        "colab_type": "code",
        "colab": {
          "base_uri": "https://localhost:8080/",
          "height": 1000
        },
        "outputId": "90d2055b-2350-4742-da30-4a56e1245942"
      },
      "source": [
        "test_set.info()"
      ],
      "execution_count": 29,
      "outputs": [
        {
          "output_type": "stream",
          "text": [
            "<class 'pandas.core.frame.DataFrame'>\n",
            "Int64Index: 121361 entries, 5 to 613101\n",
            "Data columns (total 80 columns):\n",
            " #   Column             Non-Null Count   Dtype  \n",
            "---  ------             --------------   -----  \n",
            " 0   Dst Port           121361 non-null  float64\n",
            " 1   Flow Duration      121361 non-null  float64\n",
            " 2   Tot Fwd Pkts       121361 non-null  float64\n",
            " 3   Tot Bwd Pkts       121361 non-null  float64\n",
            " 4   TotLen Fwd Pkts    121361 non-null  float64\n",
            " 5   TotLen Bwd Pkts    121361 non-null  float64\n",
            " 6   Fwd Pkt Len Max    121361 non-null  float64\n",
            " 7   Fwd Pkt Len Min    121361 non-null  float64\n",
            " 8   Fwd Pkt Len Mean   121361 non-null  float64\n",
            " 9   Fwd Pkt Len Std    121361 non-null  float64\n",
            " 10  Bwd Pkt Len Max    121361 non-null  float64\n",
            " 11  Bwd Pkt Len Min    121361 non-null  float64\n",
            " 12  Bwd Pkt Len Mean   121361 non-null  float64\n",
            " 13  Bwd Pkt Len Std    121361 non-null  float64\n",
            " 14  Flow Byts/s        121361 non-null  float64\n",
            " 15  Flow Pkts/s        121361 non-null  float64\n",
            " 16  Flow IAT Mean      121361 non-null  float64\n",
            " 17  Flow IAT Std       121361 non-null  float64\n",
            " 18  Flow IAT Max       121361 non-null  float64\n",
            " 19  Flow IAT Min       121361 non-null  float64\n",
            " 20  Fwd IAT Tot        121361 non-null  float64\n",
            " 21  Fwd IAT Mean       121361 non-null  float64\n",
            " 22  Fwd IAT Std        121361 non-null  float64\n",
            " 23  Fwd IAT Max        121361 non-null  float64\n",
            " 24  Fwd IAT Min        121361 non-null  float64\n",
            " 25  Bwd IAT Tot        121361 non-null  float64\n",
            " 26  Bwd IAT Mean       121361 non-null  float64\n",
            " 27  Bwd IAT Std        121361 non-null  float64\n",
            " 28  Bwd IAT Max        121361 non-null  float64\n",
            " 29  Bwd IAT Min        121361 non-null  float64\n",
            " 30  Fwd PSH Flags      121361 non-null  float64\n",
            " 31  Bwd PSH Flags      121361 non-null  float64\n",
            " 32  Fwd URG Flags      121361 non-null  float64\n",
            " 33  Bwd URG Flags      121361 non-null  float64\n",
            " 34  Fwd Header Len     121361 non-null  float64\n",
            " 35  Bwd Header Len     121361 non-null  float64\n",
            " 36  Fwd Pkts/s         121361 non-null  float64\n",
            " 37  Bwd Pkts/s         121361 non-null  float64\n",
            " 38  Pkt Len Min        121361 non-null  float64\n",
            " 39  Pkt Len Max        121361 non-null  float64\n",
            " 40  Pkt Len Mean       121361 non-null  float64\n",
            " 41  Pkt Len Std        121361 non-null  float64\n",
            " 42  Pkt Len Var        121361 non-null  float64\n",
            " 43  FIN Flag Cnt       121361 non-null  float64\n",
            " 44  SYN Flag Cnt       121361 non-null  float64\n",
            " 45  RST Flag Cnt       121361 non-null  float64\n",
            " 46  PSH Flag Cnt       121361 non-null  float64\n",
            " 47  ACK Flag Cnt       121361 non-null  float64\n",
            " 48  URG Flag Cnt       121361 non-null  float64\n",
            " 49  CWE Flag Count     121361 non-null  float64\n",
            " 50  ECE Flag Cnt       121361 non-null  float64\n",
            " 51  Down/Up Ratio      121361 non-null  float64\n",
            " 52  Pkt Size Avg       121361 non-null  float64\n",
            " 53  Fwd Seg Size Avg   121361 non-null  float64\n",
            " 54  Bwd Seg Size Avg   121361 non-null  float64\n",
            " 55  Fwd Byts/b Avg     121361 non-null  float64\n",
            " 56  Fwd Pkts/b Avg     121361 non-null  float64\n",
            " 57  Fwd Blk Rate Avg   121361 non-null  float64\n",
            " 58  Bwd Byts/b Avg     121361 non-null  float64\n",
            " 59  Bwd Pkts/b Avg     121361 non-null  float64\n",
            " 60  Bwd Blk Rate Avg   121361 non-null  float64\n",
            " 61  Subflow Fwd Pkts   121361 non-null  float64\n",
            " 62  Subflow Fwd Byts   121361 non-null  float64\n",
            " 63  Subflow Bwd Pkts   121361 non-null  float64\n",
            " 64  Subflow Bwd Byts   121361 non-null  float64\n",
            " 65  Init Fwd Win Byts  121361 non-null  float64\n",
            " 66  Init Bwd Win Byts  121361 non-null  float64\n",
            " 67  Fwd Act Data Pkts  121361 non-null  float64\n",
            " 68  Fwd Seg Size Min   121361 non-null  float64\n",
            " 69  Active Mean        121361 non-null  float64\n",
            " 70  Active Std         121361 non-null  float64\n",
            " 71  Active Max         121361 non-null  float64\n",
            " 72  Active Min         121361 non-null  float64\n",
            " 73  Idle Mean          121361 non-null  float64\n",
            " 74  Idle Std           121361 non-null  float64\n",
            " 75  Idle Max           121361 non-null  float64\n",
            " 76  Idle Min           121361 non-null  float64\n",
            " 77  Protocol_0         121361 non-null  float64\n",
            " 78  Protocol_6         121361 non-null  float64\n",
            " 79  Protocol_17        121361 non-null  float64\n",
            "dtypes: float64(80)\n",
            "memory usage: 75.0 MB\n"
          ],
          "name": "stdout"
        }
      ]
    },
    {
      "cell_type": "code",
      "metadata": {
        "id": "tt36Psvo6_nG",
        "colab_type": "code",
        "colab": {
          "base_uri": "https://localhost:8080/",
          "height": 72
        },
        "outputId": "26b0bcad-921c-477d-ad5f-bb8bc66676bd"
      },
      "source": [
        "train_labels.value_counts()"
      ],
      "execution_count": 30,
      "outputs": [
        {
          "output_type": "execute_result",
          "data": {
            "text/plain": [
              "0    430955\n",
              "1     54586\n",
              "Name: Label, dtype: int64"
            ]
          },
          "metadata": {
            "tags": []
          },
          "execution_count": 30
        }
      ]
    },
    {
      "cell_type": "code",
      "metadata": {
        "id": "EjHZJP_H7Dhn",
        "colab_type": "code",
        "colab": {
          "base_uri": "https://localhost:8080/",
          "height": 72
        },
        "outputId": "7d7d0780-8d81-417b-c801-ddef4599dedb"
      },
      "source": [
        "test_labels.value_counts()"
      ],
      "execution_count": 31,
      "outputs": [
        {
          "output_type": "execute_result",
          "data": {
            "text/plain": [
              "0    107711\n",
              "1     13650\n",
              "Name: Label, dtype: int64"
            ]
          },
          "metadata": {
            "tags": []
          },
          "execution_count": 31
        }
      ]
    },
    {
      "cell_type": "markdown",
      "metadata": {
        "id": "un1jVOD-qsPD",
        "colab_type": "text"
      },
      "source": [
        "## Feature Selection\n"
      ]
    },
    {
      "cell_type": "markdown",
      "metadata": {
        "id": "NyVsH6NzqsPF",
        "colab_type": "text"
      },
      "source": [
        "### With SelectKBest and f_classif"
      ]
    },
    {
      "cell_type": "code",
      "metadata": {
        "id": "pInEoydpqsPF",
        "colab_type": "code",
        "colab": {
          "base_uri": "https://localhost:8080/",
          "height": 90
        },
        "outputId": "49af883b-1319-4a1c-bdb1-7db9f9a36879"
      },
      "source": [
        "featureSelector = SelectKBest(f_classif, k=30)\n",
        "X_new = featureSelector.fit_transform(X, y)\n",
        "features = train_set.columns[featureSelector.get_support(indices=True)]"
      ],
      "execution_count": 21,
      "outputs": [
        {
          "output_type": "stream",
          "text": [
            "/usr/local/lib/python3.6/dist-packages/sklearn/feature_selection/_univariate_selection.py:114: UserWarning: Features [31 33 55 56 57 58 59 60] are constant.\n",
            "  UserWarning)\n",
            "/usr/local/lib/python3.6/dist-packages/sklearn/feature_selection/_univariate_selection.py:115: RuntimeWarning: invalid value encountered in true_divide\n",
            "  f = msb / msw\n"
          ],
          "name": "stderr"
        }
      ]
    },
    {
      "cell_type": "code",
      "metadata": {
        "id": "jTr-8IGgqsPK",
        "colab_type": "code",
        "colab": {
          "base_uri": "https://localhost:8080/",
          "height": 182
        },
        "outputId": "22f78af5-a0ec-40cc-de6d-3d2778c7e5b6"
      },
      "source": [
        "print(features)"
      ],
      "execution_count": 22,
      "outputs": [
        {
          "output_type": "stream",
          "text": [
            "Index(['Dst Port', 'Fwd Pkt Len Max', 'Fwd Pkt Len Min', 'Fwd Pkt Len Mean',\n",
            "       'Fwd Pkt Len Std', 'Bwd Pkt Len Min', 'Flow Pkts/s', 'Flow IAT Mean',\n",
            "       'Flow IAT Max', 'Flow IAT Min', 'Fwd IAT Mean', 'Fwd IAT Max',\n",
            "       'Fwd IAT Min', 'Bwd IAT Std', 'Fwd PSH Flags', 'Fwd URG Flags',\n",
            "       'Fwd Pkts/s', 'Bwd Pkts/s', 'Pkt Len Min', 'Pkt Len Max',\n",
            "       'Pkt Len Mean', 'FIN Flag Cnt', 'SYN Flag Cnt', 'PSH Flag Cnt',\n",
            "       'CWE Flag Count', 'Fwd Seg Size Avg', 'Init Fwd Win Byts',\n",
            "       'Init Bwd Win Byts', 'Protocol_0', 'Protocol_17'],\n",
            "      dtype='object')\n"
          ],
          "name": "stdout"
        }
      ]
    },
    {
      "cell_type": "code",
      "metadata": {
        "id": "RN-IT85cqsPO",
        "colab_type": "code",
        "colab": {}
      },
      "source": [
        "X_test_kbest, y_test = test_set[features].values, test_labels.values"
      ],
      "execution_count": 23,
      "outputs": []
    },
    {
      "cell_type": "code",
      "metadata": {
        "id": "TnHR-dAyqsPT",
        "colab_type": "code",
        "colab": {}
      },
      "source": [
        "#np.savetxt(path+\"train_x_processed_kbest.txt\", X_new)\n",
        "#np.savetxt(path+\"train_y_processed_kbest.txt\", y)\n",
        "\n",
        "#np.savetxt(path+\"test_x_processed_kbest.txt\", X_test_kbest)\n",
        "#np.savetxt(path+\"test_y_processed_kbest.txt\", y_test)"
      ],
      "execution_count": null,
      "outputs": []
    },
    {
      "cell_type": "markdown",
      "metadata": {
        "id": "yI3UmI7dqsPY",
        "colab_type": "text"
      },
      "source": [
        "### Feature Selection with Importance"
      ]
    },
    {
      "cell_type": "code",
      "metadata": {
        "id": "B3y9Qct8qsPb",
        "colab_type": "code",
        "colab": {
          "base_uri": "https://localhost:8080/",
          "height": 35
        },
        "outputId": "71654dc6-2423-4e43-d7ca-05db2517e1bb"
      },
      "source": [
        "X.shape"
      ],
      "execution_count": 24,
      "outputs": [
        {
          "output_type": "execute_result",
          "data": {
            "text/plain": [
              "(485541, 80)"
            ]
          },
          "metadata": {
            "tags": []
          },
          "execution_count": 24
        }
      ]
    },
    {
      "cell_type": "code",
      "metadata": {
        "id": "MqGpNu26qsPh",
        "colab_type": "code",
        "colab": {}
      },
      "source": [
        "fs = SelectFromModel(RandomForestClassifier())\n",
        "# learn relationship from training data\n",
        "fs.fit(X, y)\n",
        "# transform train input data\n",
        "X_train_fs = fs.transform(X)\n",
        "# transform test input data\n",
        "X_test_fs = fs.transform(X_test)"
      ],
      "execution_count": 25,
      "outputs": []
    },
    {
      "cell_type": "code",
      "metadata": {
        "id": "KCjcTf8ZqsPm",
        "colab_type": "code",
        "colab": {
          "base_uri": "https://localhost:8080/",
          "height": 35
        },
        "outputId": "2d904687-0196-4e70-c398-d7ba7bfe39b1"
      },
      "source": [
        "X_train_fs.shape"
      ],
      "execution_count": 26,
      "outputs": [
        {
          "output_type": "execute_result",
          "data": {
            "text/plain": [
              "(485541, 21)"
            ]
          },
          "metadata": {
            "tags": []
          },
          "execution_count": 26
        }
      ]
    },
    {
      "cell_type": "code",
      "metadata": {
        "id": "0QtA3BboqsPq",
        "colab_type": "code",
        "colab": {
          "base_uri": "https://localhost:8080/",
          "height": 146
        },
        "outputId": "8c524ce0-693f-4026-e2bd-0f95bd3bc0bb"
      },
      "source": [
        "features = train_set.columns[fs.get_support()]\n",
        "print(features)"
      ],
      "execution_count": 27,
      "outputs": [
        {
          "output_type": "stream",
          "text": [
            "Index(['Dst Port', 'Flow Duration', 'Flow Byts/s', 'Flow Pkts/s',\n",
            "       'Flow IAT Mean', 'Flow IAT Std', 'Flow IAT Max', 'Flow IAT Min',\n",
            "       'Fwd IAT Tot', 'Fwd IAT Mean', 'Fwd IAT Std', 'Fwd IAT Max',\n",
            "       'Fwd IAT Min', 'Bwd IAT Tot', 'Bwd IAT Mean', 'Bwd IAT Std',\n",
            "       'Bwd IAT Max', 'Bwd IAT Min', 'Fwd Pkts/s', 'Bwd Pkts/s',\n",
            "       'Init Fwd Win Byts'],\n",
            "      dtype='object')\n"
          ],
          "name": "stdout"
        }
      ]
    },
    {
      "cell_type": "code",
      "metadata": {
        "id": "89rVZC5-qsPv",
        "colab_type": "code",
        "colab": {}
      },
      "source": [
        "#np.savetxt(path+\"train_x_processed_fi.txt\", X_train_fs)\n",
        "#np.savetxt(path+\"train_y_processed_fi.txt\", y)\n",
        "\n",
        "#np.savetxt(path+\"test_x_processed_fi.txt\", X_test_fs)\n",
        "#np.savetxt(path+\"test_y_processed_fi.txt\", y_test)"
      ],
      "execution_count": null,
      "outputs": []
    },
    {
      "cell_type": "code",
      "metadata": {
        "id": "ibAbhwfyqsP1",
        "colab_type": "code",
        "colab": {}
      },
      "source": [
        ""
      ],
      "execution_count": null,
      "outputs": []
    }
  ]
}