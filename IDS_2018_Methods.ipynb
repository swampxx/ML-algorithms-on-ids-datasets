{
  "nbformat": 4,
  "nbformat_minor": 0,
  "metadata": {
    "colab": {
      "name": "IDS-2018-Methods.ipynb",
      "provenance": [],
      "authorship_tag": "ABX9TyMBikgUxUn/s4xjWY2lHXlh",
      "include_colab_link": true
    },
    "kernelspec": {
      "name": "python3",
      "display_name": "Python 3"
    }
  },
  "cells": [
    {
      "cell_type": "markdown",
      "metadata": {
        "id": "view-in-github",
        "colab_type": "text"
      },
      "source": [
        "<a href=\"https://colab.research.google.com/github/swampxx/ML-algorithms-on-ids-datasets/blob/master/IDS_2018_Methods.ipynb\" target=\"_parent\"><img src=\"https://colab.research.google.com/assets/colab-badge.svg\" alt=\"Open In Colab\"/></a>"
      ]
    },
    {
      "cell_type": "code",
      "metadata": {
        "id": "duYpaan-jP3u",
        "colab_type": "code",
        "colab": {
          "base_uri": "https://localhost:8080/",
          "height": 129
        },
        "outputId": "de8591dd-7dc0-46b6-fcea-6f4e8913ce29"
      },
      "source": [
        "from google.colab import drive\n",
        "drive.mount('/content/drive')"
      ],
      "execution_count": 1,
      "outputs": [
        {
          "output_type": "stream",
          "text": [
            "Go to this URL in a browser: https://accounts.google.com/o/oauth2/auth?client_id=947318989803-6bn6qk8qdgf4n4g3pfee6491hc0brc4i.apps.googleusercontent.com&redirect_uri=urn%3aietf%3awg%3aoauth%3a2.0%3aoob&response_type=code&scope=email%20https%3a%2f%2fwww.googleapis.com%2fauth%2fdocs.test%20https%3a%2f%2fwww.googleapis.com%2fauth%2fdrive%20https%3a%2f%2fwww.googleapis.com%2fauth%2fdrive.photos.readonly%20https%3a%2f%2fwww.googleapis.com%2fauth%2fpeopleapi.readonly\n",
            "\n",
            "Enter your authorization code:\n",
            "··········\n",
            "Mounted at /content/drive\n"
          ],
          "name": "stdout"
        }
      ]
    },
    {
      "cell_type": "code",
      "metadata": {
        "id": "jX46e1XMkB5A",
        "colab_type": "code",
        "colab": {}
      },
      "source": [
        "import numpy as np\n",
        "\n",
        "from sklearn.kernel_approximation import RBFSampler\n",
        "from sklearn.linear_model import SGDClassifier\n",
        "from sklearn import svm\n",
        "from sklearn.metrics import classification_report\n",
        "from sklearn import metrics\n",
        "from sklearn.linear_model import LogisticRegression\n",
        "from sklearn.naive_bayes import GaussianNB\n",
        "from sklearn.neighbors import KNeighborsClassifier\n",
        "from sklearn.tree import DecisionTreeClassifier\n",
        "from sklearn.neural_network import MLPClassifier\n",
        "from sklearn.discriminant_analysis import QuadraticDiscriminantAnalysis\n",
        "from sklearn.metrics import (precision_score, recall_score, f1_score, accuracy_score, mean_squared_error, mean_absolute_error)\n",
        "from sklearn.metrics import confusion_matrix,classification_report\n",
        "from sklearn.ensemble import AdaBoostClassifier\n",
        "from sklearn.ensemble import RandomForestClassifier\n",
        "from sklearn.preprocessing import Normalizer\n",
        "from sklearn.model_selection import GridSearchCV\n",
        "from sklearn.model_selection import train_test_split\n",
        "from sklearn.svm import SVC\n",
        "from sklearn.metrics import confusion_matrix\n",
        "from sklearn.metrics import (precision_score, recall_score,f1_score, accuracy_score,mean_squared_error,mean_absolute_error, roc_curve, classification_report,auc)\n"
      ],
      "execution_count": 2,
      "outputs": []
    },
    {
      "cell_type": "code",
      "metadata": {
        "id": "Nosb--B4kDmH",
        "colab_type": "code",
        "colab": {
          "base_uri": "https://localhost:8080/",
          "height": 127
        },
        "outputId": "859c5411-ff80-42a0-f07b-cb3c9481f186"
      },
      "source": [
        "!ls drive/My\\ Drive/security_term_project/"
      ],
      "execution_count": 3,
      "outputs": [
        {
          "output_type": "stream",
          "text": [
            "66398.pdf\t\t\t      test_y_processed_fi.txt\n",
            "ids_2018_thursday.csv\t\t      test_y_processed_kbest.txt\n",
            "ids2018-thursday_final_df_labels.txt  train_x_processed_fi.txt\n",
            "ids2018-thursday_final_df.txt\t      train_x_processed_kbest.txt\n",
            "test_x_processed_fi.txt\t\t      train_y_processed_fi.txt\n",
            "test_x_processed_kbest.txt\t      train_y_processed_kbest.txt\n"
          ],
          "name": "stdout"
        }
      ]
    },
    {
      "cell_type": "code",
      "metadata": {
        "id": "N3VxPmFu8XW7",
        "colab_type": "code",
        "colab": {}
      },
      "source": [
        "path = \"drive/My Drive/security_term_project/\""
      ],
      "execution_count": 4,
      "outputs": []
    },
    {
      "cell_type": "code",
      "metadata": {
        "id": "PF4oRHq474wQ",
        "colab_type": "code",
        "colab": {}
      },
      "source": [
        "data = np.loadtxt(path+\"ids2018-thursday_final_df.txt\")\n",
        "labels = np.loadtxt(path+\"ids2018-thursday_final_df_labels.txt\")"
      ],
      "execution_count": 5,
      "outputs": []
    },
    {
      "cell_type": "code",
      "metadata": {
        "id": "o2I17Z6J8EKN",
        "colab_type": "code",
        "colab": {}
      },
      "source": [
        "trainX, testX, trainY, testY = train_test_split(data, labels, test_size=0.2, random_state=42)"
      ],
      "execution_count": 6,
      "outputs": []
    },
    {
      "cell_type": "code",
      "metadata": {
        "id": "aQgwmyHw886o",
        "colab_type": "code",
        "colab": {
          "base_uri": "https://localhost:8080/",
          "height": 35
        },
        "outputId": "d68b5235-3423-480e-f935-fee45646ca4f"
      },
      "source": [
        "trainX.shape, trainY.shape, testX.shape, testY.shape"
      ],
      "execution_count": 7,
      "outputs": [
        {
          "output_type": "execute_result",
          "data": {
            "text/plain": [
              "((832438, 55), (832438,), (208110, 55), (208110,))"
            ]
          },
          "metadata": {
            "tags": []
          },
          "execution_count": 7
        }
      ]
    },
    {
      "cell_type": "markdown",
      "metadata": {
        "id": "_a4d-zcokvnH",
        "colab_type": "text"
      },
      "source": [
        "## Logistic Regression"
      ]
    },
    {
      "cell_type": "code",
      "metadata": {
        "id": "9h_rZZylko59",
        "colab_type": "code",
        "colab": {
          "base_uri": "https://localhost:8080/",
          "height": 256
        },
        "outputId": "f35db04a-be19-43f5-ad8e-99ab8534a0b6"
      },
      "source": [
        "model = LogisticRegression(max_iter=10000)\n",
        "model.fit(trainX, trainY)"
      ],
      "execution_count": 28,
      "outputs": [
        {
          "output_type": "stream",
          "text": [
            "/usr/local/lib/python3.6/dist-packages/sklearn/linear_model/_logistic.py:940: ConvergenceWarning: lbfgs failed to converge (status=1):\n",
            "STOP: TOTAL NO. of ITERATIONS REACHED LIMIT.\n",
            "\n",
            "Increase the number of iterations (max_iter) or scale the data as shown in:\n",
            "    https://scikit-learn.org/stable/modules/preprocessing.html\n",
            "Please also refer to the documentation for alternative solver options:\n",
            "    https://scikit-learn.org/stable/modules/linear_model.html#logistic-regression\n",
            "  extra_warning_msg=_LOGISTIC_SOLVER_CONVERGENCE_MSG)\n"
          ],
          "name": "stderr"
        },
        {
          "output_type": "execute_result",
          "data": {
            "text/plain": [
              "LogisticRegression(C=1.0, class_weight=None, dual=False, fit_intercept=True,\n",
              "                   intercept_scaling=1, l1_ratio=None, max_iter=10000,\n",
              "                   multi_class='auto', n_jobs=None, penalty='l2',\n",
              "                   random_state=None, solver='lbfgs', tol=0.0001, verbose=0,\n",
              "                   warm_start=False)"
            ]
          },
          "metadata": {
            "tags": []
          },
          "execution_count": 28
        }
      ]
    },
    {
      "cell_type": "code",
      "metadata": {
        "id": "vaaIg99yl8eg",
        "colab_type": "code",
        "colab": {}
      },
      "source": [
        "# make predictions\n",
        "predicted = model.predict(testX)\n"
      ],
      "execution_count": 30,
      "outputs": []
    },
    {
      "cell_type": "code",
      "metadata": {
        "id": "oXuhge8KndNW",
        "colab_type": "code",
        "colab": {
          "base_uri": "https://localhost:8080/",
          "height": 35
        },
        "outputId": "da2ad551-14cc-4b67-be67-d503087e6a7e"
      },
      "source": [
        "accuracy_score(testY, predicted)"
      ],
      "execution_count": 31,
      "outputs": [
        {
          "output_type": "execute_result",
          "data": {
            "text/plain": [
              "0.9735908894334727"
            ]
          },
          "metadata": {
            "tags": []
          },
          "execution_count": 31
        }
      ]
    },
    {
      "cell_type": "code",
      "metadata": {
        "id": "52ZZUHY1oNeI",
        "colab_type": "code",
        "colab": {
          "base_uri": "https://localhost:8080/",
          "height": 35
        },
        "outputId": "b161658d-9086-46fd-efea-65556bd3eace"
      },
      "source": [
        "precision_score(testY, predicted)"
      ],
      "execution_count": 32,
      "outputs": [
        {
          "output_type": "execute_result",
          "data": {
            "text/plain": [
              "0.9114192495921697"
            ]
          },
          "metadata": {
            "tags": []
          },
          "execution_count": 32
        }
      ]
    },
    {
      "cell_type": "code",
      "metadata": {
        "id": "Kqo5TIBMD3Wd",
        "colab_type": "code",
        "colab": {
          "base_uri": "https://localhost:8080/",
          "height": 35
        },
        "outputId": "0fa8b557-c138-485d-fadf-7da47e5755a1"
      },
      "source": [
        "recall_score(testY, predicted)"
      ],
      "execution_count": 37,
      "outputs": [
        {
          "output_type": "execute_result",
          "data": {
            "text/plain": [
              "0.5300759013282732"
            ]
          },
          "metadata": {
            "tags": []
          },
          "execution_count": 37
        }
      ]
    },
    {
      "cell_type": "code",
      "metadata": {
        "id": "LW_4Tb0DNeMW",
        "colab_type": "code",
        "colab": {
          "base_uri": "https://localhost:8080/",
          "height": 219
        },
        "outputId": "dd03646a-6314-4f8b-ac26-ac6b4c3256c6"
      },
      "source": [
        "print(classification_report(testY, predicted))\n",
        "print(confusion_matrix(testY, predicted))"
      ],
      "execution_count": 41,
      "outputs": [
        {
          "output_type": "stream",
          "text": [
            "              precision    recall  f1-score   support\n",
            "\n",
            "         0.0       0.98      1.00      0.99    197570\n",
            "         1.0       0.91      0.53      0.67     10540\n",
            "\n",
            "    accuracy                           0.97    208110\n",
            "   macro avg       0.94      0.76      0.83    208110\n",
            "weighted avg       0.97      0.97      0.97    208110\n",
            "\n",
            "[[197027    543]\n",
            " [  4953   5587]]\n"
          ],
          "name": "stdout"
        }
      ]
    },
    {
      "cell_type": "markdown",
      "metadata": {
        "id": "3wZprSXv97nz",
        "colab_type": "text"
      },
      "source": [
        "## Random Forest"
      ]
    },
    {
      "cell_type": "markdown",
      "metadata": {
        "id": "x5tsH5PQNwn3",
        "colab_type": "text"
      },
      "source": [
        "GridSearchCV is used for model selection, since it takes too much time\n",
        "it is executed on another machine. \n",
        "\n",
        "```\n",
        "pipeline = make_pipeline(RandomForestClassifier())\n",
        "\n",
        "#Add a dict of estimator and estimator related parameters in this list\n",
        "\n",
        "hyperparameters = {\n",
        "                'randomforestclassifier__n_estimators': [25,50,75,100],\n",
        "                'randomforestclassifier__max_features' : [None, \"log2\", \"auto\"]\n",
        "                }\n",
        "               \n",
        "clf = GridSearchCV(pipeline, hyperparameters, cv=5,verbose=1,n_jobs=-1)\n",
        "clf.fit(_traindata, _trainlabel)\n",
        "```\n",
        "RESULTS: n_estimator: 100 , max_feature: 'log2'\n",
        "\n"
      ]
    },
    {
      "cell_type": "code",
      "metadata": {
        "id": "yNGAWzyS99z7",
        "colab_type": "code",
        "colab": {
          "base_uri": "https://localhost:8080/",
          "height": 164
        },
        "outputId": "d08d653b-b260-4372-add4-cfd91dfc0515"
      },
      "source": [
        "rf = RandomForestClassifier(n_estimators=100, max_features=\"log2\")\n",
        "\n",
        "rf.fit(trainX, trainY)"
      ],
      "execution_count": 33,
      "outputs": [
        {
          "output_type": "execute_result",
          "data": {
            "text/plain": [
              "RandomForestClassifier(bootstrap=True, ccp_alpha=0.0, class_weight=None,\n",
              "                       criterion='gini', max_depth=None, max_features='log2',\n",
              "                       max_leaf_nodes=None, max_samples=None,\n",
              "                       min_impurity_decrease=0.0, min_impurity_split=None,\n",
              "                       min_samples_leaf=1, min_samples_split=2,\n",
              "                       min_weight_fraction_leaf=0.0, n_estimators=100,\n",
              "                       n_jobs=None, oob_score=False, random_state=None,\n",
              "                       verbose=0, warm_start=False)"
            ]
          },
          "metadata": {
            "tags": []
          },
          "execution_count": 33
        }
      ]
    },
    {
      "cell_type": "code",
      "metadata": {
        "id": "eaLAR04d-d74",
        "colab_type": "code",
        "colab": {
          "base_uri": "https://localhost:8080/",
          "height": 35
        },
        "outputId": "cefee96c-df05-4aa1-9790-eb0ee85fd7ce"
      },
      "source": [
        "rf_predicted = rf.predict(testX)\n",
        "\n",
        "accuracy_score(testY, rf_predicted)"
      ],
      "execution_count": 34,
      "outputs": [
        {
          "output_type": "execute_result",
          "data": {
            "text/plain": [
              "0.999985584546634"
            ]
          },
          "metadata": {
            "tags": []
          },
          "execution_count": 34
        }
      ]
    },
    {
      "cell_type": "code",
      "metadata": {
        "id": "4DZ_kiA5-lwh",
        "colab_type": "code",
        "colab": {
          "base_uri": "https://localhost:8080/",
          "height": 35
        },
        "outputId": "0a5083f5-8bec-433c-cf9a-70d79bb34a29"
      },
      "source": [
        "precision_score(testY, rf_predicted)"
      ],
      "execution_count": 35,
      "outputs": [
        {
          "output_type": "execute_result",
          "data": {
            "text/plain": [
              "0.9999051143372236"
            ]
          },
          "metadata": {
            "tags": []
          },
          "execution_count": 35
        }
      ]
    },
    {
      "cell_type": "code",
      "metadata": {
        "id": "aCvs3HAKE4Yw",
        "colab_type": "code",
        "colab": {
          "base_uri": "https://localhost:8080/",
          "height": 35
        },
        "outputId": "edeba59d-3a53-4131-a46c-db6aa4826a23"
      },
      "source": [
        "recall_score(testY, rf_predicted)"
      ],
      "execution_count": 36,
      "outputs": [
        {
          "output_type": "execute_result",
          "data": {
            "text/plain": [
              "0.9998102466793168"
            ]
          },
          "metadata": {
            "tags": []
          },
          "execution_count": 36
        }
      ]
    },
    {
      "cell_type": "code",
      "metadata": {
        "id": "Tz5o-DiIE6pE",
        "colab_type": "code",
        "colab": {
          "base_uri": "https://localhost:8080/",
          "height": 219
        },
        "outputId": "2ffae59f-6b33-4ee1-e30d-63df6957f585"
      },
      "source": [
        "print(classification_report(testY, rf_predicted))\n",
        "print(confusion_matrix(testY, rf_predicted))"
      ],
      "execution_count": 40,
      "outputs": [
        {
          "output_type": "stream",
          "text": [
            "              precision    recall  f1-score   support\n",
            "\n",
            "         0.0       1.00      1.00      1.00    197570\n",
            "         1.0       1.00      1.00      1.00     10540\n",
            "\n",
            "    accuracy                           1.00    208110\n",
            "   macro avg       1.00      1.00      1.00    208110\n",
            "weighted avg       1.00      1.00      1.00    208110\n",
            "\n",
            "[[197569      1]\n",
            " [     2  10538]]\n"
          ],
          "name": "stdout"
        }
      ]
    },
    {
      "cell_type": "markdown",
      "metadata": {
        "id": "lhUxu8Z8OcWz",
        "colab_type": "text"
      },
      "source": [
        "## Naive Bayes\n",
        "\n"
      ]
    },
    {
      "cell_type": "code",
      "metadata": {
        "id": "d0AclQ2JPSPy",
        "colab_type": "code",
        "colab": {
          "base_uri": "https://localhost:8080/",
          "height": 35
        },
        "outputId": "1463bbe1-decf-4f41-f7e4-ea967caa3544"
      },
      "source": [
        "nb = GaussianNB()\n",
        "\n",
        "nb.fit(trainX, trainY)"
      ],
      "execution_count": 42,
      "outputs": [
        {
          "output_type": "execute_result",
          "data": {
            "text/plain": [
              "GaussianNB(priors=None, var_smoothing=1e-09)"
            ]
          },
          "metadata": {
            "tags": []
          },
          "execution_count": 42
        }
      ]
    },
    {
      "cell_type": "code",
      "metadata": {
        "id": "YKUtI1l8Pr1p",
        "colab_type": "code",
        "colab": {}
      },
      "source": [
        "nb_predicted = nb.predict(testX)"
      ],
      "execution_count": 43,
      "outputs": []
    },
    {
      "cell_type": "code",
      "metadata": {
        "id": "3K7CD4v8Pydz",
        "colab_type": "code",
        "colab": {
          "base_uri": "https://localhost:8080/",
          "height": 219
        },
        "outputId": "e7ed3b98-152c-4d52-d756-55e43f6282f3"
      },
      "source": [
        "print(classification_report(testY, nb_predicted))\n",
        "print(confusion_matrix(testY, nb_predicted))"
      ],
      "execution_count": 44,
      "outputs": [
        {
          "output_type": "stream",
          "text": [
            "              precision    recall  f1-score   support\n",
            "\n",
            "         0.0       0.96      0.89      0.92    197570\n",
            "         1.0       0.14      0.33      0.19     10540\n",
            "\n",
            "    accuracy                           0.86    208110\n",
            "   macro avg       0.55      0.61      0.56    208110\n",
            "weighted avg       0.92      0.86      0.89    208110\n",
            "\n",
            "[[176039  21531]\n",
            " [  7094   3446]]\n"
          ],
          "name": "stdout"
        }
      ]
    },
    {
      "cell_type": "markdown",
      "metadata": {
        "id": "qPYiLhy4QEmV",
        "colab_type": "text"
      },
      "source": [
        "## K Nearest Neighbor\n"
      ]
    },
    {
      "cell_type": "code",
      "metadata": {
        "id": "gBiUJD0jQNQP",
        "colab_type": "code",
        "colab": {
          "base_uri": "https://localhost:8080/",
          "height": 72
        },
        "outputId": "64d68b4e-78b6-4048-9b14-71829cee3f75"
      },
      "source": [
        "knn = KNeighborsClassifier()\n",
        "\n",
        "knn.fit(trainX, trainY)"
      ],
      "execution_count": 45,
      "outputs": [
        {
          "output_type": "execute_result",
          "data": {
            "text/plain": [
              "KNeighborsClassifier(algorithm='auto', leaf_size=30, metric='minkowski',\n",
              "                     metric_params=None, n_jobs=None, n_neighbors=5, p=2,\n",
              "                     weights='uniform')"
            ]
          },
          "metadata": {
            "tags": []
          },
          "execution_count": 45
        }
      ]
    },
    {
      "cell_type": "code",
      "metadata": {
        "id": "TDpUx8OJQUXt",
        "colab_type": "code",
        "colab": {}
      },
      "source": [
        "knn_predicted = knn.predict(testX)"
      ],
      "execution_count": 46,
      "outputs": []
    },
    {
      "cell_type": "code",
      "metadata": {
        "id": "GLi_EvNoQZe1",
        "colab_type": "code",
        "colab": {
          "base_uri": "https://localhost:8080/",
          "height": 219
        },
        "outputId": "6bb9ca4b-11a1-43b1-bbfe-aced547f61e3"
      },
      "source": [
        "print(classification_report(testY, knn_predicted))\n",
        "print(confusion_matrix(testY, knn_predicted))"
      ],
      "execution_count": 47,
      "outputs": [
        {
          "output_type": "stream",
          "text": [
            "              precision    recall  f1-score   support\n",
            "\n",
            "         0.0       1.00      1.00      1.00    197570\n",
            "         1.0       0.99      0.99      0.99     10540\n",
            "\n",
            "    accuracy                           1.00    208110\n",
            "   macro avg       0.99      1.00      0.99    208110\n",
            "weighted avg       1.00      1.00      1.00    208110\n",
            "\n",
            "[[197415    155]\n",
            " [    54  10486]]\n"
          ],
          "name": "stdout"
        }
      ]
    },
    {
      "cell_type": "markdown",
      "metadata": {
        "id": "hle5U_h4Qpa8",
        "colab_type": "text"
      },
      "source": [
        "## Decision Tree Classifier"
      ]
    },
    {
      "cell_type": "code",
      "metadata": {
        "id": "S4Hrnr90Qs2u",
        "colab_type": "code",
        "colab": {
          "base_uri": "https://localhost:8080/",
          "height": 127
        },
        "outputId": "a5cdb3e3-4ec5-41a5-9c43-b2d15e8d5192"
      },
      "source": [
        "dt = DecisionTreeClassifier()\n",
        "\n",
        "dt.fit(trainX, trainY)"
      ],
      "execution_count": 54,
      "outputs": [
        {
          "output_type": "execute_result",
          "data": {
            "text/plain": [
              "DecisionTreeClassifier(ccp_alpha=0.0, class_weight=None, criterion='gini',\n",
              "                       max_depth=None, max_features=None, max_leaf_nodes=None,\n",
              "                       min_impurity_decrease=0.0, min_impurity_split=None,\n",
              "                       min_samples_leaf=1, min_samples_split=2,\n",
              "                       min_weight_fraction_leaf=0.0, presort='deprecated',\n",
              "                       random_state=None, splitter='best')"
            ]
          },
          "metadata": {
            "tags": []
          },
          "execution_count": 54
        }
      ]
    },
    {
      "cell_type": "code",
      "metadata": {
        "id": "4YTEim_2Q4YE",
        "colab_type": "code",
        "colab": {}
      },
      "source": [
        "dt_predicted = dt.predict(testX)"
      ],
      "execution_count": 55,
      "outputs": []
    },
    {
      "cell_type": "code",
      "metadata": {
        "id": "m4_wRtPHQ8Bu",
        "colab_type": "code",
        "colab": {
          "base_uri": "https://localhost:8080/",
          "height": 219
        },
        "outputId": "bd09f205-0d22-49d6-f75b-83c76a17120c"
      },
      "source": [
        "print(classification_report(testY, dt_predicted))\n",
        "print(confusion_matrix(testY, dt_predicted))"
      ],
      "execution_count": 56,
      "outputs": [
        {
          "output_type": "stream",
          "text": [
            "              precision    recall  f1-score   support\n",
            "\n",
            "         0.0       1.00      1.00      1.00    197570\n",
            "         1.0       1.00      1.00      1.00     10540\n",
            "\n",
            "    accuracy                           1.00    208110\n",
            "   macro avg       1.00      1.00      1.00    208110\n",
            "weighted avg       1.00      1.00      1.00    208110\n",
            "\n",
            "[[197569      1]\n",
            " [     1  10539]]\n"
          ],
          "name": "stdout"
        }
      ]
    },
    {
      "cell_type": "code",
      "metadata": {
        "id": "hdfvL-CPQ_K1",
        "colab_type": "code",
        "colab": {}
      },
      "source": [
        ""
      ],
      "execution_count": null,
      "outputs": []
    },
    {
      "cell_type": "markdown",
      "metadata": {
        "id": "3whQHA9qRqtn",
        "colab_type": "text"
      },
      "source": [
        "## AdaBoost"
      ]
    },
    {
      "cell_type": "code",
      "metadata": {
        "id": "igLZbYICRyxq",
        "colab_type": "code",
        "colab": {
          "base_uri": "https://localhost:8080/",
          "height": 54
        },
        "outputId": "ba31aa7d-a6fc-477f-e1bd-fe5c08b63006"
      },
      "source": [
        "ada = AdaBoostClassifier()\n",
        "\n",
        "ada.fit(trainX, trainY)"
      ],
      "execution_count": 63,
      "outputs": [
        {
          "output_type": "execute_result",
          "data": {
            "text/plain": [
              "AdaBoostClassifier(algorithm='SAMME.R', base_estimator=None, learning_rate=1.0,\n",
              "                   n_estimators=50, random_state=None)"
            ]
          },
          "metadata": {
            "tags": []
          },
          "execution_count": 63
        }
      ]
    },
    {
      "cell_type": "code",
      "metadata": {
        "id": "pFhgayt4R2yO",
        "colab_type": "code",
        "colab": {}
      },
      "source": [
        "ada_predicted = ada.predict(testX)"
      ],
      "execution_count": 64,
      "outputs": []
    },
    {
      "cell_type": "code",
      "metadata": {
        "id": "2og3_NA5R-qN",
        "colab_type": "code",
        "colab": {
          "base_uri": "https://localhost:8080/",
          "height": 219
        },
        "outputId": "8feb1f8b-8f8d-4e66-b878-483768586f34"
      },
      "source": [
        "print(classification_report(testY, ada_predicted))\n",
        "print(confusion_matrix(testY, ada_predicted))"
      ],
      "execution_count": 65,
      "outputs": [
        {
          "output_type": "stream",
          "text": [
            "              precision    recall  f1-score   support\n",
            "\n",
            "         0.0       1.00      1.00      1.00    197570\n",
            "         1.0       1.00      1.00      1.00     10540\n",
            "\n",
            "    accuracy                           1.00    208110\n",
            "   macro avg       1.00      1.00      1.00    208110\n",
            "weighted avg       1.00      1.00      1.00    208110\n",
            "\n",
            "[[197569      1]\n",
            " [     0  10540]]\n"
          ],
          "name": "stdout"
        }
      ]
    },
    {
      "cell_type": "markdown",
      "metadata": {
        "id": "Z8EX_ch4Wf3V",
        "colab_type": "text"
      },
      "source": [
        "## Multi Layer Perceptrons"
      ]
    },
    {
      "cell_type": "code",
      "metadata": {
        "id": "Frd39ruRWjg1",
        "colab_type": "code",
        "colab": {
          "base_uri": "https://localhost:8080/",
          "height": 164
        },
        "outputId": "be4ee283-3ee8-4df7-af28-5a5d439a547e"
      },
      "source": [
        "mlp = MLPClassifier(random_state=16, max_iter=300)\n",
        "\n",
        "mlp.fit(trainX, trainY)"
      ],
      "execution_count": 71,
      "outputs": [
        {
          "output_type": "execute_result",
          "data": {
            "text/plain": [
              "MLPClassifier(activation='relu', alpha=0.0001, batch_size='auto', beta_1=0.9,\n",
              "              beta_2=0.999, early_stopping=False, epsilon=1e-08,\n",
              "              hidden_layer_sizes=(100,), learning_rate='constant',\n",
              "              learning_rate_init=0.001, max_fun=15000, max_iter=300,\n",
              "              momentum=0.9, n_iter_no_change=10, nesterovs_momentum=True,\n",
              "              power_t=0.5, random_state=16, shuffle=True, solver='adam',\n",
              "              tol=0.0001, validation_fraction=0.1, verbose=False,\n",
              "              warm_start=False)"
            ]
          },
          "metadata": {
            "tags": []
          },
          "execution_count": 71
        }
      ]
    },
    {
      "cell_type": "code",
      "metadata": {
        "id": "mLxZUH2cW5bF",
        "colab_type": "code",
        "colab": {}
      },
      "source": [
        "mlp_predicted = mlp.predict(testX)"
      ],
      "execution_count": 73,
      "outputs": []
    },
    {
      "cell_type": "code",
      "metadata": {
        "id": "Y2cakojCXBV8",
        "colab_type": "code",
        "colab": {
          "base_uri": "https://localhost:8080/",
          "height": 219
        },
        "outputId": "1bda837e-6dd2-476c-b182-025b93bd48bb"
      },
      "source": [
        "print(classification_report(testY, mlp_predicted))\n",
        "print(confusion_matrix(testY, mlp_predicted))"
      ],
      "execution_count": 74,
      "outputs": [
        {
          "output_type": "stream",
          "text": [
            "              precision    recall  f1-score   support\n",
            "\n",
            "         0.0       0.95      1.00      0.97    197570\n",
            "         1.0       1.00      0.00      0.01     10540\n",
            "\n",
            "    accuracy                           0.95    208110\n",
            "   macro avg       0.97      0.50      0.49    208110\n",
            "weighted avg       0.95      0.95      0.93    208110\n",
            "\n",
            "[[197570      0]\n",
            " [ 10490     50]]\n"
          ],
          "name": "stdout"
        }
      ]
    },
    {
      "cell_type": "markdown",
      "metadata": {
        "id": "da85NSS9Xj1p",
        "colab_type": "text"
      },
      "source": [
        "## Quadratic Discriminant Analysis"
      ]
    },
    {
      "cell_type": "code",
      "metadata": {
        "id": "l2qNW6oSXm2y",
        "colab_type": "code",
        "colab": {
          "base_uri": "https://localhost:8080/",
          "height": 90
        },
        "outputId": "4e6bcef3-2dde-4ea1-c06b-476834598572"
      },
      "source": [
        "qda = QuadraticDiscriminantAnalysis()\n",
        "\n",
        "qda.fit(trainX, trainY)"
      ],
      "execution_count": 8,
      "outputs": [
        {
          "output_type": "stream",
          "text": [
            "/usr/local/lib/python3.6/dist-packages/sklearn/discriminant_analysis.py:691: UserWarning: Variables are collinear\n",
            "  warnings.warn(\"Variables are collinear\")\n"
          ],
          "name": "stderr"
        },
        {
          "output_type": "execute_result",
          "data": {
            "text/plain": [
              "QuadraticDiscriminantAnalysis(priors=None, reg_param=0.0,\n",
              "                              store_covariance=False, tol=0.0001)"
            ]
          },
          "metadata": {
            "tags": []
          },
          "execution_count": 8
        }
      ]
    },
    {
      "cell_type": "code",
      "metadata": {
        "id": "ZUO1hR22ZJjd",
        "colab_type": "code",
        "colab": {}
      },
      "source": [
        "qda_predicted = qda.predict(testX)"
      ],
      "execution_count": 9,
      "outputs": []
    },
    {
      "cell_type": "code",
      "metadata": {
        "id": "kLILyDD4ZOK2",
        "colab_type": "code",
        "colab": {
          "base_uri": "https://localhost:8080/",
          "height": 219
        },
        "outputId": "17c21bdb-9e10-48b8-ca81-8e49dc4dba2e"
      },
      "source": [
        "print(classification_report(testY, qda_predicted))\n",
        "print(confusion_matrix(testY, qda_predicted))"
      ],
      "execution_count": 10,
      "outputs": [
        {
          "output_type": "stream",
          "text": [
            "              precision    recall  f1-score   support\n",
            "\n",
            "         0.0       1.00      1.00      1.00    197570\n",
            "         1.0       1.00      0.99      1.00     10540\n",
            "\n",
            "    accuracy                           1.00    208110\n",
            "   macro avg       1.00      1.00      1.00    208110\n",
            "weighted avg       1.00      1.00      1.00    208110\n",
            "\n",
            "[[197569      1]\n",
            " [    59  10481]]\n"
          ],
          "name": "stdout"
        }
      ]
    },
    {
      "cell_type": "markdown",
      "metadata": {
        "id": "IOXSjN7QkPq9",
        "colab_type": "text"
      },
      "source": [
        "## SVM"
      ]
    },
    {
      "cell_type": "code",
      "metadata": {
        "id": "pOC3sVW_ZQ3X",
        "colab_type": "code",
        "colab": {}
      },
      "source": [
        "svc = SVC()\n",
        "\n",
        "svc.fit(trainX, trainY)"
      ],
      "execution_count": null,
      "outputs": []
    },
    {
      "cell_type": "code",
      "metadata": {
        "id": "GA9upWEFkZ3i",
        "colab_type": "code",
        "colab": {}
      },
      "source": [
        "svc_predicted = svc.predict(testX)"
      ],
      "execution_count": null,
      "outputs": []
    },
    {
      "cell_type": "code",
      "metadata": {
        "id": "h3KxYiRZkdm0",
        "colab_type": "code",
        "colab": {}
      },
      "source": [
        "print(classification_report(testY, svc_predicted))\n",
        "print(confusion_matrix(testY, svc_predicted))"
      ],
      "execution_count": null,
      "outputs": []
    },
    {
      "cell_type": "code",
      "metadata": {
        "id": "fWVeRARjkiFs",
        "colab_type": "code",
        "colab": {}
      },
      "source": [
        ""
      ],
      "execution_count": null,
      "outputs": []
    }
  ]
}