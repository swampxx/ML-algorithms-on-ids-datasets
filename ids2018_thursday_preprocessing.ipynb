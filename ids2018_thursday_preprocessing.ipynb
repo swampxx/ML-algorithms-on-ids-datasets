{
  "nbformat": 4,
  "nbformat_minor": 0,
  "metadata": {
    "colab": {
      "name": "ids2018-thursday-preprocessing.ipynb",
      "provenance": [],
      "authorship_tag": "ABX9TyN067ivxPmVme4wkWAGoVJD",
      "include_colab_link": true
    },
    "kernelspec": {
      "name": "python3",
      "display_name": "Python 3"
    }
  },
  "cells": [
    {
      "cell_type": "markdown",
      "metadata": {
        "id": "view-in-github",
        "colab_type": "text"
      },
      "source": [
        "<a href=\"https://colab.research.google.com/github/swampxx/ML-algorithms-on-ids-datasets/blob/master/ids2018_thursday_preprocessing.ipynb\" target=\"_parent\"><img src=\"https://colab.research.google.com/assets/colab-badge.svg\" alt=\"Open In Colab\"/></a>"
      ]
    },
    {
      "cell_type": "code",
      "metadata": {
        "id": "wHH0bU35deJ7",
        "colab_type": "code",
        "colab": {
          "base_uri": "https://localhost:8080/",
          "height": 35
        },
        "outputId": "1b5e75b0-ba4d-4b53-9332-21999a71a85c"
      },
      "source": [
        "from google.colab import drive\n",
        "drive.mount('/content/drive')"
      ],
      "execution_count": 61,
      "outputs": [
        {
          "output_type": "stream",
          "text": [
            "Drive already mounted at /content/drive; to attempt to forcibly remount, call drive.mount(\"/content/drive\", force_remount=True).\n"
          ],
          "name": "stdout"
        }
      ]
    },
    {
      "cell_type": "code",
      "metadata": {
        "id": "j7NCxYrhdsb8",
        "colab_type": "code",
        "colab": {}
      },
      "source": [
        "import numpy as np\n",
        "import pandas as pd\n",
        "\n",
        "from sklearn.kernel_approximation import RBFSampler\n",
        "from sklearn.linear_model import SGDClassifier\n",
        "from sklearn import svm\n",
        "from sklearn.metrics import classification_report\n",
        "from sklearn import metrics\n",
        "from sklearn.linear_model import LogisticRegression\n",
        "from sklearn.naive_bayes import GaussianNB\n",
        "from sklearn.neighbors import KNeighborsClassifier\n",
        "from sklearn.tree import DecisionTreeClassifier\n",
        "from sklearn.metrics import (precision_score, recall_score, f1_score, accuracy_score, mean_squared_error, mean_absolute_error)\n",
        "from sklearn.ensemble import AdaBoostClassifier\n",
        "from sklearn.ensemble import RandomForestClassifier\n",
        "from sklearn.preprocessing import Normalizer\n",
        "from sklearn.model_selection import GridSearchCV\n",
        "from sklearn.feature_selection import SelectFromModel, SelectKBest\n",
        "from sklearn.feature_selection import chi2, f_classif\n",
        "from sklearn.svm import SVC\n",
        "from sklearn.metrics import confusion_matrix\n",
        "from sklearn.metrics import (precision_score, recall_score,f1_score, accuracy_score,mean_squared_error,mean_absolute_error, roc_curve, classification_report,auc)\n"
      ],
      "execution_count": 62,
      "outputs": []
    },
    {
      "cell_type": "code",
      "metadata": {
        "id": "tvboLAoZduzz",
        "colab_type": "code",
        "colab": {
          "base_uri": "https://localhost:8080/",
          "height": 127
        },
        "outputId": "5b61022c-f8aa-495d-c49d-065eff114bfa"
      },
      "source": [
        "!ls drive/My\\ Drive/security_term_project/\n",
        "\n",
        "path = \"drive/My Drive/security_term_project/\""
      ],
      "execution_count": 63,
      "outputs": [
        {
          "output_type": "stream",
          "text": [
            "66398.pdf\t\t\t      test_y_processed_fi.txt\n",
            "ids_2018_thursday.csv\t\t      test_y_processed_kbest.txt\n",
            "ids2018-thursday_final_df_labels.txt  train_x_processed_fi.txt\n",
            "ids2018-thursday_final_df.txt\t      train_x_processed_kbest.txt\n",
            "test_x_processed_fi.txt\t\t      train_y_processed_fi.txt\n",
            "test_x_processed_kbest.txt\t      train_y_processed_kbest.txt\n"
          ],
          "name": "stdout"
        }
      ]
    },
    {
      "cell_type": "code",
      "metadata": {
        "id": "hZDq1JQedy_M",
        "colab_type": "code",
        "colab": {}
      },
      "source": [
        "df = pd.read_csv(path+\"ids_2018_thursday.csv\")"
      ],
      "execution_count": 64,
      "outputs": []
    },
    {
      "cell_type": "code",
      "metadata": {
        "id": "FkXyCyFgd8B7",
        "colab_type": "code",
        "colab": {
          "base_uri": "https://localhost:8080/",
          "height": 365
        },
        "outputId": "4c38b606-3ee3-41ff-8f2c-13e22c3a7f4d"
      },
      "source": [
        "df.head()"
      ],
      "execution_count": 65,
      "outputs": [
        {
          "output_type": "execute_result",
          "data": {
            "text/html": [
              "<div>\n",
              "<style scoped>\n",
              "    .dataframe tbody tr th:only-of-type {\n",
              "        vertical-align: middle;\n",
              "    }\n",
              "\n",
              "    .dataframe tbody tr th {\n",
              "        vertical-align: top;\n",
              "    }\n",
              "\n",
              "    .dataframe thead th {\n",
              "        text-align: right;\n",
              "    }\n",
              "</style>\n",
              "<table border=\"1\" class=\"dataframe\">\n",
              "  <thead>\n",
              "    <tr style=\"text-align: right;\">\n",
              "      <th></th>\n",
              "      <th>Dst Port</th>\n",
              "      <th>Protocol</th>\n",
              "      <th>Timestamp</th>\n",
              "      <th>Flow Duration</th>\n",
              "      <th>Tot Fwd Pkts</th>\n",
              "      <th>Tot Bwd Pkts</th>\n",
              "      <th>TotLen Fwd Pkts</th>\n",
              "      <th>TotLen Bwd Pkts</th>\n",
              "      <th>Fwd Pkt Len Max</th>\n",
              "      <th>Fwd Pkt Len Min</th>\n",
              "      <th>Fwd Pkt Len Mean</th>\n",
              "      <th>Fwd Pkt Len Std</th>\n",
              "      <th>Bwd Pkt Len Max</th>\n",
              "      <th>Bwd Pkt Len Min</th>\n",
              "      <th>Bwd Pkt Len Mean</th>\n",
              "      <th>Bwd Pkt Len Std</th>\n",
              "      <th>Flow Byts/s</th>\n",
              "      <th>Flow Pkts/s</th>\n",
              "      <th>Flow IAT Mean</th>\n",
              "      <th>Flow IAT Std</th>\n",
              "      <th>Flow IAT Max</th>\n",
              "      <th>Flow IAT Min</th>\n",
              "      <th>Fwd IAT Tot</th>\n",
              "      <th>Fwd IAT Mean</th>\n",
              "      <th>Fwd IAT Std</th>\n",
              "      <th>Fwd IAT Max</th>\n",
              "      <th>Fwd IAT Min</th>\n",
              "      <th>Bwd IAT Tot</th>\n",
              "      <th>Bwd IAT Mean</th>\n",
              "      <th>Bwd IAT Std</th>\n",
              "      <th>Bwd IAT Max</th>\n",
              "      <th>Bwd IAT Min</th>\n",
              "      <th>Fwd PSH Flags</th>\n",
              "      <th>Bwd PSH Flags</th>\n",
              "      <th>Fwd URG Flags</th>\n",
              "      <th>Bwd URG Flags</th>\n",
              "      <th>Fwd Header Len</th>\n",
              "      <th>Bwd Header Len</th>\n",
              "      <th>Fwd Pkts/s</th>\n",
              "      <th>Bwd Pkts/s</th>\n",
              "      <th>Pkt Len Min</th>\n",
              "      <th>Pkt Len Max</th>\n",
              "      <th>Pkt Len Mean</th>\n",
              "      <th>Pkt Len Std</th>\n",
              "      <th>Pkt Len Var</th>\n",
              "      <th>FIN Flag Cnt</th>\n",
              "      <th>SYN Flag Cnt</th>\n",
              "      <th>RST Flag Cnt</th>\n",
              "      <th>PSH Flag Cnt</th>\n",
              "      <th>ACK Flag Cnt</th>\n",
              "      <th>URG Flag Cnt</th>\n",
              "      <th>CWE Flag Count</th>\n",
              "      <th>ECE Flag Cnt</th>\n",
              "      <th>Down/Up Ratio</th>\n",
              "      <th>Pkt Size Avg</th>\n",
              "      <th>Fwd Seg Size Avg</th>\n",
              "      <th>Bwd Seg Size Avg</th>\n",
              "      <th>Fwd Byts/b Avg</th>\n",
              "      <th>Fwd Pkts/b Avg</th>\n",
              "      <th>Fwd Blk Rate Avg</th>\n",
              "      <th>Bwd Byts/b Avg</th>\n",
              "      <th>Bwd Pkts/b Avg</th>\n",
              "      <th>Bwd Blk Rate Avg</th>\n",
              "      <th>Subflow Fwd Pkts</th>\n",
              "      <th>Subflow Fwd Byts</th>\n",
              "      <th>Subflow Bwd Pkts</th>\n",
              "      <th>Subflow Bwd Byts</th>\n",
              "      <th>Init Fwd Win Byts</th>\n",
              "      <th>Init Bwd Win Byts</th>\n",
              "      <th>Fwd Act Data Pkts</th>\n",
              "      <th>Fwd Seg Size Min</th>\n",
              "      <th>Active Mean</th>\n",
              "      <th>Active Std</th>\n",
              "      <th>Active Max</th>\n",
              "      <th>Active Min</th>\n",
              "      <th>Idle Mean</th>\n",
              "      <th>Idle Std</th>\n",
              "      <th>Idle Max</th>\n",
              "      <th>Idle Min</th>\n",
              "      <th>Label</th>\n",
              "    </tr>\n",
              "  </thead>\n",
              "  <tbody>\n",
              "    <tr>\n",
              "      <th>0</th>\n",
              "      <td>0</td>\n",
              "      <td>0</td>\n",
              "      <td>15/02/2018 08:25:18</td>\n",
              "      <td>112641158</td>\n",
              "      <td>3</td>\n",
              "      <td>0</td>\n",
              "      <td>0</td>\n",
              "      <td>0</td>\n",
              "      <td>0</td>\n",
              "      <td>0</td>\n",
              "      <td>0.000000</td>\n",
              "      <td>0.000000</td>\n",
              "      <td>0</td>\n",
              "      <td>0</td>\n",
              "      <td>0.000000</td>\n",
              "      <td>0.000000</td>\n",
              "      <td>0.000000</td>\n",
              "      <td>0.026633</td>\n",
              "      <td>56320579.00</td>\n",
              "      <td>7.042784e+02</td>\n",
              "      <td>56321077</td>\n",
              "      <td>56320081</td>\n",
              "      <td>112641158</td>\n",
              "      <td>5.632058e+07</td>\n",
              "      <td>7.042784e+02</td>\n",
              "      <td>56321077</td>\n",
              "      <td>56320081</td>\n",
              "      <td>0</td>\n",
              "      <td>0.000000e+00</td>\n",
              "      <td>0.000000e+00</td>\n",
              "      <td>0</td>\n",
              "      <td>0</td>\n",
              "      <td>0</td>\n",
              "      <td>0</td>\n",
              "      <td>0</td>\n",
              "      <td>0</td>\n",
              "      <td>0</td>\n",
              "      <td>0</td>\n",
              "      <td>0.026633</td>\n",
              "      <td>0.000000</td>\n",
              "      <td>0</td>\n",
              "      <td>0</td>\n",
              "      <td>0.000000</td>\n",
              "      <td>0.000000</td>\n",
              "      <td>0.000000</td>\n",
              "      <td>0</td>\n",
              "      <td>0</td>\n",
              "      <td>0</td>\n",
              "      <td>0</td>\n",
              "      <td>0</td>\n",
              "      <td>0</td>\n",
              "      <td>0</td>\n",
              "      <td>0</td>\n",
              "      <td>0</td>\n",
              "      <td>0.0</td>\n",
              "      <td>0.000000</td>\n",
              "      <td>0.000000</td>\n",
              "      <td>0</td>\n",
              "      <td>0</td>\n",
              "      <td>0</td>\n",
              "      <td>0</td>\n",
              "      <td>0</td>\n",
              "      <td>0</td>\n",
              "      <td>3</td>\n",
              "      <td>0</td>\n",
              "      <td>0</td>\n",
              "      <td>0</td>\n",
              "      <td>-1</td>\n",
              "      <td>-1</td>\n",
              "      <td>0</td>\n",
              "      <td>0</td>\n",
              "      <td>0.0</td>\n",
              "      <td>0.000000</td>\n",
              "      <td>0</td>\n",
              "      <td>0</td>\n",
              "      <td>56320579.0</td>\n",
              "      <td>7.042784e+02</td>\n",
              "      <td>56321077</td>\n",
              "      <td>56320081</td>\n",
              "      <td>Benign</td>\n",
              "    </tr>\n",
              "    <tr>\n",
              "      <th>1</th>\n",
              "      <td>22</td>\n",
              "      <td>6</td>\n",
              "      <td>15/02/2018 08:29:05</td>\n",
              "      <td>37366762</td>\n",
              "      <td>14</td>\n",
              "      <td>12</td>\n",
              "      <td>2168</td>\n",
              "      <td>2993</td>\n",
              "      <td>712</td>\n",
              "      <td>0</td>\n",
              "      <td>154.857143</td>\n",
              "      <td>254.855270</td>\n",
              "      <td>976</td>\n",
              "      <td>0</td>\n",
              "      <td>249.416667</td>\n",
              "      <td>395.929392</td>\n",
              "      <td>138.117400</td>\n",
              "      <td>0.695806</td>\n",
              "      <td>1494670.48</td>\n",
              "      <td>3.894924e+06</td>\n",
              "      <td>15617415</td>\n",
              "      <td>7</td>\n",
              "      <td>37366762</td>\n",
              "      <td>2.874366e+06</td>\n",
              "      <td>5.104444e+06</td>\n",
              "      <td>15617415</td>\n",
              "      <td>40</td>\n",
              "      <td>37366730</td>\n",
              "      <td>3.396975e+06</td>\n",
              "      <td>5.564224e+06</td>\n",
              "      <td>15936762</td>\n",
              "      <td>893</td>\n",
              "      <td>0</td>\n",
              "      <td>0</td>\n",
              "      <td>0</td>\n",
              "      <td>0</td>\n",
              "      <td>456</td>\n",
              "      <td>416</td>\n",
              "      <td>0.374665</td>\n",
              "      <td>0.321141</td>\n",
              "      <td>0</td>\n",
              "      <td>976</td>\n",
              "      <td>191.148148</td>\n",
              "      <td>320.122898</td>\n",
              "      <td>102478.669516</td>\n",
              "      <td>0</td>\n",
              "      <td>0</td>\n",
              "      <td>0</td>\n",
              "      <td>1</td>\n",
              "      <td>0</td>\n",
              "      <td>0</td>\n",
              "      <td>0</td>\n",
              "      <td>0</td>\n",
              "      <td>0</td>\n",
              "      <td>198.5</td>\n",
              "      <td>154.857143</td>\n",
              "      <td>249.416667</td>\n",
              "      <td>0</td>\n",
              "      <td>0</td>\n",
              "      <td>0</td>\n",
              "      <td>0</td>\n",
              "      <td>0</td>\n",
              "      <td>0</td>\n",
              "      <td>14</td>\n",
              "      <td>2168</td>\n",
              "      <td>12</td>\n",
              "      <td>2993</td>\n",
              "      <td>29200</td>\n",
              "      <td>232</td>\n",
              "      <td>8</td>\n",
              "      <td>32</td>\n",
              "      <td>1024353.0</td>\n",
              "      <td>649038.754495</td>\n",
              "      <td>1601183</td>\n",
              "      <td>321569</td>\n",
              "      <td>11431221.0</td>\n",
              "      <td>3.644991e+06</td>\n",
              "      <td>15617415</td>\n",
              "      <td>8960247</td>\n",
              "      <td>Benign</td>\n",
              "    </tr>\n",
              "    <tr>\n",
              "      <th>2</th>\n",
              "      <td>47514</td>\n",
              "      <td>6</td>\n",
              "      <td>15/02/2018 08:29:42</td>\n",
              "      <td>543</td>\n",
              "      <td>2</td>\n",
              "      <td>0</td>\n",
              "      <td>64</td>\n",
              "      <td>0</td>\n",
              "      <td>64</td>\n",
              "      <td>0</td>\n",
              "      <td>32.000000</td>\n",
              "      <td>45.254834</td>\n",
              "      <td>0</td>\n",
              "      <td>0</td>\n",
              "      <td>0.000000</td>\n",
              "      <td>0.000000</td>\n",
              "      <td>117863.720074</td>\n",
              "      <td>3683.241252</td>\n",
              "      <td>543.00</td>\n",
              "      <td>0.000000e+00</td>\n",
              "      <td>543</td>\n",
              "      <td>543</td>\n",
              "      <td>543</td>\n",
              "      <td>5.430000e+02</td>\n",
              "      <td>0.000000e+00</td>\n",
              "      <td>543</td>\n",
              "      <td>543</td>\n",
              "      <td>0</td>\n",
              "      <td>0.000000e+00</td>\n",
              "      <td>0.000000e+00</td>\n",
              "      <td>0</td>\n",
              "      <td>0</td>\n",
              "      <td>1</td>\n",
              "      <td>0</td>\n",
              "      <td>0</td>\n",
              "      <td>0</td>\n",
              "      <td>64</td>\n",
              "      <td>0</td>\n",
              "      <td>3683.241252</td>\n",
              "      <td>0.000000</td>\n",
              "      <td>0</td>\n",
              "      <td>64</td>\n",
              "      <td>42.666667</td>\n",
              "      <td>36.950417</td>\n",
              "      <td>1365.333333</td>\n",
              "      <td>0</td>\n",
              "      <td>1</td>\n",
              "      <td>0</td>\n",
              "      <td>0</td>\n",
              "      <td>1</td>\n",
              "      <td>0</td>\n",
              "      <td>0</td>\n",
              "      <td>0</td>\n",
              "      <td>0</td>\n",
              "      <td>64.0</td>\n",
              "      <td>32.000000</td>\n",
              "      <td>0.000000</td>\n",
              "      <td>0</td>\n",
              "      <td>0</td>\n",
              "      <td>0</td>\n",
              "      <td>0</td>\n",
              "      <td>0</td>\n",
              "      <td>0</td>\n",
              "      <td>2</td>\n",
              "      <td>64</td>\n",
              "      <td>0</td>\n",
              "      <td>0</td>\n",
              "      <td>244</td>\n",
              "      <td>-1</td>\n",
              "      <td>0</td>\n",
              "      <td>32</td>\n",
              "      <td>0.0</td>\n",
              "      <td>0.000000</td>\n",
              "      <td>0</td>\n",
              "      <td>0</td>\n",
              "      <td>0.0</td>\n",
              "      <td>0.000000e+00</td>\n",
              "      <td>0</td>\n",
              "      <td>0</td>\n",
              "      <td>Benign</td>\n",
              "    </tr>\n",
              "    <tr>\n",
              "      <th>3</th>\n",
              "      <td>0</td>\n",
              "      <td>0</td>\n",
              "      <td>15/02/2018 08:28:07</td>\n",
              "      <td>112640703</td>\n",
              "      <td>3</td>\n",
              "      <td>0</td>\n",
              "      <td>0</td>\n",
              "      <td>0</td>\n",
              "      <td>0</td>\n",
              "      <td>0</td>\n",
              "      <td>0.000000</td>\n",
              "      <td>0.000000</td>\n",
              "      <td>0</td>\n",
              "      <td>0</td>\n",
              "      <td>0.000000</td>\n",
              "      <td>0.000000</td>\n",
              "      <td>0.000000</td>\n",
              "      <td>0.026633</td>\n",
              "      <td>56320351.50</td>\n",
              "      <td>3.669884e+02</td>\n",
              "      <td>56320611</td>\n",
              "      <td>56320092</td>\n",
              "      <td>112640703</td>\n",
              "      <td>5.632035e+07</td>\n",
              "      <td>3.669884e+02</td>\n",
              "      <td>56320611</td>\n",
              "      <td>56320092</td>\n",
              "      <td>0</td>\n",
              "      <td>0.000000e+00</td>\n",
              "      <td>0.000000e+00</td>\n",
              "      <td>0</td>\n",
              "      <td>0</td>\n",
              "      <td>0</td>\n",
              "      <td>0</td>\n",
              "      <td>0</td>\n",
              "      <td>0</td>\n",
              "      <td>0</td>\n",
              "      <td>0</td>\n",
              "      <td>0.026633</td>\n",
              "      <td>0.000000</td>\n",
              "      <td>0</td>\n",
              "      <td>0</td>\n",
              "      <td>0.000000</td>\n",
              "      <td>0.000000</td>\n",
              "      <td>0.000000</td>\n",
              "      <td>0</td>\n",
              "      <td>0</td>\n",
              "      <td>0</td>\n",
              "      <td>0</td>\n",
              "      <td>0</td>\n",
              "      <td>0</td>\n",
              "      <td>0</td>\n",
              "      <td>0</td>\n",
              "      <td>0</td>\n",
              "      <td>0.0</td>\n",
              "      <td>0.000000</td>\n",
              "      <td>0.000000</td>\n",
              "      <td>0</td>\n",
              "      <td>0</td>\n",
              "      <td>0</td>\n",
              "      <td>0</td>\n",
              "      <td>0</td>\n",
              "      <td>0</td>\n",
              "      <td>3</td>\n",
              "      <td>0</td>\n",
              "      <td>0</td>\n",
              "      <td>0</td>\n",
              "      <td>-1</td>\n",
              "      <td>-1</td>\n",
              "      <td>0</td>\n",
              "      <td>0</td>\n",
              "      <td>0.0</td>\n",
              "      <td>0.000000</td>\n",
              "      <td>0</td>\n",
              "      <td>0</td>\n",
              "      <td>56320351.5</td>\n",
              "      <td>3.669884e+02</td>\n",
              "      <td>56320611</td>\n",
              "      <td>56320092</td>\n",
              "      <td>Benign</td>\n",
              "    </tr>\n",
              "    <tr>\n",
              "      <th>4</th>\n",
              "      <td>0</td>\n",
              "      <td>0</td>\n",
              "      <td>15/02/2018 08:30:56</td>\n",
              "      <td>112640874</td>\n",
              "      <td>3</td>\n",
              "      <td>0</td>\n",
              "      <td>0</td>\n",
              "      <td>0</td>\n",
              "      <td>0</td>\n",
              "      <td>0</td>\n",
              "      <td>0.000000</td>\n",
              "      <td>0.000000</td>\n",
              "      <td>0</td>\n",
              "      <td>0</td>\n",
              "      <td>0.000000</td>\n",
              "      <td>0.000000</td>\n",
              "      <td>0.000000</td>\n",
              "      <td>0.026633</td>\n",
              "      <td>56320437.00</td>\n",
              "      <td>7.198347e+02</td>\n",
              "      <td>56320946</td>\n",
              "      <td>56319928</td>\n",
              "      <td>112640874</td>\n",
              "      <td>5.632044e+07</td>\n",
              "      <td>7.198347e+02</td>\n",
              "      <td>56320946</td>\n",
              "      <td>56319928</td>\n",
              "      <td>0</td>\n",
              "      <td>0.000000e+00</td>\n",
              "      <td>0.000000e+00</td>\n",
              "      <td>0</td>\n",
              "      <td>0</td>\n",
              "      <td>0</td>\n",
              "      <td>0</td>\n",
              "      <td>0</td>\n",
              "      <td>0</td>\n",
              "      <td>0</td>\n",
              "      <td>0</td>\n",
              "      <td>0.026633</td>\n",
              "      <td>0.000000</td>\n",
              "      <td>0</td>\n",
              "      <td>0</td>\n",
              "      <td>0.000000</td>\n",
              "      <td>0.000000</td>\n",
              "      <td>0.000000</td>\n",
              "      <td>0</td>\n",
              "      <td>0</td>\n",
              "      <td>0</td>\n",
              "      <td>0</td>\n",
              "      <td>0</td>\n",
              "      <td>0</td>\n",
              "      <td>0</td>\n",
              "      <td>0</td>\n",
              "      <td>0</td>\n",
              "      <td>0.0</td>\n",
              "      <td>0.000000</td>\n",
              "      <td>0.000000</td>\n",
              "      <td>0</td>\n",
              "      <td>0</td>\n",
              "      <td>0</td>\n",
              "      <td>0</td>\n",
              "      <td>0</td>\n",
              "      <td>0</td>\n",
              "      <td>3</td>\n",
              "      <td>0</td>\n",
              "      <td>0</td>\n",
              "      <td>0</td>\n",
              "      <td>-1</td>\n",
              "      <td>-1</td>\n",
              "      <td>0</td>\n",
              "      <td>0</td>\n",
              "      <td>0.0</td>\n",
              "      <td>0.000000</td>\n",
              "      <td>0</td>\n",
              "      <td>0</td>\n",
              "      <td>56320437.0</td>\n",
              "      <td>7.198347e+02</td>\n",
              "      <td>56320946</td>\n",
              "      <td>56319928</td>\n",
              "      <td>Benign</td>\n",
              "    </tr>\n",
              "  </tbody>\n",
              "</table>\n",
              "</div>"
            ],
            "text/plain": [
              "   Dst Port  Protocol            Timestamp  ...  Idle Max  Idle Min   Label\n",
              "0         0         0  15/02/2018 08:25:18  ...  56321077  56320081  Benign\n",
              "1        22         6  15/02/2018 08:29:05  ...  15617415   8960247  Benign\n",
              "2     47514         6  15/02/2018 08:29:42  ...         0         0  Benign\n",
              "3         0         0  15/02/2018 08:28:07  ...  56320611  56320092  Benign\n",
              "4         0         0  15/02/2018 08:30:56  ...  56320946  56319928  Benign\n",
              "\n",
              "[5 rows x 80 columns]"
            ]
          },
          "metadata": {
            "tags": []
          },
          "execution_count": 65
        }
      ]
    },
    {
      "cell_type": "code",
      "metadata": {
        "id": "RmMMESmCePKr",
        "colab_type": "code",
        "colab": {
          "base_uri": "https://localhost:8080/",
          "height": 1000
        },
        "outputId": "6ab566f3-d428-4bae-8aba-2a128c9ac86d"
      },
      "source": [
        "df.dropna(inplace=True)\n",
        "df[\"Flow Pkts/s\"] = pd.to_numeric(df[\"Flow Pkts/s\"], errors='coerce')\n",
        "df.drop('Timestamp', axis=1, inplace=True)\n",
        "df['Protocol'] = df['Protocol'].astype(\"category\")\n",
        "one_hot = pd.get_dummies(df[\"Protocol\"], prefix=\"Protocol\")\n",
        "df = df.drop(\"Protocol\", axis=1)\n",
        "df = df.join(one_hot)\n",
        "df = df[~df.isin([np.nan, np.inf, -np.inf]).any(1)]\n",
        "df = df.replace(\"Benign\", 0).replace('DoS attacks-GoldenEye', 1).replace('DoS attacks-Slowloris', 1)\n",
        "df.info(verbose=True)"
      ],
      "execution_count": 66,
      "outputs": [
        {
          "output_type": "stream",
          "text": [
            "<class 'pandas.core.frame.DataFrame'>\n",
            "Int64Index: 1040548 entries, 0 to 1048574\n",
            "Data columns (total 81 columns):\n",
            " #   Column             Non-Null Count    Dtype  \n",
            "---  ------             --------------    -----  \n",
            " 0   Dst Port           1040548 non-null  int64  \n",
            " 1   Flow Duration      1040548 non-null  int64  \n",
            " 2   Tot Fwd Pkts       1040548 non-null  int64  \n",
            " 3   Tot Bwd Pkts       1040548 non-null  int64  \n",
            " 4   TotLen Fwd Pkts    1040548 non-null  int64  \n",
            " 5   TotLen Bwd Pkts    1040548 non-null  int64  \n",
            " 6   Fwd Pkt Len Max    1040548 non-null  int64  \n",
            " 7   Fwd Pkt Len Min    1040548 non-null  int64  \n",
            " 8   Fwd Pkt Len Mean   1040548 non-null  float64\n",
            " 9   Fwd Pkt Len Std    1040548 non-null  float64\n",
            " 10  Bwd Pkt Len Max    1040548 non-null  int64  \n",
            " 11  Bwd Pkt Len Min    1040548 non-null  int64  \n",
            " 12  Bwd Pkt Len Mean   1040548 non-null  float64\n",
            " 13  Bwd Pkt Len Std    1040548 non-null  float64\n",
            " 14  Flow Byts/s        1040548 non-null  float64\n",
            " 15  Flow Pkts/s        1040548 non-null  float64\n",
            " 16  Flow IAT Mean      1040548 non-null  float64\n",
            " 17  Flow IAT Std       1040548 non-null  float64\n",
            " 18  Flow IAT Max       1040548 non-null  int64  \n",
            " 19  Flow IAT Min       1040548 non-null  int64  \n",
            " 20  Fwd IAT Tot        1040548 non-null  int64  \n",
            " 21  Fwd IAT Mean       1040548 non-null  float64\n",
            " 22  Fwd IAT Std        1040548 non-null  float64\n",
            " 23  Fwd IAT Max        1040548 non-null  int64  \n",
            " 24  Fwd IAT Min        1040548 non-null  int64  \n",
            " 25  Bwd IAT Tot        1040548 non-null  int64  \n",
            " 26  Bwd IAT Mean       1040548 non-null  float64\n",
            " 27  Bwd IAT Std        1040548 non-null  float64\n",
            " 28  Bwd IAT Max        1040548 non-null  int64  \n",
            " 29  Bwd IAT Min        1040548 non-null  int64  \n",
            " 30  Fwd PSH Flags      1040548 non-null  int64  \n",
            " 31  Bwd PSH Flags      1040548 non-null  int64  \n",
            " 32  Fwd URG Flags      1040548 non-null  int64  \n",
            " 33  Bwd URG Flags      1040548 non-null  int64  \n",
            " 34  Fwd Header Len     1040548 non-null  int64  \n",
            " 35  Bwd Header Len     1040548 non-null  int64  \n",
            " 36  Fwd Pkts/s         1040548 non-null  float64\n",
            " 37  Bwd Pkts/s         1040548 non-null  float64\n",
            " 38  Pkt Len Min        1040548 non-null  int64  \n",
            " 39  Pkt Len Max        1040548 non-null  int64  \n",
            " 40  Pkt Len Mean       1040548 non-null  float64\n",
            " 41  Pkt Len Std        1040548 non-null  float64\n",
            " 42  Pkt Len Var        1040548 non-null  float64\n",
            " 43  FIN Flag Cnt       1040548 non-null  int64  \n",
            " 44  SYN Flag Cnt       1040548 non-null  int64  \n",
            " 45  RST Flag Cnt       1040548 non-null  int64  \n",
            " 46  PSH Flag Cnt       1040548 non-null  int64  \n",
            " 47  ACK Flag Cnt       1040548 non-null  int64  \n",
            " 48  URG Flag Cnt       1040548 non-null  int64  \n",
            " 49  CWE Flag Count     1040548 non-null  int64  \n",
            " 50  ECE Flag Cnt       1040548 non-null  int64  \n",
            " 51  Down/Up Ratio      1040548 non-null  int64  \n",
            " 52  Pkt Size Avg       1040548 non-null  float64\n",
            " 53  Fwd Seg Size Avg   1040548 non-null  float64\n",
            " 54  Bwd Seg Size Avg   1040548 non-null  float64\n",
            " 55  Fwd Byts/b Avg     1040548 non-null  int64  \n",
            " 56  Fwd Pkts/b Avg     1040548 non-null  int64  \n",
            " 57  Fwd Blk Rate Avg   1040548 non-null  int64  \n",
            " 58  Bwd Byts/b Avg     1040548 non-null  int64  \n",
            " 59  Bwd Pkts/b Avg     1040548 non-null  int64  \n",
            " 60  Bwd Blk Rate Avg   1040548 non-null  int64  \n",
            " 61  Subflow Fwd Pkts   1040548 non-null  int64  \n",
            " 62  Subflow Fwd Byts   1040548 non-null  int64  \n",
            " 63  Subflow Bwd Pkts   1040548 non-null  int64  \n",
            " 64  Subflow Bwd Byts   1040548 non-null  int64  \n",
            " 65  Init Fwd Win Byts  1040548 non-null  int64  \n",
            " 66  Init Bwd Win Byts  1040548 non-null  int64  \n",
            " 67  Fwd Act Data Pkts  1040548 non-null  int64  \n",
            " 68  Fwd Seg Size Min   1040548 non-null  int64  \n",
            " 69  Active Mean        1040548 non-null  float64\n",
            " 70  Active Std         1040548 non-null  float64\n",
            " 71  Active Max         1040548 non-null  int64  \n",
            " 72  Active Min         1040548 non-null  int64  \n",
            " 73  Idle Mean          1040548 non-null  float64\n",
            " 74  Idle Std           1040548 non-null  float64\n",
            " 75  Idle Max           1040548 non-null  int64  \n",
            " 76  Idle Min           1040548 non-null  int64  \n",
            " 77  Label              1040548 non-null  int64  \n",
            " 78  Protocol_0         1040548 non-null  uint8  \n",
            " 79  Protocol_6         1040548 non-null  uint8  \n",
            " 80  Protocol_17        1040548 non-null  uint8  \n",
            "dtypes: float64(24), int64(54), uint8(3)\n",
            "memory usage: 630.1 MB\n"
          ],
          "name": "stdout"
        }
      ]
    },
    {
      "cell_type": "markdown",
      "metadata": {
        "id": "BQTZoTEXlqIN",
        "colab_type": "text"
      },
      "source": [
        "## Feature Selection"
      ]
    },
    {
      "cell_type": "code",
      "metadata": {
        "id": "sbrgk7-9e0mt",
        "colab_type": "code",
        "colab": {}
      },
      "source": [
        "all_labels = df.Label.copy().values\n",
        "all_data = df.drop('Label', axis = 1).values"
      ],
      "execution_count": 67,
      "outputs": []
    },
    {
      "cell_type": "code",
      "metadata": {
        "id": "yqp7earIhWIV",
        "colab_type": "code",
        "colab": {
          "base_uri": "https://localhost:8080/",
          "height": 35
        },
        "outputId": "50eb53cf-7e47-4838-abf0-6f4296f00d5c"
      },
      "source": [
        "all_labels.shape, all_data.shape"
      ],
      "execution_count": 68,
      "outputs": [
        {
          "output_type": "execute_result",
          "data": {
            "text/plain": [
              "((1040548,), (1040548, 80))"
            ]
          },
          "metadata": {
            "tags": []
          },
          "execution_count": 68
        }
      ]
    },
    {
      "cell_type": "markdown",
      "metadata": {
        "id": "_lG2XJLNmHD9",
        "colab_type": "text"
      },
      "source": [
        "### With KBest"
      ]
    },
    {
      "cell_type": "code",
      "metadata": {
        "id": "q031ml8ZmSF-",
        "colab_type": "code",
        "colab": {
          "base_uri": "https://localhost:8080/",
          "height": 109
        },
        "outputId": "ce5a45ad-f395-4658-ab80-2740ea46c1b7"
      },
      "source": [
        "featureSelector = SelectKBest(f_classif, k=40)\n",
        "featureSelector.fit(all_data, all_labels)"
      ],
      "execution_count": 69,
      "outputs": [
        {
          "output_type": "stream",
          "text": [
            "/usr/local/lib/python3.6/dist-packages/sklearn/feature_selection/_univariate_selection.py:114: UserWarning: Features [31 32 33 49 55 56 57 58 59 60] are constant.\n",
            "  UserWarning)\n",
            "/usr/local/lib/python3.6/dist-packages/sklearn/feature_selection/_univariate_selection.py:115: RuntimeWarning: invalid value encountered in true_divide\n",
            "  f = msb / msw\n"
          ],
          "name": "stderr"
        },
        {
          "output_type": "execute_result",
          "data": {
            "text/plain": [
              "SelectKBest(k=40, score_func=<function f_classif at 0x7f576ab96ae8>)"
            ]
          },
          "metadata": {
            "tags": []
          },
          "execution_count": 69
        }
      ]
    },
    {
      "cell_type": "code",
      "metadata": {
        "id": "RFF7qdzpmklo",
        "colab_type": "code",
        "colab": {}
      },
      "source": [
        "df_withoutLabel =  df.drop('Label', axis = 1)\n",
        "features = df_withoutLabel.columns[featureSelector.get_support()]"
      ],
      "execution_count": 70,
      "outputs": []
    },
    {
      "cell_type": "code",
      "metadata": {
        "id": "-6So7VYTnEyM",
        "colab_type": "code",
        "colab": {
          "base_uri": "https://localhost:8080/",
          "height": 219
        },
        "outputId": "a2670b88-6894-4d6f-8f5a-88eb114d731c"
      },
      "source": [
        "features"
      ],
      "execution_count": 71,
      "outputs": [
        {
          "output_type": "execute_result",
          "data": {
            "text/plain": [
              "Index(['Dst Port', 'Flow Duration', 'Fwd Pkt Len Max', 'Fwd Pkt Len Min',\n",
              "       'Fwd Pkt Len Mean', 'Fwd Pkt Len Std', 'Bwd Pkt Len Min',\n",
              "       'Bwd Pkt Len Std', 'Flow IAT Mean', 'Flow IAT Std', 'Flow IAT Max',\n",
              "       'Fwd IAT Mean', 'Fwd IAT Max', 'Fwd IAT Min', 'Bwd IAT Tot',\n",
              "       'Bwd IAT Mean', 'Bwd IAT Std', 'Bwd IAT Max', 'Bwd IAT Min',\n",
              "       'Pkt Len Min', 'Pkt Len Max', 'Pkt Len Std', 'RST Flag Cnt',\n",
              "       'PSH Flag Cnt', 'ECE Flag Cnt', 'Down/Up Ratio', 'Fwd Seg Size Avg',\n",
              "       'Init Fwd Win Byts', 'Init Bwd Win Byts', 'Fwd Seg Size Min',\n",
              "       'Active Mean', 'Active Std', 'Active Max', 'Active Min', 'Idle Mean',\n",
              "       'Idle Std', 'Idle Max', 'Idle Min', 'Protocol_6', 'Protocol_17'],\n",
              "      dtype='object')"
            ]
          },
          "metadata": {
            "tags": []
          },
          "execution_count": 71
        }
      ]
    },
    {
      "cell_type": "markdown",
      "metadata": {
        "id": "56d7MOotlxmm",
        "colab_type": "text"
      },
      "source": [
        "### With Feature Importance RandomForestClassifier"
      ]
    },
    {
      "cell_type": "code",
      "metadata": {
        "id": "NpKrOz5jeHFP",
        "colab_type": "code",
        "colab": {
          "base_uri": "https://localhost:8080/",
          "height": 329
        },
        "outputId": "b6b9f707-7f19-40c3-fe03-917ea913609d"
      },
      "source": [
        "fs = SelectFromModel(RandomForestClassifier())\n",
        "# learn relationship from training data\n",
        "fs.fit(all_data, all_labels)"
      ],
      "execution_count": 72,
      "outputs": [
        {
          "output_type": "execute_result",
          "data": {
            "text/plain": [
              "SelectFromModel(estimator=RandomForestClassifier(bootstrap=True, ccp_alpha=0.0,\n",
              "                                                 class_weight=None,\n",
              "                                                 criterion='gini',\n",
              "                                                 max_depth=None,\n",
              "                                                 max_features='auto',\n",
              "                                                 max_leaf_nodes=None,\n",
              "                                                 max_samples=None,\n",
              "                                                 min_impurity_decrease=0.0,\n",
              "                                                 min_impurity_split=None,\n",
              "                                                 min_samples_leaf=1,\n",
              "                                                 min_samples_split=2,\n",
              "                                                 min_weight_fraction_leaf=0.0,\n",
              "                                                 n_estimators=100, n_jobs=None,\n",
              "                                                 oob_score=False,\n",
              "                                                 random_state=None, verbose=0,\n",
              "                                                 warm_start=False),\n",
              "                max_features=None, norm_order=1, prefit=False, threshold=None)"
            ]
          },
          "metadata": {
            "tags": []
          },
          "execution_count": 72
        }
      ]
    },
    {
      "cell_type": "code",
      "metadata": {
        "id": "12YyeJ0RhrgD",
        "colab_type": "code",
        "colab": {}
      },
      "source": [
        "features3 = df_withoutLabel.columns[fs.get_support()]"
      ],
      "execution_count": 73,
      "outputs": []
    },
    {
      "cell_type": "code",
      "metadata": {
        "id": "J7xki7ggiEMm",
        "colab_type": "code",
        "colab": {
          "base_uri": "https://localhost:8080/",
          "height": 127
        },
        "outputId": "0cf9b71a-4bd9-42e7-8709-35873ec70ae7"
      },
      "source": [
        "features3"
      ],
      "execution_count": 74,
      "outputs": [
        {
          "output_type": "execute_result",
          "data": {
            "text/plain": [
              "Index(['Dst Port', 'Flow Duration', 'Tot Bwd Pkts', 'Flow Pkts/s',\n",
              "       'Flow IAT Mean', 'Flow IAT Max', 'Flow IAT Min', 'Fwd IAT Mean',\n",
              "       'Fwd IAT Max', 'Bwd IAT Mean', 'Bwd IAT Max', 'Fwd Header Len',\n",
              "       'Bwd Header Len', 'Fwd Pkts/s', 'Pkt Len Mean', 'Init Fwd Win Byts',\n",
              "       'Fwd Seg Size Min'],\n",
              "      dtype='object')"
            ]
          },
          "metadata": {
            "tags": []
          },
          "execution_count": 74
        }
      ]
    },
    {
      "cell_type": "markdown",
      "metadata": {
        "id": "dwCLBDx0lo9L",
        "colab_type": "text"
      },
      "source": [
        "### With Feature Importance LogisticRegression\n",
        "\n",
        "Failed....."
      ]
    },
    {
      "cell_type": "code",
      "metadata": {
        "id": "BGtZC2jtjXbF",
        "colab_type": "code",
        "colab": {
          "base_uri": "https://localhost:8080/",
          "height": 329
        },
        "outputId": "3ed1c4ae-d2cc-49c0-f2ab-387d66bd2d07"
      },
      "source": [
        "fs1 = SelectFromModel(LogisticRegression())\n",
        "fs1.fit(all_data, all_labels)"
      ],
      "execution_count": 75,
      "outputs": [
        {
          "output_type": "stream",
          "text": [
            "/usr/local/lib/python3.6/dist-packages/sklearn/linear_model/_logistic.py:940: ConvergenceWarning: lbfgs failed to converge (status=1):\n",
            "STOP: TOTAL NO. of ITERATIONS REACHED LIMIT.\n",
            "\n",
            "Increase the number of iterations (max_iter) or scale the data as shown in:\n",
            "    https://scikit-learn.org/stable/modules/preprocessing.html\n",
            "Please also refer to the documentation for alternative solver options:\n",
            "    https://scikit-learn.org/stable/modules/linear_model.html#logistic-regression\n",
            "  extra_warning_msg=_LOGISTIC_SOLVER_CONVERGENCE_MSG)\n"
          ],
          "name": "stderr"
        },
        {
          "output_type": "execute_result",
          "data": {
            "text/plain": [
              "SelectFromModel(estimator=LogisticRegression(C=1.0, class_weight=None,\n",
              "                                             dual=False, fit_intercept=True,\n",
              "                                             intercept_scaling=1, l1_ratio=None,\n",
              "                                             max_iter=100, multi_class='auto',\n",
              "                                             n_jobs=None, penalty='l2',\n",
              "                                             random_state=None, solver='lbfgs',\n",
              "                                             tol=0.0001, verbose=0,\n",
              "                                             warm_start=False),\n",
              "                max_features=None, norm_order=1, prefit=False, threshold=None)"
            ]
          },
          "metadata": {
            "tags": []
          },
          "execution_count": 75
        }
      ]
    },
    {
      "cell_type": "code",
      "metadata": {
        "id": "zbUfFu0ekW0J",
        "colab_type": "code",
        "colab": {}
      },
      "source": [
        "features2 = df_withoutLabel.columns[fs1.get_support()]"
      ],
      "execution_count": 76,
      "outputs": []
    },
    {
      "cell_type": "code",
      "metadata": {
        "id": "dlr3-29_keRe",
        "colab_type": "code",
        "colab": {
          "base_uri": "https://localhost:8080/",
          "height": 127
        },
        "outputId": "28121828-17ad-4f6b-eac0-c03115521097"
      },
      "source": [
        "features2"
      ],
      "execution_count": 77,
      "outputs": [
        {
          "output_type": "execute_result",
          "data": {
            "text/plain": [
              "Index(['Dst Port', 'Flow Duration', 'Flow Byts/s', 'Flow Pkts/s',\n",
              "       'Flow IAT Max', 'Fwd IAT Tot', 'Fwd IAT Mean', 'Fwd IAT Std',\n",
              "       'Fwd IAT Max', 'Fwd IAT Min', 'Bwd IAT Tot', 'Bwd IAT Mean',\n",
              "       'Bwd IAT Std', 'Bwd IAT Max', 'Bwd IAT Min', 'Fwd Pkts/s',\n",
              "       'Pkt Len Var', 'Active Min', 'Idle Mean', 'Idle Std', 'Idle Max'],\n",
              "      dtype='object')"
            ]
          },
          "metadata": {
            "tags": []
          },
          "execution_count": 77
        }
      ]
    },
    {
      "cell_type": "markdown",
      "metadata": {
        "id": "9bIehaNhmBhR",
        "colab_type": "text"
      },
      "source": [
        "### Selected Features"
      ]
    },
    {
      "cell_type": "code",
      "metadata": {
        "id": "a7TH_mNHke--",
        "colab_type": "code",
        "colab": {}
      },
      "source": [
        "selected_columns = ['Dst Port', 'Flow Duration', 'Fwd Pkt Len Max', 'Fwd Pkt Len Min',\n",
        "       'Fwd Pkt Len Mean', 'Fwd Pkt Len Std', 'Bwd Pkt Len Min',\n",
        "       'Bwd Pkt Len Std', 'Flow IAT Mean', 'Flow IAT Std', 'Flow IAT Max',\n",
        "       'Fwd IAT Mean', 'Fwd IAT Max', 'Fwd IAT Min', 'Bwd IAT Tot',\n",
        "       'Bwd IAT Mean', 'Bwd IAT Std', 'Bwd IAT Max', 'Bwd IAT Min',\n",
        "       'Pkt Len Min', 'Pkt Len Max', 'Pkt Len Std', 'RST Flag Cnt',\n",
        "       'PSH Flag Cnt', 'ECE Flag Cnt', 'Down/Up Ratio', 'Fwd Seg Size Avg',\n",
        "       'Init Fwd Win Byts', 'Init Bwd Win Byts', 'Fwd Seg Size Min',\n",
        "       'Active Mean', 'Active Std', 'Active Max', 'Active Min', 'Idle Mean',\n",
        "       'Idle Std', 'Idle Max', 'Idle Min', 'Protocol_6', 'Protocol_17']\n",
        "       "
      ],
      "execution_count": 78,
      "outputs": []
    },
    {
      "cell_type": "code",
      "metadata": {
        "id": "bMeU7peL4TIh",
        "colab_type": "code",
        "colab": {}
      },
      "source": [
        "selected_columns += ['Dst Port', 'Flow Duration', 'Tot Bwd Pkts', 'TotLen Bwd Pkts',\n",
        "       'Flow Pkts/s', 'Flow IAT Mean', 'Flow IAT Std', 'Flow IAT Max',\n",
        "       'Flow IAT Min', 'Fwd IAT Tot', 'Fwd IAT Mean', 'Fwd IAT Max',\n",
        "       'Fwd Header Len', 'Fwd Pkts/s', 'Subflow Bwd Pkts', 'Subflow Bwd Byts',\n",
        "       'Init Fwd Win Byts', 'Init Bwd Win Byts', 'Fwd Seg Size Min', 'URG Flag Cnt',\n",
        "       'SYN Flag Cnt', 'RST Flag Cnt', 'PSH Flag Cnt', 'Pkt Size Avg', 'Protocol_0',\n",
        "       'Flow Pkts/s', 'FIN Flag Cnt', 'ECE Flag Cnt',  'ACK Flag Cnt']"
      ],
      "execution_count": 79,
      "outputs": []
    },
    {
      "cell_type": "code",
      "metadata": {
        "id": "ARoiovMm4-0I",
        "colab_type": "code",
        "colab": {}
      },
      "source": [
        "res_feature_list = list(set(selected_columns))"
      ],
      "execution_count": 80,
      "outputs": []
    },
    {
      "cell_type": "code",
      "metadata": {
        "id": "zaMxZceq5S9c",
        "colab_type": "code",
        "colab": {
          "base_uri": "https://localhost:8080/",
          "height": 74
        },
        "outputId": "877ccd8e-5a60-4d67-dde6-5ba0e126b124"
      },
      "source": [
        "print(len(res_feature_list))\n",
        "print(res_feature_list)"
      ],
      "execution_count": 81,
      "outputs": [
        {
          "output_type": "stream",
          "text": [
            "55\n",
            "['Fwd Pkt Len Std', 'Bwd IAT Mean', 'Subflow Bwd Pkts', 'Fwd IAT Max', 'Pkt Len Max', 'Bwd IAT Std', 'Flow Pkts/s', 'Active Max', 'Flow IAT Mean', 'Init Fwd Win Byts', 'PSH Flag Cnt', 'Bwd IAT Min', 'Protocol_6', 'Bwd IAT Tot', 'Flow Duration', 'Active Min', 'URG Flag Cnt', 'Fwd IAT Mean', 'SYN Flag Cnt', 'ACK Flag Cnt', 'Fwd Pkt Len Max', 'Fwd Seg Size Avg', 'Active Mean', 'Idle Max', 'Fwd IAT Tot', 'Pkt Size Avg', 'Down/Up Ratio', 'Active Std', 'Fwd Pkt Len Mean', 'TotLen Bwd Pkts', 'Subflow Bwd Byts', 'RST Flag Cnt', 'Idle Std', 'Dst Port', 'Tot Bwd Pkts', 'Pkt Len Min', 'Flow IAT Min', 'Pkt Len Std', 'Bwd Pkt Len Min', 'Protocol_0', 'Fwd Seg Size Min', 'FIN Flag Cnt', 'Idle Min', 'Bwd IAT Max', 'ECE Flag Cnt', 'Idle Mean', 'Fwd IAT Min', 'Flow IAT Max', 'Fwd Pkt Len Min', 'Fwd Pkts/s', 'Init Bwd Win Byts', 'Fwd Header Len', 'Protocol_17', 'Flow IAT Std', 'Bwd Pkt Len Std']\n"
          ],
          "name": "stdout"
        }
      ]
    },
    {
      "cell_type": "code",
      "metadata": {
        "id": "TsqOuZtq5bn9",
        "colab_type": "code",
        "colab": {
          "base_uri": "https://localhost:8080/",
          "height": 1000
        },
        "outputId": "797cd44a-6493-411a-e3fd-71eb73c007d0"
      },
      "source": [
        "final_df = df.drop('Label', axis = 1)\n",
        "final_df = final_df[res_feature_list]\n",
        "final_df.info(verbose=True)"
      ],
      "execution_count": 82,
      "outputs": [
        {
          "output_type": "stream",
          "text": [
            "<class 'pandas.core.frame.DataFrame'>\n",
            "Int64Index: 1040548 entries, 0 to 1048574\n",
            "Data columns (total 55 columns):\n",
            " #   Column             Non-Null Count    Dtype  \n",
            "---  ------             --------------    -----  \n",
            " 0   Fwd Pkt Len Std    1040548 non-null  float64\n",
            " 1   Bwd IAT Mean       1040548 non-null  float64\n",
            " 2   Subflow Bwd Pkts   1040548 non-null  int64  \n",
            " 3   Fwd IAT Max        1040548 non-null  int64  \n",
            " 4   Pkt Len Max        1040548 non-null  int64  \n",
            " 5   Bwd IAT Std        1040548 non-null  float64\n",
            " 6   Flow Pkts/s        1040548 non-null  float64\n",
            " 7   Active Max         1040548 non-null  int64  \n",
            " 8   Flow IAT Mean      1040548 non-null  float64\n",
            " 9   Init Fwd Win Byts  1040548 non-null  int64  \n",
            " 10  PSH Flag Cnt       1040548 non-null  int64  \n",
            " 11  Bwd IAT Min        1040548 non-null  int64  \n",
            " 12  Protocol_6         1040548 non-null  uint8  \n",
            " 13  Bwd IAT Tot        1040548 non-null  int64  \n",
            " 14  Flow Duration      1040548 non-null  int64  \n",
            " 15  Active Min         1040548 non-null  int64  \n",
            " 16  URG Flag Cnt       1040548 non-null  int64  \n",
            " 17  Fwd IAT Mean       1040548 non-null  float64\n",
            " 18  SYN Flag Cnt       1040548 non-null  int64  \n",
            " 19  ACK Flag Cnt       1040548 non-null  int64  \n",
            " 20  Fwd Pkt Len Max    1040548 non-null  int64  \n",
            " 21  Fwd Seg Size Avg   1040548 non-null  float64\n",
            " 22  Active Mean        1040548 non-null  float64\n",
            " 23  Idle Max           1040548 non-null  int64  \n",
            " 24  Fwd IAT Tot        1040548 non-null  int64  \n",
            " 25  Pkt Size Avg       1040548 non-null  float64\n",
            " 26  Down/Up Ratio      1040548 non-null  int64  \n",
            " 27  Active Std         1040548 non-null  float64\n",
            " 28  Fwd Pkt Len Mean   1040548 non-null  float64\n",
            " 29  TotLen Bwd Pkts    1040548 non-null  int64  \n",
            " 30  Subflow Bwd Byts   1040548 non-null  int64  \n",
            " 31  RST Flag Cnt       1040548 non-null  int64  \n",
            " 32  Idle Std           1040548 non-null  float64\n",
            " 33  Dst Port           1040548 non-null  int64  \n",
            " 34  Tot Bwd Pkts       1040548 non-null  int64  \n",
            " 35  Pkt Len Min        1040548 non-null  int64  \n",
            " 36  Flow IAT Min       1040548 non-null  int64  \n",
            " 37  Pkt Len Std        1040548 non-null  float64\n",
            " 38  Bwd Pkt Len Min    1040548 non-null  int64  \n",
            " 39  Protocol_0         1040548 non-null  uint8  \n",
            " 40  Fwd Seg Size Min   1040548 non-null  int64  \n",
            " 41  FIN Flag Cnt       1040548 non-null  int64  \n",
            " 42  Idle Min           1040548 non-null  int64  \n",
            " 43  Bwd IAT Max        1040548 non-null  int64  \n",
            " 44  ECE Flag Cnt       1040548 non-null  int64  \n",
            " 45  Idle Mean          1040548 non-null  float64\n",
            " 46  Fwd IAT Min        1040548 non-null  int64  \n",
            " 47  Flow IAT Max       1040548 non-null  int64  \n",
            " 48  Fwd Pkt Len Min    1040548 non-null  int64  \n",
            " 49  Fwd Pkts/s         1040548 non-null  float64\n",
            " 50  Init Bwd Win Byts  1040548 non-null  int64  \n",
            " 51  Fwd Header Len     1040548 non-null  int64  \n",
            " 52  Protocol_17        1040548 non-null  uint8  \n",
            " 53  Flow IAT Std       1040548 non-null  float64\n",
            " 54  Bwd Pkt Len Std    1040548 non-null  float64\n",
            "dtypes: float64(17), int64(35), uint8(3)\n",
            "memory usage: 423.7 MB\n"
          ],
          "name": "stdout"
        }
      ]
    },
    {
      "cell_type": "code",
      "metadata": {
        "id": "j5Wb9ubd5w3T",
        "colab_type": "code",
        "colab": {}
      },
      "source": [
        "final_df_vals = final_df.values"
      ],
      "execution_count": 83,
      "outputs": []
    },
    {
      "cell_type": "code",
      "metadata": {
        "id": "ekkGSigL52Zt",
        "colab_type": "code",
        "colab": {}
      },
      "source": [
        "#np.savetxt(path+\"ids2018-thursday_final_df.txt\", final_df_vals)\n",
        "#np.savetxt(path+\"ids2018-thursday_final_df_labels.txt\", all_labels)"
      ],
      "execution_count": 84,
      "outputs": []
    },
    {
      "cell_type": "code",
      "metadata": {
        "id": "0pQK_kfX7Rxy",
        "colab_type": "code",
        "colab": {}
      },
      "source": [
        ""
      ],
      "execution_count": 84,
      "outputs": []
    }
  ]
}